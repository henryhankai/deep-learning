{
 "cells": [
  {
   "cell_type": "markdown",
   "metadata": {},
   "source": [
    "# Henry Gu - Advanced Machine Learning Assignment 5 - Ensemble Networks / Fashion MNIST Image Classification"
   ]
  },
  {
   "cell_type": "markdown",
   "metadata": {},
   "source": [
    "Submitted the best scording model of the class with a Scoring Set Log Loss = 0.15751827840628077"
   ]
  },
  {
   "cell_type": "markdown",
   "metadata": {},
   "source": [
    "Welcome to the final assignment in this course. It's been a long journey, but you are now ready to unleash the powers of neural networks at any task. In this assignment, we will be working with a collection of apparel and accessories images. Big online retailers routinely have to classify images provided by third-parties. Your task is to build a neural network that can classify theese images into one of 10 classes with the highest possible accuracy, and document your model's salient properties.\n",
    "\n",
    "This assignment can be divided into the following sections:\n",
    "1. downloading data\n",
    "2. exploratory data analysis\n",
    "3. data preprocessing\n",
    "4. building and training\n",
    "5. saving the model and predictions"
   ]
  },
  {
   "cell_type": "code",
   "execution_count": 1,
   "metadata": {},
   "outputs": [],
   "source": [
    "import pandas as pd\n",
    "import numpy as np\n",
    "import math\n",
    "import matplotlib.pyplot as plt\n",
    "import seaborn as sns\n",
    "sns.set_context('talk')\n",
    "%config InlineBackend.figure_format = 'retina'"
   ]
  },
  {
   "cell_type": "code",
   "execution_count": 2,
   "metadata": {},
   "outputs": [
    {
     "name": "stderr",
     "output_type": "stream",
     "text": [
      "2021-10-31 02:20:45.313096: I tensorflow/stream_executor/platform/default/dso_loader.cc:44] Successfully opened dynamic library libcuda.so.1\n",
      "2021-10-31 02:20:45.361857: I tensorflow/stream_executor/cuda/cuda_gpu_executor.cc:981] successful NUMA node read from SysFS had negative value (-1), but there must be at least one NUMA node, so returning NUMA node zero\n",
      "2021-10-31 02:20:45.362657: I tensorflow/core/common_runtime/gpu/gpu_device.cc:1561] Found device 0 with properties: \n",
      "pciBusID: 0000:00:1e.0 name: Tesla K80 computeCapability: 3.7\n",
      "coreClock: 0.8235GHz coreCount: 13 deviceMemorySize: 11.17GiB deviceMemoryBandwidth: 223.96GiB/s\n",
      "2021-10-31 02:20:45.362880: I tensorflow/stream_executor/platform/default/dso_loader.cc:44] Successfully opened dynamic library libcudart.so.10.1\n",
      "2021-10-31 02:20:45.364853: I tensorflow/stream_executor/platform/default/dso_loader.cc:44] Successfully opened dynamic library libcublas.so.10\n",
      "2021-10-31 02:20:45.366675: I tensorflow/stream_executor/platform/default/dso_loader.cc:44] Successfully opened dynamic library libcufft.so.10\n",
      "2021-10-31 02:20:45.366956: I tensorflow/stream_executor/platform/default/dso_loader.cc:44] Successfully opened dynamic library libcurand.so.10\n",
      "2021-10-31 02:20:45.368983: I tensorflow/stream_executor/platform/default/dso_loader.cc:44] Successfully opened dynamic library libcusolver.so.10\n",
      "2021-10-31 02:20:45.370092: I tensorflow/stream_executor/platform/default/dso_loader.cc:44] Successfully opened dynamic library libcusparse.so.10\n",
      "2021-10-31 02:20:45.374452: I tensorflow/stream_executor/platform/default/dso_loader.cc:44] Successfully opened dynamic library libcudnn.so.7\n",
      "2021-10-31 02:20:45.374596: I tensorflow/stream_executor/cuda/cuda_gpu_executor.cc:981] successful NUMA node read from SysFS had negative value (-1), but there must be at least one NUMA node, so returning NUMA node zero\n",
      "2021-10-31 02:20:45.375429: I tensorflow/stream_executor/cuda/cuda_gpu_executor.cc:981] successful NUMA node read from SysFS had negative value (-1), but there must be at least one NUMA node, so returning NUMA node zero\n",
      "2021-10-31 02:20:45.376161: I tensorflow/core/common_runtime/gpu/gpu_device.cc:1703] Adding visible gpu devices: 0\n"
     ]
    }
   ],
   "source": [
    "# This configures the GPU to be used by Tensorflow.\n",
    "\n",
    "import tensorflow as tf\n",
    "gpus = tf.config.experimental.list_physical_devices('GPU')\n",
    "tf.config.experimental.set_memory_growth(gpus[0], True)"
   ]
  },
  {
   "cell_type": "markdown",
   "metadata": {},
   "source": [
    "# Step 1: Download Data\n",
    "\n",
    "The dataset is has been split into train (49k), validate (7k), test (7k), score (7k) segments.\n",
    "No other data preprocessing was applied."
   ]
  },
  {
   "cell_type": "code",
   "execution_count": 3,
   "metadata": {},
   "outputs": [],
   "source": [
    "%%capture\n",
    "\n",
    "## prefix redacted for privacy\n",
    "\n",
    "# Feature variables for train, validate, and test segments\n",
    "train_x = pd.read_parquet(f'{prefix}/train_x.parquet')\n",
    "validate_x = pd.read_parquet(f'{prefix}/validate_x.parquet')\n",
    "test_x = pd.read_parquet(f'{prefix}/test_x.parquet')\n",
    "\n",
    "# Target variable to be predicted by the model for each segment\n",
    "train_y = pd.read_parquet(f'{prefix}/train_y.parquet')\n",
    "validate_y = pd.read_parquet(f'{prefix}/validate_y.parquet')\n",
    "test_y = pd.read_parquet(f'{prefix}/test_y.parquet')\n",
    "\n",
    "# This is the segment which you will be graded on\n",
    "score_x = pd.read_parquet(f'{prefix}/score_x.parquet')"
   ]
  },
  {
   "cell_type": "code",
   "execution_count": 4,
   "metadata": {},
   "outputs": [
    {
     "data": {
      "text/html": [
       "<div>\n",
       "<style scoped>\n",
       "    .dataframe tbody tr th:only-of-type {\n",
       "        vertical-align: middle;\n",
       "    }\n",
       "\n",
       "    .dataframe tbody tr th {\n",
       "        vertical-align: top;\n",
       "    }\n",
       "\n",
       "    .dataframe thead th {\n",
       "        text-align: right;\n",
       "    }\n",
       "</style>\n",
       "<table border=\"1\" class=\"dataframe\">\n",
       "  <thead>\n",
       "    <tr style=\"text-align: right;\">\n",
       "      <th></th>\n",
       "      <th>label</th>\n",
       "    </tr>\n",
       "    <tr>\n",
       "      <th>class_id</th>\n",
       "      <th></th>\n",
       "    </tr>\n",
       "  </thead>\n",
       "  <tbody>\n",
       "    <tr>\n",
       "      <th>0</th>\n",
       "      <td>T-shirt/top</td>\n",
       "    </tr>\n",
       "    <tr>\n",
       "      <th>1</th>\n",
       "      <td>Trouser</td>\n",
       "    </tr>\n",
       "    <tr>\n",
       "      <th>2</th>\n",
       "      <td>Pullover</td>\n",
       "    </tr>\n",
       "    <tr>\n",
       "      <th>3</th>\n",
       "      <td>Dress</td>\n",
       "    </tr>\n",
       "    <tr>\n",
       "      <th>4</th>\n",
       "      <td>Coat</td>\n",
       "    </tr>\n",
       "    <tr>\n",
       "      <th>5</th>\n",
       "      <td>Sandal</td>\n",
       "    </tr>\n",
       "    <tr>\n",
       "      <th>6</th>\n",
       "      <td>Shirt</td>\n",
       "    </tr>\n",
       "    <tr>\n",
       "      <th>7</th>\n",
       "      <td>Sneaker</td>\n",
       "    </tr>\n",
       "    <tr>\n",
       "      <th>8</th>\n",
       "      <td>Bag</td>\n",
       "    </tr>\n",
       "    <tr>\n",
       "      <th>9</th>\n",
       "      <td>Ankle boot</td>\n",
       "    </tr>\n",
       "  </tbody>\n",
       "</table>\n",
       "</div>"
      ],
      "text/plain": [
       "                label\n",
       "class_id             \n",
       "0         T-shirt/top\n",
       "1             Trouser\n",
       "2            Pullover\n",
       "3               Dress\n",
       "4                Coat\n",
       "5              Sandal\n",
       "6               Shirt\n",
       "7             Sneaker\n",
       "8                 Bag\n",
       "9          Ankle boot"
      ]
     },
     "execution_count": 4,
     "metadata": {},
     "output_type": "execute_result"
    }
   ],
   "source": [
    "classes = [\n",
    "    'T-shirt/top',\n",
    "    'Trouser',\n",
    "    'Pullover',\n",
    "    'Dress',\n",
    "    'Coat',\n",
    "    'Sandal',\n",
    "    'Shirt',\n",
    "    'Sneaker',\n",
    "    'Bag',\n",
    "    'Ankle boot',\n",
    "]\n",
    "classes = pd.DataFrame(\n",
    "    data={\n",
    "        'label': classes\n",
    "    }\n",
    ")\n",
    "classes.index.name = 'class_id'\n",
    "classes"
   ]
  },
  {
   "cell_type": "markdown",
   "metadata": {},
   "source": [
    "# Step 2: Exploratory Data Analysis\n",
    "\n",
    "Before building a model, it's a good idea to take a look at the data.\n",
    "Here are some suggested ideas to explore:\n",
    "* Display the dataset's shape, mean, value ranges, and other simple statistics.\n",
    "* Estimate the distribution of classes.\n",
    "* Calcualte baseline model metrics (cross-entropy, accuracy, etc). Without a baseline, there is no meaningful point of reference to measure the success of a model or its attributes. Baseline models can be non-parametric (for this dataset, kNN would be the easiest to build), and parametric (unconditional mean, linear regression, random forest classifier, etc)."
   ]
  },
  {
   "cell_type": "code",
   "execution_count": 5,
   "metadata": {},
   "outputs": [
    {
     "data": {
      "text/plain": [
       "((49000, 784), (49000, 1), (7000, 784), (7000, 1), (7000, 784), (7000, 1))"
      ]
     },
     "execution_count": 5,
     "metadata": {},
     "output_type": "execute_result"
    }
   ],
   "source": [
    "# Shape of data\n",
    "train_x.shape, train_y.shape, validate_x.shape, validate_y.shape, test_x.shape, test_y.shape"
   ]
  },
  {
   "cell_type": "code",
   "execution_count": 6,
   "metadata": {},
   "outputs": [
    {
     "data": {
      "text/plain": [
       "<AxesSubplot:>"
      ]
     },
     "execution_count": 6,
     "metadata": {},
     "output_type": "execute_result"
    },
    {
     "data": {
      "image/png": "[encoded data removed]",
      "text/plain": [
       "<Figure size 432x288 with 1 Axes>"
      ]
     },
     "metadata": {
      "image/png": {
       "height": 260,
       "width": 403
      },
      "needs_background": "light"
     },
     "output_type": "display_data"
    }
   ],
   "source": [
    "# Distribution of y labels in training\n",
    "train_y['label'].hist()"
   ]
  },
  {
   "cell_type": "code",
   "execution_count": 7,
   "metadata": {},
   "outputs": [
    {
     "data": {
      "image/png": "[encoded data removed]",
      "text/plain": [
       "<Figure size 648x864 with 10 Axes>"
      ]
     },
     "metadata": {
      "image/png": {
       "height": 839,
       "width": 603
      }
     },
     "output_type": "display_data"
    }
   ],
   "source": [
    "# This cell is plotting a random sample from each class.\n",
    "\n",
    "n = classes.shape[0]\n",
    "ncols = 3\n",
    "nrows = math.ceil(n/ncols)\n",
    "\n",
    "plt.figure(figsize=[3*ncols, 3*nrows])\n",
    "for idx, cl in classes['label'].iteritems():\n",
    "    plt.subplot(nrows, ncols, idx+1)\n",
    "    \n",
    "    img = train_x.loc[train_y['label'] == idx].sample(1)\n",
    "    img = img.values.reshape(28, 28)\n",
    "    plt.imshow(img, cmap='binary')\n",
    "    \n",
    "    plt.title(classes.loc[idx, 'label'])\n",
    "    plt.xticks([])\n",
    "    plt.yticks([])\n",
    "    \n",
    "plt.tight_layout()\n",
    "plt.show()"
   ]
  },
  {
   "cell_type": "markdown",
   "metadata": {},
   "source": [
    "## Baseline Model"
   ]
  },
  {
   "cell_type": "code",
   "execution_count": 8,
   "metadata": {},
   "outputs": [
    {
     "name": "stderr",
     "output_type": "stream",
     "text": [
      "/home/ec2-user/SageMaker/setup/miniconda/envs/ucla_deeplearning/lib/python3.8/site-packages/sklearn/neighbors/_classification.py:179: DataConversionWarning: A column-vector y was passed when a 1d array was expected. Please change the shape of y to (n_samples,), for example using ravel().\n",
      "  return self._fit(X, y)\n"
     ]
    },
    {
     "data": {
      "text/plain": [
       "KNeighborsClassifier()"
      ]
     },
     "execution_count": 8,
     "metadata": {},
     "output_type": "execute_result"
    }
   ],
   "source": [
    "from sklearn.neighbors import KNeighborsClassifier\n",
    "knn = KNeighborsClassifier(n_neighbors=5)\n",
    "knn.fit(train_x, train_y)"
   ]
  },
  {
   "cell_type": "code",
   "execution_count": 9,
   "metadata": {},
   "outputs": [
    {
     "name": "stdout",
     "output_type": "stream",
     "text": [
      "Training set accuracy: 0.8960408163265307\n",
      "Validation set accuracy: 0.8538571428571429\n",
      "Test set accuracy: 0.8505714285714285\n"
     ]
    }
   ],
   "source": [
    "from sklearn.metrics import accuracy_score\n",
    "\n",
    "print('Training set accuracy:', accuracy_score(train_y, knn.predict(train_x)))\n",
    "print('Validation set accuracy:',accuracy_score(validate_y, knn.predict(validate_x)))\n",
    "print('Test set accuracy:',accuracy_score(test_y, knn.predict(test_x)))"
   ]
  },
  {
   "cell_type": "markdown",
   "metadata": {},
   "source": [
    "Thus our model should reach at least a prediction of 85% accuracy or higher"
   ]
  },
  {
   "cell_type": "markdown",
   "metadata": {},
   "source": [
    "# Step 3: Data Preprocessing\n",
    "\n",
    "Next step is to transform the dataset for training. You are free to do any preprocesing that you would like.\n",
    "Here are some suggestions that might or might not be useful for your model:\n",
    "* standard scaling of the feature variables\n",
    "* one-hot-encoding of the target variable\n",
    "* reshaping the feature variables from 1D to 2D\n",
    "\n",
    "And relevant documentation:\n",
    "* https://scikit-learn.org/stable/modules/generated/sklearn.preprocessing.StandardScaler.html\n",
    "* https://scikit-learn.org/stable/modules/generated/sklearn.preprocessing.OneHotEncoder.html\n",
    "* https://docs.scipy.org/doc/numpy/reference/generated/numpy.reshape.html"
   ]
  },
  {
   "cell_type": "markdown",
   "metadata": {},
   "source": [
    "## OneHotEncode labels"
   ]
  },
  {
   "cell_type": "code",
   "execution_count": 10,
   "metadata": {},
   "outputs": [
    {
     "data": {
      "text/plain": [
       "((49000, 10), (7000, 10), (7000, 10))"
      ]
     },
     "execution_count": 10,
     "metadata": {},
     "output_type": "execute_result"
    }
   ],
   "source": [
    "from sklearn.preprocessing import OneHotEncoder\n",
    "OHE = OneHotEncoder(sparse=False).fit(np.array(range(10)).reshape(-1,1))\n",
    "train_y_OH = OHE.transform(train_y)\n",
    "validate_y_OH = OHE.transform(validate_y)\n",
    "test_y_OH = OHE.transform(test_y)\n",
    "\n",
    "train_y_OH.shape, validate_y_OH.shape, test_y_OH.shape"
   ]
  },
  {
   "cell_type": "code",
   "execution_count": 11,
   "metadata": {},
   "outputs": [
    {
     "data": {
      "text/plain": [
       "(array([[0., 0., 1., 0., 0., 0., 0., 0., 0., 0.],\n",
       "        [0., 0., 0., 0., 0., 0., 0., 0., 0., 1.],\n",
       "        [0., 0., 0., 0., 0., 0., 1., 0., 0., 0.],\n",
       "        [1., 0., 0., 0., 0., 0., 0., 0., 0., 0.],\n",
       "        [0., 0., 0., 1., 0., 0., 0., 0., 0., 0.],\n",
       "        [0., 0., 0., 0., 1., 0., 0., 0., 0., 0.],\n",
       "        [0., 0., 0., 0., 1., 0., 0., 0., 0., 0.],\n",
       "        [0., 0., 0., 0., 0., 1., 0., 0., 0., 0.],\n",
       "        [0., 0., 0., 0., 1., 0., 0., 0., 0., 0.],\n",
       "        [0., 0., 0., 0., 0., 0., 0., 0., 1., 0.]]),\n",
       "    label\n",
       " 0      2\n",
       " 1      9\n",
       " 2      6\n",
       " 3      0\n",
       " 4      3\n",
       " 5      4\n",
       " 6      4\n",
       " 7      5\n",
       " 8      4\n",
       " 9      8)"
      ]
     },
     "execution_count": 11,
     "metadata": {},
     "output_type": "execute_result"
    }
   ],
   "source": [
    "train_y_OH[:10], train_y[:10]"
   ]
  },
  {
   "cell_type": "markdown",
   "metadata": {},
   "source": [
    "## Scale x values"
   ]
  },
  {
   "cell_type": "code",
   "execution_count": 34,
   "metadata": {},
   "outputs": [
    {
     "name": "stdout",
     "output_type": "stream",
     "text": [
      "Pre-transformation:\n",
      " [  0  45 227 204 214 211 218 222 221 230 229 221 213 224 233 226 220 219\n",
      " 221 224 223 217 210 218 213 254   0   0]\n",
      "Post-transformation:\n",
      " [-1.         -0.64705882  0.78039216  0.6         0.67843137  0.65490196\n",
      "  0.70980392  0.74117647  0.73333333  0.80392157  0.79607843  0.73333333\n",
      "  0.67058824  0.75686275  0.82745098  0.77254902  0.7254902   0.71764706\n",
      "  0.73333333  0.75686275  0.74901961  0.70196078  0.64705882  0.70980392\n",
      "  0.67058824  0.99215686 -1.         -1.        ]\n"
     ]
    },
    {
     "data": {
      "text/plain": [
       "((49000, 28, 28, 1), (7000, 28, 28, 1), (7000, 28, 28, 1))"
      ]
     },
     "execution_count": 34,
     "metadata": {},
     "output_type": "execute_result"
    }
   ],
   "source": [
    "train_x_scaled = train_x / 127.5 - 1\n",
    "validate_x_scaled = validate_x / 127.5 - 1\n",
    "test_x_scaled = test_x / 127.5 - 1\n",
    "score_x_scaled = score_x / 127.5 - 1\n",
    "\n",
    "train_x_scaled = train_x_scaled.values.reshape(-1,28,28,1)\n",
    "validate_x_scaled = validate_x_scaled.values.reshape(-1,28,28,1)\n",
    "test_x_scaled = test_x_scaled.values.reshape(-1,28,28,1)\n",
    "score_x_scaled = score_x_scaled.values.reshape(-1,28,28,1)\n",
    "\n",
    "print('Pre-transformation:\\n', train_x.values.reshape(-1,28,28,1)[0,14,:,0])\n",
    "print('Post-transformation:\\n', train_x_scaled[0,14,:,0])\n",
    "train_x_scaled.shape, validate_x_scaled.shape, test_x_scaled.shape"
   ]
  },
  {
   "cell_type": "markdown",
   "metadata": {},
   "source": [
    "# Step 4: Building and training\n",
    "\n",
    "Here comes the most challenging part. Are you ready to unleash the power of neural networks?\n",
    "You can refer to the slides and discussion in the first lecture on hyperparameter optimization, random search, and greedy search."
   ]
  },
  {
   "cell_type": "markdown",
   "metadata": {},
   "source": [
    "## Define functions to build and train models"
   ]
  },
  {
   "cell_type": "code",
   "execution_count": 13,
   "metadata": {},
   "outputs": [],
   "source": [
    "from tensorflow.keras.layers import Input, Dense, Conv2D, BatchNormalization, MaxPooling2D, AveragePooling2D, GlobalAveragePooling2D, Dropout, Activation, Flatten\n",
    "from tensorflow.keras.callbacks import EarlyStopping, ModelCheckpoint\n",
    "from tensorflow.keras.models import Sequential\n",
    "from tensorflow.keras import optimizers\n",
    "from tensorflow.python import GlorotUniform\n",
    "from sklearn.metrics import accuracy_score\n",
    "\n",
    "def build_model(seed, lr=0.001):\n",
    "\n",
    "    layers = [\n",
    "        Conv2D(64, kernel_size=2, activation='relu', padding = 'same', input_shape=(28,28,1), kernel_initializer=GlorotUniform(seed=seed)),\n",
    "        Conv2D(64, 2, activation='relu', padding = 'same', kernel_initializer=GlorotUniform(seed=seed+1)),\n",
    "        MaxPooling2D(pool_size=2, strides=2),\n",
    "        Dropout(0.3),\n",
    "        Conv2D(128, 2, activation='relu', padding = 'same', kernel_initializer=GlorotUniform(seed=seed+2)),\n",
    "        Conv2D(128, 2, activation='relu', padding = 'same', kernel_initializer=GlorotUniform(seed=seed+3)),\n",
    "        MaxPooling2D(pool_size=2, strides=2),\n",
    "        Dropout(0.3),\n",
    "        Flatten(),\n",
    "        Dense(256, activation='relu', kernel_initializer=GlorotUniform(seed=seed+6)),\n",
    "        Dropout(0.5),\n",
    "        Dense(10, activation='softmax', kernel_initializer=GlorotUniform(seed=seed+7))\n",
    "    ]\n",
    "\n",
    "    model = Sequential(layers)\n",
    "\n",
    "    model.compile(\n",
    "        optimizer=optimizers.Adam(lr=lr), \n",
    "        loss='categorical_crossentropy',\n",
    "        metrics=['accuracy']\n",
    "    )\n",
    "    \n",
    "    return model\n",
    "\n",
    "checkpoint_filepath = 'tmp/checkpoint'\n",
    "verbose = 0\n",
    "\n",
    "def train_model(model, x, y, epochs, batch_size, val_x, val_y, seed):\n",
    "    np.random.seed(seed)\n",
    "    tf.random.set_seed(seed)\n",
    "    \n",
    "    history = model.fit(\n",
    "        x=x, \n",
    "        y=y, \n",
    "        epochs=epochs,\n",
    "        batch_size=batch_size,\n",
    "        shuffle=True,\n",
    "        validation_data=(val_x, val_y),\n",
    "        callbacks=[\n",
    "            ModelCheckpoint(\n",
    "                filepath=checkpoint_filepath,\n",
    "                monitor=\"val_loss\",\n",
    "                save_best_only=True,\n",
    "                save_weights_only=True,\n",
    "                mode=\"min\",\n",
    "                verbose=verbose\n",
    "            ),\n",
    "            EarlyStopping(\n",
    "                patience=8,\n",
    "                verbose=verbose\n",
    "            )\n",
    "        ],\n",
    "        verbose=verbose\n",
    "    )\n",
    "    return history\n",
    "\n",
    "def get_accuracy(model, test_x, test_y):\n",
    "    y_pred = model.predict(test_x)\n",
    "    y_pred = np.argmax(y_pred, axis=1)\n",
    "    return accuracy_score(test_y, y_pred)"
   ]
  },
  {
   "cell_type": "markdown",
   "metadata": {},
   "source": [
    "## Create the Ensemble Network"
   ]
  },
  {
   "cell_type": "code",
   "execution_count": 14,
   "metadata": {},
   "outputs": [
    {
     "name": "stdout",
     "output_type": "stream",
     "text": [
      "Training model: 0\n"
     ]
    },
    {
     "name": "stderr",
     "output_type": "stream",
     "text": [
      "2021-10-31 02:23:15.594611: I tensorflow/core/platform/cpu_feature_guard.cc:143] Your CPU supports instructions that this TensorFlow binary was not compiled to use: SSE4.1 SSE4.2 AVX AVX2 FMA\n",
      "2021-10-31 02:23:15.620824: I tensorflow/core/platform/profile_utils/cpu_utils.cc:102] CPU Frequency: 2300010000 Hz\n",
      "2021-10-31 02:23:15.621193: I tensorflow/compiler/xla/service/service.cc:168] XLA service 0x55628d5d1ff0 initialized for platform Host (this does not guarantee that XLA will be used). Devices:\n",
      "2021-10-31 02:23:15.621217: I tensorflow/compiler/xla/service/service.cc:176]   StreamExecutor device (0): Host, Default Version\n",
      "2021-10-31 02:23:15.621544: I tensorflow/stream_executor/cuda/cuda_gpu_executor.cc:981] successful NUMA node read from SysFS had negative value (-1), but there must be at least one NUMA node, so returning NUMA node zero\n",
      "2021-10-31 02:23:15.622359: I tensorflow/core/common_runtime/gpu/gpu_device.cc:1561] Found device 0 with properties: \n",
      "pciBusID: 0000:00:1e.0 name: Tesla K80 computeCapability: 3.7\n",
      "coreClock: 0.8235GHz coreCount: 13 deviceMemorySize: 11.17GiB deviceMemoryBandwidth: 223.96GiB/s\n",
      "2021-10-31 02:23:15.622420: I tensorflow/stream_executor/platform/default/dso_loader.cc:44] Successfully opened dynamic library libcudart.so.10.1\n",
      "2021-10-31 02:23:15.622444: I tensorflow/stream_executor/platform/default/dso_loader.cc:44] Successfully opened dynamic library libcublas.so.10\n",
      "2021-10-31 02:23:15.622464: I tensorflow/stream_executor/platform/default/dso_loader.cc:44] Successfully opened dynamic library libcufft.so.10\n",
      "2021-10-31 02:23:15.622486: I tensorflow/stream_executor/platform/default/dso_loader.cc:44] Successfully opened dynamic library libcurand.so.10\n",
      "2021-10-31 02:23:15.622507: I tensorflow/stream_executor/platform/default/dso_loader.cc:44] Successfully opened dynamic library libcusolver.so.10\n",
      "2021-10-31 02:23:15.622528: I tensorflow/stream_executor/platform/default/dso_loader.cc:44] Successfully opened dynamic library libcusparse.so.10\n",
      "2021-10-31 02:23:15.622549: I tensorflow/stream_executor/platform/default/dso_loader.cc:44] Successfully opened dynamic library libcudnn.so.7\n",
      "2021-10-31 02:23:15.622631: I tensorflow/stream_executor/cuda/cuda_gpu_executor.cc:981] successful NUMA node read from SysFS had negative value (-1), but there must be at least one NUMA node, so returning NUMA node zero\n",
      "2021-10-31 02:23:15.623441: I tensorflow/stream_executor/cuda/cuda_gpu_executor.cc:981] successful NUMA node read from SysFS had negative value (-1), but there must be at least one NUMA node, so returning NUMA node zero\n",
      "2021-10-31 02:23:15.624171: I tensorflow/core/common_runtime/gpu/gpu_device.cc:1703] Adding visible gpu devices: 0\n",
      "2021-10-31 02:23:15.624217: I tensorflow/stream_executor/platform/default/dso_loader.cc:44] Successfully opened dynamic library libcudart.so.10.1\n",
      "2021-10-31 02:23:15.680801: I tensorflow/core/common_runtime/gpu/gpu_device.cc:1102] Device interconnect StreamExecutor with strength 1 edge matrix:\n",
      "2021-10-31 02:23:15.680826: I tensorflow/core/common_runtime/gpu/gpu_device.cc:1108]      0 \n",
      "2021-10-31 02:23:15.680833: I tensorflow/core/common_runtime/gpu/gpu_device.cc:1121] 0:   N \n",
      "2021-10-31 02:23:15.681085: I tensorflow/stream_executor/cuda/cuda_gpu_executor.cc:981] successful NUMA node read from SysFS had negative value (-1), but there must be at least one NUMA node, so returning NUMA node zero\n",
      "2021-10-31 02:23:15.681908: I tensorflow/stream_executor/cuda/cuda_gpu_executor.cc:981] successful NUMA node read from SysFS had negative value (-1), but there must be at least one NUMA node, so returning NUMA node zero\n",
      "2021-10-31 02:23:15.682701: I tensorflow/stream_executor/cuda/cuda_gpu_executor.cc:981] successful NUMA node read from SysFS had negative value (-1), but there must be at least one NUMA node, so returning NUMA node zero\n",
      "2021-10-31 02:23:15.683447: I tensorflow/core/common_runtime/gpu/gpu_device.cc:1247] Created TensorFlow device (/job:localhost/replica:0/task:0/device:GPU:0 with 10699 MB memory) -> physical GPU (device: 0, name: Tesla K80, pci bus id: 0000:00:1e.0, compute capability: 3.7)\n",
      "2021-10-31 02:23:15.685716: I tensorflow/compiler/xla/service/service.cc:168] XLA service 0x55628d0e2ff0 initialized for platform CUDA (this does not guarantee that XLA will be used). Devices:\n",
      "2021-10-31 02:23:15.685734: I tensorflow/compiler/xla/service/service.cc:176]   StreamExecutor device (0): Tesla K80, Compute Capability 3.7\n",
      "2021-10-31 02:23:17.168714: I tensorflow/stream_executor/platform/default/dso_loader.cc:44] Successfully opened dynamic library libcublas.so.10\n",
      "2021-10-31 02:23:17.334418: I tensorflow/stream_executor/platform/default/dso_loader.cc:44] Successfully opened dynamic library libcudnn.so.7\n"
     ]
    },
    {
     "name": "stdout",
     "output_type": "stream",
     "text": [
      "Model 0 accuracy: 0.9327142857142857\n",
      "Training model: 1\n",
      "Model 1 accuracy: 0.9398571428571428\n",
      "Training model: 2\n",
      "Model 2 accuracy: 0.9335714285714286\n",
      "Training model: 3\n",
      "Model 3 accuracy: 0.9322857142857143\n",
      "Training model: 4\n",
      "Model 4 accuracy: 0.934\n",
      "Training model: 5\n",
      "Model 5 accuracy: 0.9318571428571428\n",
      "Training model: 6\n",
      "Model 6 accuracy: 0.9325714285714286\n",
      "Training model: 7\n",
      "Model 7 accuracy: 0.932\n",
      "Training model: 8\n",
      "Model 8 accuracy: 0.9338571428571428\n",
      "Training model: 9\n",
      "Model 9 accuracy: 0.9338571428571428\n",
      "CPU times: user 15min 45s, sys: 1min 14s, total: 16min 59s\n",
      "Wall time: 53min 40s\n"
     ]
    }
   ],
   "source": [
    "%%time\n",
    "\n",
    "import random\n",
    "\n",
    "np.random.seed(88)\n",
    "num_models=10\n",
    "noise_seeds = np.random.randint(8, 888, size=num_models)\n",
    "\n",
    "lr = 0.0005\n",
    "epochs = 50\n",
    "batch_size = 128\n",
    "\n",
    "noise_models = []\n",
    "for i, seed in enumerate(noise_seeds):\n",
    "    print('Training model:', i)\n",
    "    noise_models.append(build_model(seed, lr=lr))\n",
    "    train_model(noise_models[i], train_x_scaled, train_y_OH, epochs, batch_size, validate_x_scaled, validate_y_OH, seed=seed)\n",
    "    noise_models[i].load_weights(checkpoint_filepath)\n",
    "    print('Model', str(i), 'accuracy:', get_accuracy(noise_models[i], test_x_scaled, test_y))"
   ]
  },
  {
   "cell_type": "markdown",
   "metadata": {},
   "source": [
    "## Evaluate Ensemble"
   ]
  },
  {
   "cell_type": "markdown",
   "metadata": {},
   "source": [
    "By Probability Average"
   ]
  },
  {
   "cell_type": "code",
   "execution_count": 27,
   "metadata": {},
   "outputs": [],
   "source": [
    "def ensemble_prediction(models, test_x):\n",
    "    probs = np.array([\n",
    "        model.predict(test_x)\n",
    "        for model in models\n",
    "    ])\n",
    "\n",
    "    probs = probs.mean(axis=0)\n",
    "    y_pred = np.argmax(probs, axis=1)\n",
    "    return probs, y_pred"
   ]
  },
  {
   "cell_type": "code",
   "execution_count": 28,
   "metadata": {},
   "outputs": [
    {
     "data": {
      "text/plain": [
       "0.9407142857142857"
      ]
     },
     "execution_count": 28,
     "metadata": {},
     "output_type": "execute_result"
    }
   ],
   "source": [
    "_, pred_test_y = ensemble_prediction(noise_models, test_x_scaled)\n",
    "accuracy_score(test_y, pred_test_y)"
   ]
  },
  {
   "cell_type": "markdown",
   "metadata": {},
   "source": [
    "# Step 5: Saving the model and predictions\n",
    "\n",
    "Save your predictions on the Score segment as a Pandas data frame into a variable named `score_y_hat`.\n",
    "\n",
    "The expected shape of the submitted data frame is `(7000, 10)`, where each column is the probability for each class. The sum of probabilities have to add up to 1. The order of the column has to match the `classes` data frame defined above.\n",
    "\n",
    "Finally, the data frame needs to have string column names in order to be saved as a Parquet file. If you convert a NumPy array to Pandas data frame, column names will be integers, but you can replace the columns names. There was a similar example of this in the notebook from the first assignment.\n",
    "\n",
    "In order to verify that your score_y_hat has the right shape and column names,\n",
    "you can run the following cell."
   ]
  },
  {
   "cell_type": "code",
   "execution_count": 36,
   "metadata": {},
   "outputs": [
    {
     "data": {
      "text/html": [
       "<div>\n",
       "<style scoped>\n",
       "    .dataframe tbody tr th:only-of-type {\n",
       "        vertical-align: middle;\n",
       "    }\n",
       "\n",
       "    .dataframe tbody tr th {\n",
       "        vertical-align: top;\n",
       "    }\n",
       "\n",
       "    .dataframe thead th {\n",
       "        text-align: right;\n",
       "    }\n",
       "</style>\n",
       "<table border=\"1\" class=\"dataframe\">\n",
       "  <thead>\n",
       "    <tr style=\"text-align: right;\">\n",
       "      <th></th>\n",
       "      <th>T-shirt/top</th>\n",
       "      <th>Trouser</th>\n",
       "      <th>Pullover</th>\n",
       "      <th>Dress</th>\n",
       "      <th>Coat</th>\n",
       "      <th>Sandal</th>\n",
       "      <th>Shirt</th>\n",
       "      <th>Sneaker</th>\n",
       "      <th>Bag</th>\n",
       "      <th>Ankle boot</th>\n",
       "    </tr>\n",
       "  </thead>\n",
       "  <tbody>\n",
       "    <tr>\n",
       "      <th>0</th>\n",
       "      <td>2.047934e-01</td>\n",
       "      <td>2.256062e-03</td>\n",
       "      <td>4.858882e-02</td>\n",
       "      <td>2.021590e-02</td>\n",
       "      <td>8.187805e-02</td>\n",
       "      <td>8.043348e-05</td>\n",
       "      <td>6.380376e-01</td>\n",
       "      <td>3.411299e-04</td>\n",
       "      <td>2.872858e-03</td>\n",
       "      <td>9.357335e-04</td>\n",
       "    </tr>\n",
       "    <tr>\n",
       "      <th>1</th>\n",
       "      <td>4.784512e-02</td>\n",
       "      <td>1.111009e-09</td>\n",
       "      <td>1.308919e-05</td>\n",
       "      <td>5.788889e-06</td>\n",
       "      <td>3.823113e-05</td>\n",
       "      <td>4.449794e-09</td>\n",
       "      <td>9.520977e-01</td>\n",
       "      <td>7.537201e-11</td>\n",
       "      <td>5.548124e-08</td>\n",
       "      <td>9.301132e-09</td>\n",
       "    </tr>\n",
       "    <tr>\n",
       "      <th>2</th>\n",
       "      <td>5.958437e-07</td>\n",
       "      <td>9.999992e-01</td>\n",
       "      <td>1.643721e-09</td>\n",
       "      <td>4.854685e-08</td>\n",
       "      <td>3.819252e-08</td>\n",
       "      <td>1.555080e-10</td>\n",
       "      <td>7.228057e-08</td>\n",
       "      <td>8.293011e-11</td>\n",
       "      <td>2.343562e-09</td>\n",
       "      <td>5.816053e-10</td>\n",
       "    </tr>\n",
       "    <tr>\n",
       "      <th>3</th>\n",
       "      <td>8.969299e-01</td>\n",
       "      <td>1.164739e-06</td>\n",
       "      <td>9.321991e-05</td>\n",
       "      <td>2.022364e-05</td>\n",
       "      <td>2.707479e-04</td>\n",
       "      <td>2.621634e-07</td>\n",
       "      <td>1.026822e-01</td>\n",
       "      <td>1.572853e-08</td>\n",
       "      <td>2.270499e-06</td>\n",
       "      <td>3.386782e-08</td>\n",
       "    </tr>\n",
       "    <tr>\n",
       "      <th>4</th>\n",
       "      <td>2.313501e-05</td>\n",
       "      <td>9.542439e-11</td>\n",
       "      <td>9.982399e-01</td>\n",
       "      <td>1.036136e-08</td>\n",
       "      <td>1.474959e-04</td>\n",
       "      <td>3.168449e-11</td>\n",
       "      <td>1.589259e-03</td>\n",
       "      <td>1.405862e-11</td>\n",
       "      <td>7.122772e-08</td>\n",
       "      <td>1.882257e-10</td>\n",
       "    </tr>\n",
       "  </tbody>\n",
       "</table>\n",
       "</div>"
      ],
      "text/plain": [
       "    T-shirt/top       Trouser      Pullover         Dress          Coat  \\\n",
       "0  2.047934e-01  2.256062e-03  4.858882e-02  2.021590e-02  8.187805e-02   \n",
       "1  4.784512e-02  1.111009e-09  1.308919e-05  5.788889e-06  3.823113e-05   \n",
       "2  5.958437e-07  9.999992e-01  1.643721e-09  4.854685e-08  3.819252e-08   \n",
       "3  8.969299e-01  1.164739e-06  9.321991e-05  2.022364e-05  2.707479e-04   \n",
       "4  2.313501e-05  9.542439e-11  9.982399e-01  1.036136e-08  1.474959e-04   \n",
       "\n",
       "         Sandal         Shirt       Sneaker           Bag    Ankle boot  \n",
       "0  8.043348e-05  6.380376e-01  3.411299e-04  2.872858e-03  9.357335e-04  \n",
       "1  4.449794e-09  9.520977e-01  7.537201e-11  5.548124e-08  9.301132e-09  \n",
       "2  1.555080e-10  7.228057e-08  8.293011e-11  2.343562e-09  5.816053e-10  \n",
       "3  2.621634e-07  1.026822e-01  1.572853e-08  2.270499e-06  3.386782e-08  \n",
       "4  3.168449e-11  1.589259e-03  1.405862e-11  7.122772e-08  1.882257e-10  "
      ]
     },
     "execution_count": 36,
     "metadata": {},
     "output_type": "execute_result"
    }
   ],
   "source": [
    "score_y_hat, _ = ensemble_prediction(noise_models, score_x_scaled)\n",
    "score_y_hat = pd.DataFrame(score_y_hat, columns=classes['label'].values)\n",
    "score_y_hat.head()"
   ]
  },
  {
   "cell_type": "code",
   "execution_count": 33,
   "metadata": {},
   "outputs": [
    {
     "data": {
      "text/plain": [
       "((7000, 10),\n",
       " Index(['T-shirt/top', 'Trouser', 'Pullover', 'Dress', 'Coat', 'Sandal',\n",
       "        'Shirt', 'Sneaker', 'Bag', 'Ankle boot'],\n",
       "       dtype='object'))"
      ]
     },
     "execution_count": 33,
     "metadata": {},
     "output_type": "execute_result"
    }
   ],
   "source": [
    "score_y_hat.shape, score_y_hat.columns"
   ]
  },
  {
   "cell_type": "code",
   "execution_count": 42,
   "metadata": {},
   "outputs": [
    {
     "data": {
      "image/png": "[encoded data removed]",
      "text/plain": [
       "<Figure size 1080x216 with 5 Axes>"
      ]
     },
     "metadata": {
      "image/png": {
       "height": 209,
       "width": 1038
      }
     },
     "output_type": "display_data"
    }
   ],
   "source": [
    "ncols = 5\n",
    "nrows = 1\n",
    "\n",
    "plt.figure(figsize=[3*ncols, 3*nrows])\n",
    "for i in range(ncols):\n",
    "    plt.subplot(nrows, ncols, i+1)\n",
    "    \n",
    "    rand_num = np.random.randint(0, score_x.shape[0]-1)\n",
    "    img = score_x.iloc[rand_num]\n",
    "    img = img.values.reshape(28, 28)\n",
    "    plt.imshow(img, cmap='binary')\n",
    "    \n",
    "    plt.title(classes['label'].values[np.argmax(score_y_hat.iloc[rand_num])])\n",
    "    plt.xticks([])\n",
    "    plt.yticks([])\n",
    "    \n",
    "plt.tight_layout()\n",
    "plt.show()"
   ]
  },
  {
   "cell_type": "code",
   "execution_count": 43,
   "metadata": {},
   "outputs": [],
   "source": [
    "# Once you are ready to make the graded submission,\n",
    "# run the model on the score segment,\n",
    "# and save the results as a Parquet file:\n",
    "\n",
    "import os \n",
    "model_dir = 'fashionnet_model'\n",
    "os.makedirs(model_dir, exist_ok=True)\n",
    "\n",
    "score_y_hat.to_parquet(f'{model_dir}/score_y_hat.parquet')\n",
    "\n",
    "import json\n",
    "for i, model in enumerate(noise_models):\n",
    "    # Next, let's save the model's definition.\n",
    "    with open(f'{model_dir}/keras_model_{i}.json', 'w') as f:\n",
    "        f.write(json.dumps(json.loads(model.to_json()), indent=True))\n",
    "\n",
    "    # Finally, let's save the learned parameters.\n",
    "    model.save_weights(f\"{model_dir}/keras_parameters_{i}.h5\")\n",
    "\n",
    "# You now have the following files to be submitted:\n",
    "# 1. This notebook and any other Python code you used to train the final model.\n",
    "# 2. keras_model.json -- the model's definition\n",
    "# 3. keras_parameters.json -- the model's trained parameters\n",
    "# 4. score_y_hat.parquet - the model's output on the score dataset"
   ]
  },
  {
   "cell_type": "markdown",
   "metadata": {},
   "source": [
    "# Discussion"
   ]
  },
  {
   "cell_type": "markdown",
   "metadata": {},
   "source": [
    "**Data Pre-Processing**\n",
    "\n",
    "To perform classification on this dataset, two pre-processing steps were required:\n",
    "1. Scaling of the input data from range [0,255] to range [-1,1]. An output range of [0,1] was also tested, however from the test samples, it performed marginally worse.\n",
    "2. One Hot Encoding of the labels, converting the labels from numeric values in the range [0,9] to (1, 10) vector representations for each sample.\n",
    "\n",
    "**Models Considered**\n",
    "\n",
    "In building the final model, three model architectures were considered:\n",
    "\n",
    "1. Transfer Learning Using MobileNetV2\n",
    "\n",
    "I considered utilising transfer learning by leveraging the pre-trained MobileNetV2 network. Setup to use this model architecture involved upscaling the input images to 56 x 56, as MobileNet required inputs larger than 32 x 32, and artificially creating three colour channels by duplicating the input vector across three channels. \n",
    "\n",
    "2. ConvPool-CNN [Springenberg et al., 2015, Striving for Simplicity: The All Convolutional Net](https://arxiv.org/abs/1412.6806)\n",
    "\n",
    "From reviewing the literature, an interesting model architecture which I came across was a CNN model which did not utilise Dense layers for computing classes. Instead, a 10 unit Convolution layer and GlobalAveragePooling layer is used. I was interested to see how this architecture would perform compared to a more traditional CNN structure.\n",
    "\n",
    "3. Standard CNN\n",
    "\n",
    "The final architecture I considered was modelled after the VGGNet model insights we discussed in class. Namely, this architecture used smaller filter surface areas and more layers to generate predictions.\n",
    "\n",
    "**Single Model Design and Hyperparameter Selection**\n",
    "\n",
    "After considering some baseline cases for each architecture, I settled on an ensemble of architecture 3 for the final model. This was due to two main reasons. Firstly, during my baseline testing, I discovered that on average, the traditional CNN architecture had a greater test set accuracy than the other two architectures, with the Transfer Learning model averaging ~90% accuracy, the ConvPool-CNN averaging ~92.5% accuracy, and the Standard CNN averaging ~93.5% accuracy. Secondly, I noted that the Standard CNN model took a shorter amount of time to train compared to the other two architectures. Due to these considerations, I settled on using only Standard CNN models.\n",
    "\n",
    "Whilst testing each of the architectures, a number of hyperparameters were considered. For MobileNetV2, the main consideration was the number of units in the dense layers on top of the model, as well as the learning rate. However, no combination tested enabled performance to exceeed 90% test set accuracy significantly. For architectures 2 and 3, I tested different combinations of learning rate, units per layer and number of layers. The values tested were:\n",
    "- Learning Rate: 0.001, 0.0001\n",
    "- Units per Conv2D Layer: 64/128, 96/192\n",
    "- Units for Dense Layer: 128, 256, 512\n",
    "- Number of Layers: 1, 2, 3\n",
    "\n",
    "I made the following conclusions:\n",
    "- Learning Rate should be set between 0.001 and 0.0001. At 0.001, the validation error tended to be unstable and seemed to miss the local minima. At 0.0001, the model was more stable but training time increased significantly. A test at 0.0005 had relatively good results and was thus used in the final model.\n",
    "- Reducing the number of units in the Conv2D layers seemed to provide similar test set accuracy whilst decreasing training time in general. Thus 64/128 was used.\n",
    "- Changing the number of units in the Dense layer seemed to result in a parabolic change to test set accuracy. The test set accuracy was highest at 256 and lower at 128 and 512. Thus I used 256 units.\n",
    "- Removing the third layer improved test set accuracy and also increased training speed. Removing the second layer sacrificed some accuracy for increased training time. Since training time was not too long, the second layer was kept to keep the marginal gain in test set accuracy observed during tests.\n",
    "\n",
    "**Ensemble Design and Considerations**\n",
    "\n",
    "I chose to utilise 10 individuals models in my final ensemble to keep total training time of the ensemble to below 1 hour. I used only model architecture 2 as it performed the best on the single model tests. To reduce error correlation between each model in the ensemble, I utilised Dropout layers during training and ensured that each single model had different initial kernal weights by using random seeds.\n",
    "\n",
    "For predictions from the ensemble, I considered two decision choices. The first was by average prediction probability across the 10 single models. The second was the highest frequency vote across the 10 single models. Ultimately I chose the average prediction probability due to better performance in testing and due to theory."
   ]
  }
 ],
 "metadata": {
  "kernelspec": {
   "display_name": "Python 3",
   "language": "python",
   "name": "python3"
  },
  "language_info": {
   "codemirror_mode": {
    "name": "ipython",
    "version": 3
   },
   "file_extension": ".py",
   "mimetype": "text/x-python",
   "name": "python",
   "nbconvert_exporter": "python",
   "pygments_lexer": "ipython3",
   "version": "3.8.3"
  }
 },
 "nbformat": 4,
 "nbformat_minor": 4
}
