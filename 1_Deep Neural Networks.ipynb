{
 "cells": [
  {
   "cell_type": "markdown",
   "metadata": {},
   "source": [
    "# Henry Gu - Advanced Machine Learning Assignment 1 - Deep Neural Network / Determining Hyperparameters"
   ]
  },
  {
   "cell_type": "markdown",
   "metadata": {},
   "source": [
   "Submitted the best scording model of the class with a Scoring Set MSE = 0.0034289926"
   ]
  },
  {
   "cell_type": "markdown",
   "metadata": {},
   "source": [
    "### Setup"
   ]
  },
  {
   "cell_type": "code",
   "execution_count": 1,
   "metadata": {},
   "outputs": [],
   "source": [
    "# In this assingnment, we will be using Pandas dataframes\n",
    "# to read, transform, and store MNIST images. Make sure\n",
    "# you are familiar with its API:\n",
    "# https://pandas.pydata.org/pandas-docs/stable/\n",
    "\n",
    "import pandas as pd"
   ]
  },
  {
   "cell_type": "code",
   "execution_count": 2,
   "metadata": {},
   "outputs": [],
   "source": [
    "# Enter here the Dataset ID that you have received in the spreadsheet.\n",
    "# Make sure that you use the ID that was assigned to you, \n",
    "# otherwise your submission will be graded against the wrong images.\n",
    "# Code Removed for Privacy\n",
    "# Assignment datasets are stored in an AWS S3 bucket. The following code\n",
    "# downloads your dataset (~300MB) directly into RAM. Optionally,\n",
    "# you can save the datasets to the local disk, but that's really not required.\n",
    "# Code Removed for Privacy\n",
    "\n",
    "# These three dataframes contain clean images. Use each dataframe\n",
    "# to train, validate, and test your model, respectively.\n",
    "train_clean_X = pd.read_parquet(f'{prefix}/train_clean_x.parquet')\n",
    "validate_clean_X = pd.read_parquet(f'{prefix}/validate_clean_x.parquet')\n",
    "test_clean_X = pd.read_parquet(f'{prefix}/test_clean_x.parquet')\n",
    "\n",
    "# These dataframes are noisy versions of the dataframes above.\n",
    "train_noisy_X = pd.read_parquet(f'{prefix}/train_noisy_x.parquet')\n",
    "validate_noisy_X = pd.read_parquet(f'{prefix}/validate_noisy_x.parquet')\n",
    "test_noisy_X = pd.read_parquet(f'{prefix}/test_noisy_x.parquet')\n",
    "\n",
    "# This is the segment of the dataset that will be graded in this assignment.\n",
    "# Your model has to denoise this dataframe, and you have to submit the denoised version of this dataframe.\n",
    "score_noisy_X = pd.read_parquet(f'{prefix}/score_noisy_x.parquet')\n",
    "\n",
    "# For additional context, these are labels (e.g. digits) corresponding\n",
    "# to each image in the dataset. Use it to analyze which digits\n",
    "# your models has more or less problems with. These dataframes\n",
    "# should not be used as part of the training process itself,\n",
    "# only for post-training analysis, if you wish so.\n",
    "train_y = pd.read_parquet(f'{prefix}/train_y.parquet')\n",
    "validate_y = pd.read_parquet(f'{prefix}/validate_y.parquet')\n",
    "test_y = pd.read_parquet(f'{prefix}/test_y.parquet')"
   ]
  },
  {
   "cell_type": "code",
   "execution_count": 3,
   "metadata": {},
   "outputs": [],
   "source": [
    "# While not strictly required for this assignment,\n",
    "# you will probably want to plot images to\n",
    "# have a visual understanding of the model's performance.\n",
    "# You can use any Python plotting library, for example:\n",
    "# https://matplotlib.org/contents.html\n",
    "\n",
    "import matplotlib.pyplot as plt\n",
    "%config InlineBackend.figure_format = 'retina'"
   ]
  },
  {
   "cell_type": "markdown",
   "metadata": {},
   "source": [
    "### Initial Data Checking"
   ]
  },
  {
   "cell_type": "code",
   "execution_count": 4,
   "metadata": {},
   "outputs": [],
   "source": [
    "example_id = 1\n",
    "def display_image(id, dataset):\n",
    "    # Let's select a clean image from the dataset\n",
    "    if dataset == 'clean':\n",
    "        image_pixels = train_clean_X.iloc[example_id]\n",
    "    elif dataset == 'noisy':\n",
    "        image_pixels = train_noisy_X.iloc[example_id]\n",
    "\n",
    "    # In order to plot an image, you need to reshape\n",
    "    # the flattened array back into a 28x28 grid.\n",
    "    image_pixels = image_pixels.values.reshape(28, 28)\n",
    "\n",
    "    plt.imshow(image_pixels, cmap='binary')"
   ]
  },
  {
   "cell_type": "code",
   "execution_count": 5,
   "metadata": {},
   "outputs": [
    {
     "data": {
      "image/png": "[encoded data removed]",
      "text/plain": [
       "<Figure size 432x288 with 1 Axes>"
      ]
     },
     "metadata": {
      "image/png": {
       "height": 248,
       "width": 251
      },
      "needs_background": "light"
     },
     "output_type": "display_data"
    }
   ],
   "source": [
    "display_image(example_id, 'clean')"
   ]
  },
  {
   "cell_type": "code",
   "execution_count": 6,
   "metadata": {},
   "outputs": [
    {
     "data": {
      "image/png": "[encoded data removed]",
      "text/plain": [
       "<Figure size 432x288 with 1 Axes>"
      ]
     },
     "metadata": {
      "image/png": {
       "height": 248,
       "width": 251
      },
      "needs_background": "light"
     },
     "output_type": "display_data"
    }
   ],
   "source": [
    "display_image(example_id, 'noisy')"
   ]
  },
  {
   "cell_type": "code",
   "execution_count": 7,
   "metadata": {},
   "outputs": [
    {
     "data": {
      "text/plain": [
       "digit    0\n",
       "Name: 1, dtype: uint8"
      ]
     },
     "execution_count": 7,
     "metadata": {},
     "output_type": "execute_result"
    }
   ],
   "source": [
    "train_y.iloc[example_id]"
   ]
  },
  {
   "cell_type": "code",
   "execution_count": 8,
   "metadata": {},
   "outputs": [],
   "source": [
    "# IMPORTANT: This is an example of a reconstruction training mode.\n",
    "# Your autoencoder has to be trained in denoising mode.\n",
    "# In other words, you will probably need to tweak these lines of code.\n",
    "\n",
    "from tensorflow.keras.callbacks import EarlyStopping\n",
    "es = EarlyStopping(monitor='val_loss', mode='min', verbose=1)\n",
    "\n",
    "def train_model(model, epochs):\n",
    "    history = model.fit(\n",
    "        x=train_noisy_X, \n",
    "        y=train_clean_X, \n",
    "\n",
    "        # It's a good idea to have low number of epochs,\n",
    "        # to test the learning process, but not for the final model training.\n",
    "        epochs=epochs,\n",
    "\n",
    "        batch_size=128,\n",
    "        shuffle=True,\n",
    "        validation_data=(validate_noisy_X, validate_clean_X),\n",
    "        callbacks=[es]\n",
    "    )\n",
    "    return history"
   ]
  },
  {
   "cell_type": "markdown",
   "metadata": {},
   "source": [
    "## Initial Models (run without seed)"
   ]
  },
  {
   "cell_type": "markdown",
   "metadata": {},
   "source": [
    "Model 00b"
   ]
  },
  {
   "cell_type": "code",
   "execution_count": 9,
   "metadata": {},
   "outputs": [],
   "source": [
    "# In this couse, all assignments are expected to be\n",
    "# implemented with Tensorflow framework.\n",
    "# For this task, we can use its high-level Keras API:\n",
    "# https://keras.io\n",
    "\n",
    "from tensorflow.keras.layers import Input, Dense\n",
    "from tensorflow.keras.models import Sequential\n",
    "from tensorflow.keras import optimizers\n",
    "from kerastuner.engine.hyperparameters import HyperParameters\n",
    "\n",
    "def build_model_00a(hp: HyperParameters):\n",
    "    \n",
    "    layers = [\n",
    "        # Undercomplete Autooencoder\n",
    "        Dense(\n",
    "            units=hp.Int('encoder_width', min_value=5, max_value=784, sampling='linear'), \n",
    "            activation='elu', \n",
    "            input_shape=(28 * 28,)\n",
    "        ),\n",
    "\n",
    "        # Decoder: matches the shape of the image\n",
    "        # Sigmoid activation is needed because pixel\n",
    "        # values are real numbers between 0 (black) and 1 (white).\n",
    "        Dense(units=28*28, activation='sigmoid')\n",
    "    ]\n",
    "\n",
    "    # Sequential class is a Keras class that attaches every \n",
    "    # layer's output to the next layer's input.\n",
    "    # This is essentially a helper class for any feedforward networks.\n",
    "    autoencoder = Sequential(layers)\n",
    "\n",
    "    # Using MSE as the loss function, and Adam optimizer.\n",
    "    # Other optimizers can also be used.\n",
    "    autoencoder.compile(\n",
    "        optimizer=optimizers.Adam(\n",
    "            lr=hp.Float(name='learning_rate', min_value=1e-5, max_value=1e0, sampling='log')\n",
    "        ), \n",
    "        loss='mean_squared_error'\n",
    "    )\n",
    "    \n",
    "    return autoencoder"
   ]
  },
  {
   "cell_type": "code",
   "execution_count": 10,
   "metadata": {},
   "outputs": [
    {
     "name": "stdout",
     "output_type": "stream",
     "text": [
      "INFO:tensorflow:Reloading Oracle from existing project denoiser_hyperop/autoencoder_00a/oracle.json\n",
      "INFO:tensorflow:Reloading Tuner from denoiser_hyperop/autoencoder_00a/tuner0.json\n",
      "Search space summary\n",
      "Default search space size: 2\n",
      "encoder_width (Int)\n",
      "{'default': None, 'conditions': [], 'min_value': 5, 'max_value': 784, 'step': 1, 'sampling': 'linear'}\n",
      "learning_rate (Float)\n",
      "{'default': 1e-05, 'conditions': [], 'min_value': 1e-05, 'max_value': 1.0, 'step': None, 'sampling': 'log'}\n"
     ]
    },
    {
     "name": "stderr",
     "output_type": "stream",
     "text": [
      "2021-10-03 21:39:43.247112: W tensorflow/stream_executor/platform/default/dso_loader.cc:55] Could not load dynamic library 'libcuda.so.1'; dlerror: libcuda.so.1: cannot open shared object file: No such file or directory\n",
      "2021-10-03 21:39:43.247207: E tensorflow/stream_executor/cuda/cuda_driver.cc:313] failed call to cuInit: UNKNOWN ERROR (303)\n",
      "2021-10-03 21:39:43.247233: I tensorflow/stream_executor/cuda/cuda_diagnostics.cc:156] kernel driver does not appear to be running on this host (ucla-jupyter): /proc/driver/nvidia/version does not exist\n",
      "2021-10-03 21:39:43.247616: I tensorflow/core/platform/cpu_feature_guard.cc:143] Your CPU supports instructions that this TensorFlow binary was not compiled to use: SSE4.1 SSE4.2 AVX AVX2 AVX512F FMA\n",
      "2021-10-03 21:39:43.258419: I tensorflow/core/platform/profile_utils/cpu_utils.cc:102] CPU Frequency: 1497600000 Hz\n",
      "2021-10-03 21:39:43.261035: I tensorflow/compiler/xla/service/service.cc:168] XLA service 0x555b7a67bf00 initialized for platform Host (this does not guarantee that XLA will be used). Devices:\n",
      "2021-10-03 21:39:43.261092: I tensorflow/compiler/xla/service/service.cc:176]   StreamExecutor device (0): Host, Default Version\n"
     ]
    }
   ],
   "source": [
    "from kerastuner.tuners import RandomSearch\n",
    "\n",
    "# A tuner implements a particular hyperoptimization strategy.\n",
    "# This example uses a random search turner, which samples\n",
    "# hyperparameter values from the distributions specified\n",
    "# in the build_model function. You can use other tuners too:\n",
    "# https://keras-team.github.io/keras-tuner/documentation/tuners/\n",
    "\n",
    "tuner_00a = RandomSearch(\n",
    "    build_model_00a,\n",
    "    objective='val_loss',\n",
    "    max_trials=10,\n",
    "    executions_per_trial=3,\n",
    "    directory='denoiser_hyperop',\n",
    "    \n",
    "    # Experiment name must change if you modify\n",
    "    # the model structure or the set of hyperparameters.\n",
    "    project_name='autoencoder_00a'\n",
    ")\n",
    "\n",
    "# This displays which hyperparameters are tunable, and their respective distribution.\n",
    "tuner_00a.search_space_summary()"
   ]
  },
  {
   "cell_type": "code",
   "execution_count": 11,
   "metadata": {},
   "outputs": [
    {
     "name": "stdout",
     "output_type": "stream",
     "text": [
      "INFO:tensorflow:Oracle triggered exit\n"
     ]
    }
   ],
   "source": [
    "import numpy as np\n",
    "import tensorflow as tf\n",
    "np.random.seed(11)\n",
    "tf.random.set_seed(11)\n",
    "\n",
    "# IMPORTANT: This is an example of a reconstruction training mode.\n",
    "# Your autoencoder has to be trained in denoising mode.\n",
    "# In other words, you will probably need to tweak these lines of code.\n",
    "\n",
    "tuner_00a.search(    \n",
    "    # All parameters here are passed thru to Model.fit function.\n",
    "    x=train_noisy_X, \n",
    "    y=train_clean_X, \n",
    "    \n",
    "    # It's a good idea to have low number of epochs,\n",
    "    # to test the learning process, but not for the final model training.\n",
    "    epochs=3,\n",
    "    batch_size=128,\n",
    "    shuffle=True,\n",
    "    validation_data=(validate_noisy_X, validate_clean_X)\n",
    ")"
   ]
  },
  {
   "cell_type": "code",
   "execution_count": 12,
   "metadata": {},
   "outputs": [
    {
     "name": "stdout",
     "output_type": "stream",
     "text": [
      "Results summary\n",
      "Results in denoiser_hyperop/autoencoder_00a\n",
      "Showing 10 best trials\n",
      "Objective(name='val_loss', direction='min')\n",
      "Trial summary\n",
      "Hyperparameters:\n",
      "encoder_width: 299\n",
      "learning_rate: 0.0012927360143612642\n",
      "Score: 0.005438126623630524\n",
      "Trial summary\n",
      "Hyperparameters:\n",
      "encoder_width: 766\n",
      "learning_rate: 0.00013382300113227907\n",
      "Score: 0.012148072322209677\n",
      "Trial summary\n",
      "Hyperparameters:\n",
      "encoder_width: 708\n",
      "learning_rate: 0.0001117904995493143\n",
      "Score: 0.01469348929822445\n",
      "Trial summary\n",
      "Hyperparameters:\n",
      "encoder_width: 83\n",
      "learning_rate: 2.416596369450331e-05\n",
      "Score: 0.07008355855941772\n",
      "Trial summary\n",
      "Hyperparameters:\n",
      "encoder_width: 511\n",
      "learning_rate: 0.2474453389311384\n",
      "Score: 0.1163331816593806\n",
      "Trial summary\n",
      "Hyperparameters:\n",
      "encoder_width: 649\n",
      "learning_rate: 0.9796197242129118\n",
      "Score: 0.11746202160914739\n",
      "Trial summary\n",
      "Hyperparameters:\n",
      "encoder_width: 475\n",
      "learning_rate: 0.8163668738420164\n",
      "Score: 0.11747920513153076\n",
      "Trial summary\n",
      "Hyperparameters:\n",
      "encoder_width: 638\n",
      "learning_rate: 0.4960445261935281\n",
      "Score: 0.11907938619454701\n",
      "Trial summary\n",
      "Hyperparameters:\n",
      "encoder_width: 133\n",
      "learning_rate: 0.11871572245469178\n",
      "Score: 0.12357369313637416\n",
      "Trial summary\n",
      "Hyperparameters:\n",
      "encoder_width: 767\n",
      "learning_rate: 0.08251380704615582\n",
      "Score: 0.1305064062277476\n"
     ]
    }
   ],
   "source": [
    "# The following function can be used to view the search summary.\n",
    "tuner_00a.results_summary()"
   ]
  },
  {
   "cell_type": "code",
   "execution_count": 13,
   "metadata": {},
   "outputs": [
    {
     "data": {
      "text/html": [
       "<div>\n",
       "<style scoped>\n",
       "    .dataframe tbody tr th:only-of-type {\n",
       "        vertical-align: middle;\n",
       "    }\n",
       "\n",
       "    .dataframe tbody tr th {\n",
       "        vertical-align: top;\n",
       "    }\n",
       "\n",
       "    .dataframe thead th {\n",
       "        text-align: right;\n",
       "    }\n",
       "</style>\n",
       "<table border=\"1\" class=\"dataframe\">\n",
       "  <thead>\n",
       "    <tr style=\"text-align: right;\">\n",
       "      <th></th>\n",
       "      <th>score</th>\n",
       "      <th>encoder_width</th>\n",
       "      <th>learning_rate</th>\n",
       "    </tr>\n",
       "    <tr>\n",
       "      <th>trial_id</th>\n",
       "      <th></th>\n",
       "      <th></th>\n",
       "      <th></th>\n",
       "    </tr>\n",
       "  </thead>\n",
       "  <tbody>\n",
       "    <tr>\n",
       "      <th>b8a2fda51667487cb6937e1a73bbbdbb</th>\n",
       "      <td>0.005438</td>\n",
       "      <td>299</td>\n",
       "      <td>0.001293</td>\n",
       "    </tr>\n",
       "    <tr>\n",
       "      <th>94f9c534694db5070396737e5a8a67f6</th>\n",
       "      <td>0.012148</td>\n",
       "      <td>766</td>\n",
       "      <td>0.000134</td>\n",
       "    </tr>\n",
       "    <tr>\n",
       "      <th>6cbdb2c8b928022a0af62d42dcc72f74</th>\n",
       "      <td>0.014693</td>\n",
       "      <td>708</td>\n",
       "      <td>0.000112</td>\n",
       "    </tr>\n",
       "    <tr>\n",
       "      <th>91db4608ff953bc191f1da58ffb52a32</th>\n",
       "      <td>0.070084</td>\n",
       "      <td>83</td>\n",
       "      <td>0.000024</td>\n",
       "    </tr>\n",
       "    <tr>\n",
       "      <th>bde6d68e7e595a141eeb8625602dcce9</th>\n",
       "      <td>0.116333</td>\n",
       "      <td>511</td>\n",
       "      <td>0.247445</td>\n",
       "    </tr>\n",
       "    <tr>\n",
       "      <th>b40bfdce3179372277c3731f46d80928</th>\n",
       "      <td>0.117462</td>\n",
       "      <td>649</td>\n",
       "      <td>0.979620</td>\n",
       "    </tr>\n",
       "    <tr>\n",
       "      <th>e76bf0e999ef8744fd701c9391bf8e3d</th>\n",
       "      <td>0.117479</td>\n",
       "      <td>475</td>\n",
       "      <td>0.816367</td>\n",
       "    </tr>\n",
       "    <tr>\n",
       "      <th>5374f0a075e07c8be1666ea70af2cc3b</th>\n",
       "      <td>0.119079</td>\n",
       "      <td>638</td>\n",
       "      <td>0.496045</td>\n",
       "    </tr>\n",
       "    <tr>\n",
       "      <th>9228aaa3b7f08986d00065abd889cd5b</th>\n",
       "      <td>0.123574</td>\n",
       "      <td>133</td>\n",
       "      <td>0.118716</td>\n",
       "    </tr>\n",
       "    <tr>\n",
       "      <th>427f6d3f0194e72f6c9fb1ccc6251532</th>\n",
       "      <td>0.130506</td>\n",
       "      <td>767</td>\n",
       "      <td>0.082514</td>\n",
       "    </tr>\n",
       "  </tbody>\n",
       "</table>\n",
       "</div>"
      ],
      "text/plain": [
       "                                     score  encoder_width  learning_rate\n",
       "trial_id                                                                \n",
       "b8a2fda51667487cb6937e1a73bbbdbb  0.005438            299       0.001293\n",
       "94f9c534694db5070396737e5a8a67f6  0.012148            766       0.000134\n",
       "6cbdb2c8b928022a0af62d42dcc72f74  0.014693            708       0.000112\n",
       "91db4608ff953bc191f1da58ffb52a32  0.070084             83       0.000024\n",
       "bde6d68e7e595a141eeb8625602dcce9  0.116333            511       0.247445\n",
       "b40bfdce3179372277c3731f46d80928  0.117462            649       0.979620\n",
       "e76bf0e999ef8744fd701c9391bf8e3d  0.117479            475       0.816367\n",
       "5374f0a075e07c8be1666ea70af2cc3b  0.119079            638       0.496045\n",
       "9228aaa3b7f08986d00065abd889cd5b  0.123574            133       0.118716\n",
       "427f6d3f0194e72f6c9fb1ccc6251532  0.130506            767       0.082514"
      ]
     },
     "execution_count": 13,
     "metadata": {},
     "output_type": "execute_result"
    }
   ],
   "source": [
    "# The tuner's oracle property can be used to fetch information\n",
    "# about every trial, which can be used to build a table like so.\n",
    "\n",
    "pd.DataFrame([\n",
    "    {\n",
    "        'trial_id': t.trial_id,\n",
    "        'score': t.score,\n",
    "        **t.hyperparameters.values \n",
    "    }\n",
    "    for t in tuner_00a.oracle.get_best_trials(num_trials=10)\n",
    "]).set_index('trial_id')"
   ]
  },
  {
   "cell_type": "code",
   "execution_count": 14,
   "metadata": {},
   "outputs": [
    {
     "name": "stdout",
     "output_type": "stream",
     "text": [
      "Epoch 1/20\n",
      "383/383 [==============================] - 4s 11ms/step - loss: 0.0285 - val_loss: 0.0113\n",
      "Epoch 2/20\n",
      "383/383 [==============================] - 4s 9ms/step - loss: 0.0085 - val_loss: 0.0069\n",
      "Epoch 3/20\n",
      "383/383 [==============================] - 3s 9ms/step - loss: 0.0060 - val_loss: 0.0055\n",
      "Epoch 4/20\n",
      "383/383 [==============================] - 3s 9ms/step - loss: 0.0050 - val_loss: 0.0048\n",
      "Epoch 5/20\n",
      "383/383 [==============================] - 4s 10ms/step - loss: 0.0045 - val_loss: 0.0045\n",
      "Epoch 6/20\n",
      "383/383 [==============================] - 4s 9ms/step - loss: 0.0042 - val_loss: 0.0043\n",
      "Epoch 7/20\n",
      "383/383 [==============================] - 3s 9ms/step - loss: 0.0040 - val_loss: 0.0041\n",
      "Epoch 8/20\n",
      "383/383 [==============================] - 4s 9ms/step - loss: 0.0039 - val_loss: 0.0040\n",
      "Epoch 9/20\n",
      "383/383 [==============================] - 4s 9ms/step - loss: 0.0038 - val_loss: 0.0039\n",
      "Epoch 10/20\n",
      "383/383 [==============================] - 3s 9ms/step - loss: 0.0037 - val_loss: 0.0039\n",
      "Epoch 11/20\n",
      "383/383 [==============================] - 3s 9ms/step - loss: 0.0036 - val_loss: 0.0038\n",
      "Epoch 12/20\n",
      "383/383 [==============================] - 3s 9ms/step - loss: 0.0036 - val_loss: 0.0038\n",
      "Epoch 13/20\n",
      "383/383 [==============================] - 3s 9ms/step - loss: 0.0035 - val_loss: 0.0038\n",
      "Epoch 14/20\n",
      "383/383 [==============================] - 4s 9ms/step - loss: 0.0035 - val_loss: 0.0038\n",
      "Epoch 15/20\n",
      "383/383 [==============================] - 3s 9ms/step - loss: 0.0035 - val_loss: 0.0037\n",
      "Epoch 16/20\n",
      "383/383 [==============================] - 3s 9ms/step - loss: 0.0035 - val_loss: 0.0037\n",
      "Epoch 00016: early stopping\n"
     ]
    }
   ],
   "source": [
    "# You can proceed with the above model, but it might \n",
    "# be also a good idea to do a final training pass with the best hyperparameters\n",
    "best_hyperparameters = tuner_00a.get_best_hyperparameters()[0]\n",
    "\n",
    "np.random.seed(11)\n",
    "tf.random.set_seed(11)\n",
    "autoencoder_00a = build_model_00a(best_hyperparameters)\n",
    "history = train_model(autoencoder_00a, epochs=20)"
   ]
  },
  {
   "cell_type": "code",
   "execution_count": 15,
   "metadata": {},
   "outputs": [],
   "source": [
    "# Now we can feed the noisy images into the autoencoder.\n",
    "train_denoised_X = autoencoder_00a.predict(train_noisy_X)\n",
    "\n",
    "# Keras returns back a Numpy array, but we need Pandas dataframe,\n",
    "# so let's quickly put the denoised images into a dataframe.\n",
    "train_denoised_X = pd.DataFrame(train_denoised_X)"
   ]
  },
  {
   "cell_type": "code",
   "execution_count": 16,
   "metadata": {},
   "outputs": [
    {
     "data": {
      "image/png": "[encoded data removed]",
      "text/plain": [
       "<Figure size 432x288 with 1 Axes>"
      ]
     },
     "metadata": {
      "image/png": {
       "height": 248,
       "width": 251
      },
      "needs_background": "light"
     },
     "output_type": "display_data"
    }
   ],
   "source": [
    "# Let's confirm that the denoiser works.\n",
    "image_pixels = train_denoised_X.iloc[example_id]\n",
    "\n",
    "# In order to plot an image, you need to reshape\n",
    "# the array into a 28x28 grid.\n",
    "image_pixels = image_pixels.values.reshape(28, 28)\n",
    "\n",
    "plt.imshow(image_pixels, cmap='binary')\n",
    "plt.show()"
   ]
  },
  {
   "cell_type": "code",
   "execution_count": 17,
   "metadata": {},
   "outputs": [
    {
     "data": {
      "text/plain": [
       "0.003355044"
      ]
     },
     "execution_count": 17,
     "metadata": {},
     "output_type": "execute_result"
    }
   ],
   "source": [
    "# To calculate MSE between two datasets we can use scikit-learn:\n",
    "# https://scikit-learn.org/stable/\n",
    "from sklearn.metrics import mean_squared_error\n",
    "\n",
    "# This calcualates MSE on train clean against train denoised,\n",
    "# which measures how well the autoencoder denoises the training dataset.\n",
    "# Note that you really want to calculate this metric on validate and/or test dataset.\n",
    "# Don't let an overfitting model fool you into using it for the graded submission!\n",
    "mean_squared_error(train_denoised_X, train_clean_X)"
   ]
  },
  {
   "cell_type": "code",
   "execution_count": 18,
   "metadata": {},
   "outputs": [
    {
     "data": {
      "text/plain": [
       "0.003732987"
      ]
     },
     "execution_count": 18,
     "metadata": {},
     "output_type": "execute_result"
    }
   ],
   "source": [
    "# Validation MSE\n",
    "val_denoised_X = autoencoder_00a.predict(validate_noisy_X)\n",
    "val_denoised_X = pd.DataFrame(val_denoised_X)\n",
    "mean_squared_error(val_denoised_X, validate_clean_X)"
   ]
  },
  {
   "cell_type": "code",
   "execution_count": 19,
   "metadata": {},
   "outputs": [
    {
     "data": {
      "text/plain": [
       "0.003752441"
      ]
     },
     "execution_count": 19,
     "metadata": {},
     "output_type": "execute_result"
    }
   ],
   "source": [
    "# Test MSE\n",
    "test_denoised_X = autoencoder_00a.predict(test_noisy_X)\n",
    "test_denoised_X = pd.DataFrame(test_denoised_X)\n",
    "mean_squared_error(test_denoised_X, test_clean_X)"
   ]
  },
  {
   "cell_type": "markdown",
   "metadata": {},
   "source": [
    "Model 00b"
   ]
  },
  {
   "cell_type": "code",
   "execution_count": 20,
   "metadata": {},
   "outputs": [],
   "source": [
    "# In this couse, all assignments are expected to be\n",
    "# implemented with Tensorflow framework.\n",
    "# For this task, we can use its high-level Keras API:\n",
    "# https://keras.io\n",
    "\n",
    "from tensorflow.keras.layers import Input, Dense\n",
    "from tensorflow.keras.models import Sequential\n",
    "from tensorflow.keras import optimizers\n",
    "from kerastuner.engine.hyperparameters import HyperParameters\n",
    "\n",
    "def build_model_00b(hp: HyperParameters):\n",
    "\n",
    "    \n",
    "    layers = [\n",
    "        # Undercomplete or Overcomplete Autooencoder\n",
    "        Dense(\n",
    "            units=hp.Int('encoder_width', min_value=10, max_value=1500, sampling='linear'), \n",
    "            activation='elu', \n",
    "            input_shape=(28 * 28,)\n",
    "        ),\n",
    "\n",
    "        # Decoder: matches the shape of the image\n",
    "        # Sigmoid activation is needed because pixel\n",
    "        # values are real numbers between 0 (black) and 1 (white).\n",
    "        Dense(units=28*28, activation='sigmoid')\n",
    "    ]\n",
    "\n",
    "    # Sequential class is a Keras class that attaches every \n",
    "    # layer's output to the next layer's input.\n",
    "    # This is essentially a helper class for any feedforward networks.\n",
    "    autoencoder = Sequential(layers)\n",
    "\n",
    "    # Using MSE as the loss function, and Adam optimizer.\n",
    "    # Other optimizers can also be used.\n",
    "    autoencoder.compile(\n",
    "        optimizer=optimizers.Adam(\n",
    "            lr=hp.Float(name='learning_rate', min_value=1e-6, max_value=1e0, sampling='log')\n",
    "        ), \n",
    "        loss='mean_squared_error'\n",
    "    )\n",
    "    \n",
    "    return autoencoder"
   ]
  },
  {
   "cell_type": "code",
   "execution_count": 21,
   "metadata": {},
   "outputs": [
    {
     "name": "stdout",
     "output_type": "stream",
     "text": [
      "INFO:tensorflow:Reloading Oracle from existing project denoiser_hyperop/autoencoder_00b/oracle.json\n",
      "INFO:tensorflow:Reloading Tuner from denoiser_hyperop/autoencoder_00b/tuner0.json\n",
      "Search space summary\n",
      "Default search space size: 2\n",
      "encoder_width (Int)\n",
      "{'default': None, 'conditions': [], 'min_value': 10, 'max_value': 1500, 'step': 1, 'sampling': 'linear'}\n",
      "learning_rate (Float)\n",
      "{'default': 1e-06, 'conditions': [], 'min_value': 1e-06, 'max_value': 1.0, 'step': None, 'sampling': 'log'}\n"
     ]
    }
   ],
   "source": [
    "from kerastuner.tuners import RandomSearch\n",
    "\n",
    "# A tuner implements a particular hyperoptimization strategy.\n",
    "# This example uses a random search turner, which samples\n",
    "# hyperparameter values from the distributions specified\n",
    "# in the build_model function. You can use other tuners too:\n",
    "# https://keras-team.github.io/keras-tuner/documentation/tuners/\n",
    "\n",
    "tuner_00b = RandomSearch(\n",
    "    build_model_00b,\n",
    "    objective='val_loss',\n",
    "    max_trials=10,\n",
    "    executions_per_trial=3,\n",
    "    directory='denoiser_hyperop',\n",
    "    \n",
    "    # Experiment name must change if you modify\n",
    "    # the model structure or the set of hyperparameters.\n",
    "    project_name='autoencoder_00b'\n",
    ")\n",
    "\n",
    "# This displays which hyperparameters are tunable, and their respective distribution.\n",
    "tuner_00b.search_space_summary()"
   ]
  },
  {
   "cell_type": "code",
   "execution_count": 22,
   "metadata": {},
   "outputs": [
    {
     "name": "stdout",
     "output_type": "stream",
     "text": [
      "INFO:tensorflow:Oracle triggered exit\n"
     ]
    }
   ],
   "source": [
    "import numpy as np\n",
    "import tensorflow as tf\n",
    "np.random.seed(11)\n",
    "tf.random.set_seed(11)\n",
    "\n",
    "tuner_00b.search(    \n",
    "    # All parameters here are passed thru to Model.fit function.\n",
    "    x=train_noisy_X, \n",
    "    y=train_clean_X, \n",
    "    \n",
    "    # It's a good idea to have low number of epochs,\n",
    "    # to test the learning process, but not for the final model training.\n",
    "    epochs=3,\n",
    "    batch_size=128,\n",
    "    shuffle=True,\n",
    "    validation_data=(validate_noisy_X, validate_clean_X)\n",
    ")"
   ]
  },
  {
   "cell_type": "code",
   "execution_count": 23,
   "metadata": {},
   "outputs": [
    {
     "name": "stdout",
     "output_type": "stream",
     "text": [
      "Results summary\n",
      "Results in denoiser_hyperop/autoencoder_00b\n",
      "Showing 10 best trials\n",
      "Objective(name='val_loss', direction='min')\n",
      "Trial summary\n",
      "Hyperparameters:\n",
      "encoder_width: 1281\n",
      "learning_rate: 0.0004036750136767237\n",
      "Score: 0.003925766951094071\n",
      "Trial summary\n",
      "Hyperparameters:\n",
      "encoder_width: 822\n",
      "learning_rate: 0.004373799070130397\n",
      "Score: 0.0041850182848672075\n",
      "Trial summary\n",
      "Hyperparameters:\n",
      "encoder_width: 1431\n",
      "learning_rate: 0.00019555934062090788\n",
      "Score: 0.00483746025711298\n",
      "Trial summary\n",
      "Hyperparameters:\n",
      "encoder_width: 98\n",
      "learning_rate: 0.0038828410618021976\n",
      "Score: 0.00685749916980664\n",
      "Trial summary\n",
      "Hyperparameters:\n",
      "encoder_width: 1279\n",
      "learning_rate: 8.360408590430646e-05\n",
      "Score: 0.008471177580455938\n",
      "Trial summary\n",
      "Hyperparameters:\n",
      "encoder_width: 561\n",
      "learning_rate: 0.00014790837296402092\n",
      "Score: 0.008693287459512552\n",
      "Trial summary\n",
      "Hyperparameters:\n",
      "encoder_width: 363\n",
      "learning_rate: 0.0001698191091110832\n",
      "Score: 0.0102882186571757\n",
      "Trial summary\n",
      "Hyperparameters:\n",
      "encoder_width: 887\n",
      "learning_rate: 2.6515300936895327e-05\n",
      "Score: 0.026523261641462643\n",
      "Trial summary\n",
      "Hyperparameters:\n",
      "encoder_width: 674\n",
      "learning_rate: 2.799280253472665e-05\n",
      "Score: 0.02911927302678426\n",
      "Trial summary\n",
      "Hyperparameters:\n",
      "encoder_width: 601\n",
      "learning_rate: 2.3568210679661178e-05\n",
      "Score: 0.03470612317323685\n"
     ]
    }
   ],
   "source": [
    "# The following function can be used to view the search summary.\n",
    "tuner_00b.results_summary()"
   ]
  },
  {
   "cell_type": "code",
   "execution_count": 24,
   "metadata": {},
   "outputs": [
    {
     "data": {
      "text/html": [
       "<div>\n",
       "<style scoped>\n",
       "    .dataframe tbody tr th:only-of-type {\n",
       "        vertical-align: middle;\n",
       "    }\n",
       "\n",
       "    .dataframe tbody tr th {\n",
       "        vertical-align: top;\n",
       "    }\n",
       "\n",
       "    .dataframe thead th {\n",
       "        text-align: right;\n",
       "    }\n",
       "</style>\n",
       "<table border=\"1\" class=\"dataframe\">\n",
       "  <thead>\n",
       "    <tr style=\"text-align: right;\">\n",
       "      <th></th>\n",
       "      <th>score</th>\n",
       "      <th>encoder_width</th>\n",
       "      <th>learning_rate</th>\n",
       "    </tr>\n",
       "    <tr>\n",
       "      <th>trial_id</th>\n",
       "      <th></th>\n",
       "      <th></th>\n",
       "      <th></th>\n",
       "    </tr>\n",
       "  </thead>\n",
       "  <tbody>\n",
       "    <tr>\n",
       "      <th>d2d275607461c227343e1a82f5e05e27</th>\n",
       "      <td>0.003926</td>\n",
       "      <td>1281</td>\n",
       "      <td>0.000404</td>\n",
       "    </tr>\n",
       "    <tr>\n",
       "      <th>12d6a1a8c4f06a7679cad1746adae8c7</th>\n",
       "      <td>0.004185</td>\n",
       "      <td>822</td>\n",
       "      <td>0.004374</td>\n",
       "    </tr>\n",
       "    <tr>\n",
       "      <th>d72f4e0ebc8ee20f11836f1a1027c485</th>\n",
       "      <td>0.004837</td>\n",
       "      <td>1431</td>\n",
       "      <td>0.000196</td>\n",
       "    </tr>\n",
       "    <tr>\n",
       "      <th>c40ac68833895e99d7e43b5913deb713</th>\n",
       "      <td>0.006857</td>\n",
       "      <td>98</td>\n",
       "      <td>0.003883</td>\n",
       "    </tr>\n",
       "    <tr>\n",
       "      <th>f63e7f8eb7838cfe47239b97820c670e</th>\n",
       "      <td>0.008471</td>\n",
       "      <td>1279</td>\n",
       "      <td>0.000084</td>\n",
       "    </tr>\n",
       "    <tr>\n",
       "      <th>70f0871cc9663dd820493529b7e7ad79</th>\n",
       "      <td>0.008693</td>\n",
       "      <td>561</td>\n",
       "      <td>0.000148</td>\n",
       "    </tr>\n",
       "    <tr>\n",
       "      <th>8869afe8db2ae54c4fe2d686834ad531</th>\n",
       "      <td>0.010288</td>\n",
       "      <td>363</td>\n",
       "      <td>0.000170</td>\n",
       "    </tr>\n",
       "    <tr>\n",
       "      <th>587a3f90c09cec1f324c6c8bc4968fae</th>\n",
       "      <td>0.026523</td>\n",
       "      <td>887</td>\n",
       "      <td>0.000027</td>\n",
       "    </tr>\n",
       "    <tr>\n",
       "      <th>b21563ceaab987553988f01e03cd5e3a</th>\n",
       "      <td>0.029119</td>\n",
       "      <td>674</td>\n",
       "      <td>0.000028</td>\n",
       "    </tr>\n",
       "    <tr>\n",
       "      <th>a31d2ba618e63a8f75048b1d7e96d8a5</th>\n",
       "      <td>0.034706</td>\n",
       "      <td>601</td>\n",
       "      <td>0.000024</td>\n",
       "    </tr>\n",
       "  </tbody>\n",
       "</table>\n",
       "</div>"
      ],
      "text/plain": [
       "                                     score  encoder_width  learning_rate\n",
       "trial_id                                                                \n",
       "d2d275607461c227343e1a82f5e05e27  0.003926           1281       0.000404\n",
       "12d6a1a8c4f06a7679cad1746adae8c7  0.004185            822       0.004374\n",
       "d72f4e0ebc8ee20f11836f1a1027c485  0.004837           1431       0.000196\n",
       "c40ac68833895e99d7e43b5913deb713  0.006857             98       0.003883\n",
       "f63e7f8eb7838cfe47239b97820c670e  0.008471           1279       0.000084\n",
       "70f0871cc9663dd820493529b7e7ad79  0.008693            561       0.000148\n",
       "8869afe8db2ae54c4fe2d686834ad531  0.010288            363       0.000170\n",
       "587a3f90c09cec1f324c6c8bc4968fae  0.026523            887       0.000027\n",
       "b21563ceaab987553988f01e03cd5e3a  0.029119            674       0.000028\n",
       "a31d2ba618e63a8f75048b1d7e96d8a5  0.034706            601       0.000024"
      ]
     },
     "execution_count": 24,
     "metadata": {},
     "output_type": "execute_result"
    }
   ],
   "source": [
    "# The tuner's oracle property can be used to fetch information\n",
    "# about every trial, which can be used to build a table like so.\n",
    "\n",
    "pd.DataFrame([\n",
    "    {\n",
    "        'trial_id': t.trial_id,\n",
    "        'score': t.score,\n",
    "        **t.hyperparameters.values \n",
    "    }\n",
    "    for t in tuner_00b.oracle.get_best_trials(num_trials=10)\n",
    "]).set_index('trial_id')"
   ]
  },
  {
   "cell_type": "code",
   "execution_count": 25,
   "metadata": {},
   "outputs": [
    {
     "name": "stdout",
     "output_type": "stream",
     "text": [
      "Epoch 1/20\n",
      "383/383 [==============================] - 8s 20ms/step - loss: 0.0283 - val_loss: 0.0106\n",
      "Epoch 2/20\n",
      "383/383 [==============================] - 7s 19ms/step - loss: 0.0079 - val_loss: 0.0062\n",
      "Epoch 3/20\n",
      "383/383 [==============================] - 8s 22ms/step - loss: 0.0054 - val_loss: 0.0049\n",
      "Epoch 4/20\n",
      "383/383 [==============================] - 7s 18ms/step - loss: 0.0044 - val_loss: 0.0043\n",
      "Epoch 5/20\n",
      "383/383 [==============================] - 7s 18ms/step - loss: 0.0040 - val_loss: 0.0039\n",
      "Epoch 6/20\n",
      "383/383 [==============================] - 7s 17ms/step - loss: 0.0037 - val_loss: 0.0037\n",
      "Epoch 7/20\n",
      "383/383 [==============================] - 7s 19ms/step - loss: 0.0035 - val_loss: 0.0036\n",
      "Epoch 8/20\n",
      "383/383 [==============================] - 7s 19ms/step - loss: 0.0034 - val_loss: 0.0035\n",
      "Epoch 9/20\n",
      "383/383 [==============================] - 7s 18ms/step - loss: 0.0033 - val_loss: 0.0035\n",
      "Epoch 10/20\n",
      "383/383 [==============================] - 7s 19ms/step - loss: 0.0033 - val_loss: 0.0034\n",
      "Epoch 11/20\n",
      "383/383 [==============================] - 7s 19ms/step - loss: 0.0032 - val_loss: 0.0034\n",
      "Epoch 12/20\n",
      "383/383 [==============================] - 7s 19ms/step - loss: 0.0032 - val_loss: 0.0034\n",
      "Epoch 00012: early stopping\n"
     ]
    }
   ],
   "source": [
    "# You can proceed with the above model, but it might \n",
    "# be also a good idea to do a final training pass with the best hyperparameters\n",
    "best_hyperparameters = tuner_00b.get_best_hyperparameters()[0]\n",
    "\n",
    "np.random.seed(11)\n",
    "tf.random.set_seed(11)\n",
    "autoencoder_00b = build_model_00b(best_hyperparameters)\n",
    "history = train_model(autoencoder_00b, epochs=20)"
   ]
  },
  {
   "cell_type": "code",
   "execution_count": 26,
   "metadata": {},
   "outputs": [],
   "source": [
    "# Now we can feed the noisy images into the autoencoder.\n",
    "train_denoised_X = autoencoder_00b.predict(train_noisy_X)\n",
    "\n",
    "# Keras returns back a Numpy array, but we need Pandas dataframe,\n",
    "# so let's quickly put the denoised images into a dataframe.\n",
    "train_denoised_X = pd.DataFrame(train_denoised_X)"
   ]
  },
  {
   "cell_type": "code",
   "execution_count": 27,
   "metadata": {},
   "outputs": [
    {
     "data": {
      "image/png": "[encoded data removed]",
      "text/plain": [
       "<Figure size 432x288 with 1 Axes>"
      ]
     },
     "metadata": {
      "image/png": {
       "height": 248,
       "width": 251
      },
      "needs_background": "light"
     },
     "output_type": "display_data"
    }
   ],
   "source": [
    "# Let's confirm that the denoiser works.\n",
    "image_pixels = train_denoised_X.iloc[example_id]\n",
    "\n",
    "# In order to plot an image, you need to reshape\n",
    "# the array into a 28x28 grid.\n",
    "image_pixels = image_pixels.values.reshape(28, 28)\n",
    "\n",
    "plt.imshow(image_pixels, cmap='binary')\n",
    "plt.show()"
   ]
  },
  {
   "cell_type": "code",
   "execution_count": 28,
   "metadata": {},
   "outputs": [
    {
     "data": {
      "text/plain": [
       "0.0030786735"
      ]
     },
     "execution_count": 28,
     "metadata": {},
     "output_type": "execute_result"
    }
   ],
   "source": [
    "# To calculate MSE between two datasets we can use scikit-learn:\n",
    "# https://scikit-learn.org/stable/\n",
    "from sklearn.metrics import mean_squared_error\n",
    "\n",
    "# This calcualates MSE on train clean against train denoised,\n",
    "# which measures how well the autoencoder denoises the training dataset.\n",
    "# Note that you really want to calculate this metric on validate and/or test dataset.\n",
    "# Don't let an overfitting model fool you into using it for the graded submission!\n",
    "mean_squared_error(train_denoised_X, train_clean_X)"
   ]
  },
  {
   "cell_type": "code",
   "execution_count": 29,
   "metadata": {},
   "outputs": [
    {
     "data": {
      "text/plain": [
       "0.0034148968"
      ]
     },
     "execution_count": 29,
     "metadata": {},
     "output_type": "execute_result"
    }
   ],
   "source": [
    "# Validate MSE\n",
    "val_denoised_X = autoencoder_00b.predict(validate_noisy_X)\n",
    "val_denoised_X = pd.DataFrame(val_denoised_X)\n",
    "mean_squared_error(val_denoised_X, validate_clean_X)"
   ]
  },
  {
   "cell_type": "code",
   "execution_count": 30,
   "metadata": {},
   "outputs": [
    {
     "data": {
      "text/plain": [
       "0.0034350972"
      ]
     },
     "execution_count": 30,
     "metadata": {},
     "output_type": "execute_result"
    }
   ],
   "source": [
    "# Test MSE\n",
    "test_denoised_X = autoencoder_00b.predict(test_noisy_X)\n",
    "test_denoised_X = pd.DataFrame(test_denoised_X)\n",
    "mean_squared_error(test_denoised_X, test_clean_X)"
   ]
  },
  {
   "cell_type": "markdown",
   "metadata": {},
   "source": [
    "## Model 1"
   ]
  },
  {
   "cell_type": "code",
   "execution_count": 31,
   "metadata": {},
   "outputs": [],
   "source": [
    "# In this couse, all assignments are expected to be\n",
    "# implemented with Tensorflow framework.\n",
    "# For this task, we can use its high-level Keras API:\n",
    "# https://keras.io\n",
    "\n",
    "from tensorflow.keras.layers import Input, Dense\n",
    "from tensorflow.keras.models import Sequential\n",
    "from tensorflow.keras import optimizers\n",
    "from kerastuner.engine.hyperparameters import HyperParameters\n",
    "\n",
    "def build_model_1(hp: HyperParameters):\n",
    "    \n",
    "    layers = [\n",
    "        # Undercomplete Autooencoder\n",
    "        Dense(\n",
    "            units=hp.Int('encoder_width', min_value=5, max_value=784, sampling='linear'), \n",
    "            activation='elu', \n",
    "            input_shape=(28 * 28,)\n",
    "        ),\n",
    "\n",
    "        # Decoder: matches the shape of the image\n",
    "        # Sigmoid activation is needed because pixel\n",
    "        # values are real numbers between 0 (black) and 1 (white).\n",
    "        Dense(units=28*28, activation='sigmoid')\n",
    "    ]\n",
    "\n",
    "    # Sequential class is a Keras class that attaches every \n",
    "    # layer's output to the next layer's input.\n",
    "    # This is essentially a helper class for any feedforward networks.\n",
    "    autoencoder = Sequential(layers)\n",
    "\n",
    "    # Using MSE as the loss function, and Adam optimizer.\n",
    "    # Other optimizers can also be used.\n",
    "    autoencoder.compile(\n",
    "        optimizer=optimizers.Adam(\n",
    "            lr=hp.Float(name='learning_rate', min_value=1e-5, max_value=1e0, sampling='log')\n",
    "        ), \n",
    "        loss='mean_squared_error'\n",
    "    )\n",
    "    \n",
    "    return autoencoder"
   ]
  },
  {
   "cell_type": "code",
   "execution_count": 32,
   "metadata": {},
   "outputs": [
    {
     "name": "stdout",
     "output_type": "stream",
     "text": [
      "INFO:tensorflow:Reloading Oracle from existing project denoiser_hyperop/autoencoder_01/oracle.json\n",
      "INFO:tensorflow:Reloading Tuner from denoiser_hyperop/autoencoder_01/tuner0.json\n",
      "Search space summary\n",
      "Default search space size: 2\n",
      "encoder_width (Int)\n",
      "{'default': None, 'conditions': [], 'min_value': 5, 'max_value': 784, 'step': 1, 'sampling': 'linear'}\n",
      "learning_rate (Float)\n",
      "{'default': 1e-05, 'conditions': [], 'min_value': 1e-05, 'max_value': 1.0, 'step': None, 'sampling': 'log'}\n"
     ]
    }
   ],
   "source": [
    "from kerastuner.tuners import RandomSearch\n",
    "\n",
    "# A tuner implements a particular hyperoptimization strategy.\n",
    "# This example uses a random search turner, which samples\n",
    "# hyperparameter values from the distributions specified\n",
    "# in the build_model function. You can use other tuners too:\n",
    "# https://keras-team.github.io/keras-tuner/documentation/tuners/\n",
    "\n",
    "tuner_1 = RandomSearch(\n",
    "    build_model_1,\n",
    "    objective='val_loss',\n",
    "    max_trials=10,\n",
    "    executions_per_trial=3,\n",
    "    directory='denoiser_hyperop',\n",
    "    seed = 11,\n",
    "    \n",
    "    # Experiment name must change if you modify\n",
    "    # the model structure or the set of hyperparameters.\n",
    "    project_name='autoencoder_01'\n",
    ")\n",
    "\n",
    "# This displays which hyperparameters are tunable, and their respective distribution.\n",
    "tuner_1.search_space_summary()"
   ]
  },
  {
   "cell_type": "code",
   "execution_count": 33,
   "metadata": {},
   "outputs": [
    {
     "name": "stdout",
     "output_type": "stream",
     "text": [
      "INFO:tensorflow:Oracle triggered exit\n"
     ]
    }
   ],
   "source": [
    "import numpy as np\n",
    "import tensorflow as tf\n",
    "np.random.seed(11)\n",
    "tf.random.set_seed(11)\n",
    "\n",
    "tuner_1.search(    \n",
    "    # All parameters here are passed thru to Model.fit function.\n",
    "    x=train_noisy_X, \n",
    "    y=train_clean_X, \n",
    "    \n",
    "    # It's a good idea to have low number of epochs,\n",
    "    # to test the learning process, but not for the final model training.\n",
    "    epochs=5,\n",
    "    batch_size=128,\n",
    "    shuffle=True,\n",
    "    validation_data=(validate_noisy_X, validate_clean_X)\n",
    ")"
   ]
  },
  {
   "cell_type": "code",
   "execution_count": 34,
   "metadata": {},
   "outputs": [
    {
     "name": "stdout",
     "output_type": "stream",
     "text": [
      "Results summary\n",
      "Results in denoiser_hyperop/autoencoder_01\n",
      "Showing 10 best trials\n",
      "Objective(name='val_loss', direction='min')\n",
      "Trial summary\n",
      "Hyperparameters:\n",
      "encoder_width: 757\n",
      "learning_rate: 0.0006421165661811643\n",
      "Score: 0.003997755392144124\n",
      "Trial summary\n",
      "Hyperparameters:\n",
      "encoder_width: 357\n",
      "learning_rate: 0.0023596815314090077\n",
      "Score: 0.004063034585366647\n",
      "Trial summary\n",
      "Hyperparameters:\n",
      "encoder_width: 432\n",
      "learning_rate: 0.0049591566044750336\n",
      "Score: 0.004215344941864411\n",
      "Trial summary\n",
      "Hyperparameters:\n",
      "encoder_width: 412\n",
      "learning_rate: 8.059800956363889e-05\n",
      "Score: 0.016945260887344677\n",
      "Trial summary\n",
      "Hyperparameters:\n",
      "encoder_width: 510\n",
      "learning_rate: 3.671012394996135e-05\n",
      "Score: 0.02780314286549886\n",
      "Trial summary\n",
      "Hyperparameters:\n",
      "encoder_width: 207\n",
      "learning_rate: 3.42091819151074e-05\n",
      "Score: 0.04525237282117208\n",
      "Trial summary\n",
      "Hyperparameters:\n",
      "encoder_width: 532\n",
      "learning_rate: 0.3374414129312114\n",
      "Score: 0.11660376191139221\n",
      "Trial summary\n",
      "Hyperparameters:\n",
      "encoder_width: 133\n",
      "learning_rate: 0.6180831427998797\n",
      "Score: 0.11859568705161412\n",
      "Trial summary\n",
      "Hyperparameters:\n",
      "encoder_width: 299\n",
      "learning_rate: 0.054507508491382334\n",
      "Score: 0.13027583559354147\n",
      "Trial summary\n",
      "Hyperparameters:\n",
      "encoder_width: 725\n",
      "learning_rate: 0.03645146094173221\n",
      "Score: 0.14493746558825174\n"
     ]
    }
   ],
   "source": [
    "# The following function can be used to view the search summary.\n",
    "tuner_1.results_summary()"
   ]
  },
  {
   "cell_type": "code",
   "execution_count": 35,
   "metadata": {},
   "outputs": [
    {
     "data": {
      "text/html": [
       "<div>\n",
       "<style scoped>\n",
       "    .dataframe tbody tr th:only-of-type {\n",
       "        vertical-align: middle;\n",
       "    }\n",
       "\n",
       "    .dataframe tbody tr th {\n",
       "        vertical-align: top;\n",
       "    }\n",
       "\n",
       "    .dataframe thead th {\n",
       "        text-align: right;\n",
       "    }\n",
       "</style>\n",
       "<table border=\"1\" class=\"dataframe\">\n",
       "  <thead>\n",
       "    <tr style=\"text-align: right;\">\n",
       "      <th></th>\n",
       "      <th>score</th>\n",
       "      <th>encoder_width</th>\n",
       "      <th>learning_rate</th>\n",
       "    </tr>\n",
       "    <tr>\n",
       "      <th>trial_id</th>\n",
       "      <th></th>\n",
       "      <th></th>\n",
       "      <th></th>\n",
       "    </tr>\n",
       "  </thead>\n",
       "  <tbody>\n",
       "    <tr>\n",
       "      <th>5212e673b24faa44db71f2363288a45c</th>\n",
       "      <td>0.003998</td>\n",
       "      <td>757</td>\n",
       "      <td>0.000642</td>\n",
       "    </tr>\n",
       "    <tr>\n",
       "      <th>3d9c387c94ba04cc312245b1cb12cdc3</th>\n",
       "      <td>0.004063</td>\n",
       "      <td>357</td>\n",
       "      <td>0.002360</td>\n",
       "    </tr>\n",
       "    <tr>\n",
       "      <th>228b6d46aa6e27b59652c46a681056bf</th>\n",
       "      <td>0.004215</td>\n",
       "      <td>432</td>\n",
       "      <td>0.004959</td>\n",
       "    </tr>\n",
       "    <tr>\n",
       "      <th>5eb2b201b99d2a93dd04920a4b47b8e3</th>\n",
       "      <td>0.016945</td>\n",
       "      <td>412</td>\n",
       "      <td>0.000081</td>\n",
       "    </tr>\n",
       "    <tr>\n",
       "      <th>c0100dac06d2c74fa5d44196f141025c</th>\n",
       "      <td>0.027803</td>\n",
       "      <td>510</td>\n",
       "      <td>0.000037</td>\n",
       "    </tr>\n",
       "    <tr>\n",
       "      <th>337ec84988321ad0041b439b9e79d33b</th>\n",
       "      <td>0.045252</td>\n",
       "      <td>207</td>\n",
       "      <td>0.000034</td>\n",
       "    </tr>\n",
       "    <tr>\n",
       "      <th>a5b626c66811b8dff92c3b7bfcc907ac</th>\n",
       "      <td>0.116604</td>\n",
       "      <td>532</td>\n",
       "      <td>0.337441</td>\n",
       "    </tr>\n",
       "    <tr>\n",
       "      <th>05aba5a005c166f158c24f7305ebe31e</th>\n",
       "      <td>0.118596</td>\n",
       "      <td>133</td>\n",
       "      <td>0.618083</td>\n",
       "    </tr>\n",
       "    <tr>\n",
       "      <th>ba2c0dd3e7cc6778c31e163eed4fb44c</th>\n",
       "      <td>0.130276</td>\n",
       "      <td>299</td>\n",
       "      <td>0.054508</td>\n",
       "    </tr>\n",
       "    <tr>\n",
       "      <th>5ebacc3b271cc0e6c5534bd38a4cf486</th>\n",
       "      <td>0.144937</td>\n",
       "      <td>725</td>\n",
       "      <td>0.036451</td>\n",
       "    </tr>\n",
       "  </tbody>\n",
       "</table>\n",
       "</div>"
      ],
      "text/plain": [
       "                                     score  encoder_width  learning_rate\n",
       "trial_id                                                                \n",
       "5212e673b24faa44db71f2363288a45c  0.003998            757       0.000642\n",
       "3d9c387c94ba04cc312245b1cb12cdc3  0.004063            357       0.002360\n",
       "228b6d46aa6e27b59652c46a681056bf  0.004215            432       0.004959\n",
       "5eb2b201b99d2a93dd04920a4b47b8e3  0.016945            412       0.000081\n",
       "c0100dac06d2c74fa5d44196f141025c  0.027803            510       0.000037\n",
       "337ec84988321ad0041b439b9e79d33b  0.045252            207       0.000034\n",
       "a5b626c66811b8dff92c3b7bfcc907ac  0.116604            532       0.337441\n",
       "05aba5a005c166f158c24f7305ebe31e  0.118596            133       0.618083\n",
       "ba2c0dd3e7cc6778c31e163eed4fb44c  0.130276            299       0.054508\n",
       "5ebacc3b271cc0e6c5534bd38a4cf486  0.144937            725       0.036451"
      ]
     },
     "execution_count": 35,
     "metadata": {},
     "output_type": "execute_result"
    }
   ],
   "source": [
    "# The tuner's oracle property can be used to fetch information\n",
    "# about every trial, which can be used to build a table like so.\n",
    "\n",
    "pd.DataFrame([\n",
    "    {\n",
    "        'trial_id': t.trial_id,\n",
    "        'score': t.score,\n",
    "        **t.hyperparameters.values \n",
    "    }\n",
    "    for t in tuner_1.oracle.get_best_trials(num_trials=10)\n",
    "]).set_index('trial_id')"
   ]
  },
  {
   "cell_type": "code",
   "execution_count": 36,
   "metadata": {},
   "outputs": [
    {
     "name": "stdout",
     "output_type": "stream",
     "text": [
      "Epoch 1/20\n",
      "383/383 [==============================] - 7s 17ms/step - loss: 0.0272 - val_loss: 0.0102\n",
      "Epoch 2/20\n",
      "383/383 [==============================] - 6s 16ms/step - loss: 0.0076 - val_loss: 0.0061\n",
      "Epoch 3/20\n",
      "383/383 [==============================] - 7s 17ms/step - loss: 0.0053 - val_loss: 0.0049\n",
      "Epoch 4/20\n",
      "383/383 [==============================] - 7s 18ms/step - loss: 0.0044 - val_loss: 0.0043\n",
      "Epoch 5/20\n",
      "383/383 [==============================] - 6s 16ms/step - loss: 0.0040 - val_loss: 0.0040\n",
      "Epoch 6/20\n",
      "383/383 [==============================] - 6s 17ms/step - loss: 0.0037 - val_loss: 0.0038\n",
      "Epoch 7/20\n",
      "383/383 [==============================] - 6s 17ms/step - loss: 0.0036 - val_loss: 0.0037\n",
      "Epoch 8/20\n",
      "383/383 [==============================] - 7s 17ms/step - loss: 0.0035 - val_loss: 0.0036\n",
      "Epoch 9/20\n",
      "383/383 [==============================] - 6s 16ms/step - loss: 0.0034 - val_loss: 0.0036\n",
      "Epoch 10/20\n",
      "383/383 [==============================] - 6s 15ms/step - loss: 0.0033 - val_loss: 0.0035\n",
      "Epoch 11/20\n",
      "383/383 [==============================] - 6s 15ms/step - loss: 0.0033 - val_loss: 0.0035\n",
      "Epoch 12/20\n",
      "383/383 [==============================] - 6s 15ms/step - loss: 0.0032 - val_loss: 0.0035\n",
      "Epoch 13/20\n",
      "383/383 [==============================] - 5s 14ms/step - loss: 0.0032 - val_loss: 0.0035\n",
      "Epoch 14/20\n",
      "383/383 [==============================] - 5s 13ms/step - loss: 0.0032 - val_loss: 0.0035\n",
      "Epoch 00014: early stopping\n"
     ]
    }
   ],
   "source": [
    "# You can proceed with the above model, but it might \n",
    "# be also a good idea to do a final training pass with the best hyperparameters\n",
    "best_hyperparameters = tuner_1.get_best_hyperparameters()[0]\n",
    "\n",
    "np.random.seed(11)\n",
    "tf.random.set_seed(11)\n",
    "autoencoder_1 = build_model_1(best_hyperparameters)\n",
    "history = train_model(autoencoder_1, epochs=20)"
   ]
  },
  {
   "cell_type": "code",
   "execution_count": 37,
   "metadata": {},
   "outputs": [],
   "source": [
    "# Now we can feed the noisy images into the autoencoder.\n",
    "train_denoised_X = autoencoder_1.predict(train_noisy_X)\n",
    "\n",
    "# Keras returns back a Numpy array, but we need Pandas dataframe,\n",
    "# so let's quickly put the denoised images into a dataframe.\n",
    "train_denoised_X = pd.DataFrame(train_denoised_X)"
   ]
  },
  {
   "cell_type": "code",
   "execution_count": 38,
   "metadata": {},
   "outputs": [
    {
     "data": {
      "image/png": "[encoded data removed]",
      "text/plain": [
       "<Figure size 432x288 with 1 Axes>"
      ]
     },
     "metadata": {
      "image/png": {
       "height": 248,
       "width": 251
      },
      "needs_background": "light"
     },
     "output_type": "display_data"
    }
   ],
   "source": [
    "# Let's confirm that the denoiser works.\n",
    "image_pixels = train_denoised_X.iloc[example_id]\n",
    "\n",
    "# In order to plot an image, you need to reshape\n",
    "# the array into a 28x28 grid.\n",
    "image_pixels = image_pixels.values.reshape(28, 28)\n",
    "\n",
    "plt.imshow(image_pixels, cmap='binary')\n",
    "plt.show()"
   ]
  },
  {
   "cell_type": "code",
   "execution_count": 39,
   "metadata": {},
   "outputs": [
    {
     "data": {
      "text/plain": [
       "0.0030897968"
      ]
     },
     "execution_count": 39,
     "metadata": {},
     "output_type": "execute_result"
    }
   ],
   "source": [
    "# To calculate MSE between two datasets we can use scikit-learn:\n",
    "# https://scikit-learn.org/stable/\n",
    "from sklearn.metrics import mean_squared_error\n",
    "\n",
    "# This calcualates MSE on train clean against train denoised,\n",
    "# which measures how well the autoencoder denoises the training dataset.\n",
    "# Note that you really want to calculate this metric on validate and/or test dataset.\n",
    "# Don't let an overfitting model fool you into using it for the graded submission!\n",
    "mean_squared_error(train_denoised_X, train_clean_X)"
   ]
  },
  {
   "cell_type": "code",
   "execution_count": 40,
   "metadata": {},
   "outputs": [
    {
     "data": {
      "text/plain": [
       "0.003476523"
      ]
     },
     "execution_count": 40,
     "metadata": {},
     "output_type": "execute_result"
    }
   ],
   "source": [
    "# Validate MSE\n",
    "val_denoised_X = autoencoder_1.predict(validate_noisy_X)\n",
    "val_denoised_X = pd.DataFrame(val_denoised_X)\n",
    "mean_squared_error(val_denoised_X, validate_clean_X)"
   ]
  },
  {
   "cell_type": "code",
   "execution_count": 41,
   "metadata": {},
   "outputs": [
    {
     "data": {
      "text/plain": [
       "0.0035004327"
      ]
     },
     "execution_count": 41,
     "metadata": {},
     "output_type": "execute_result"
    }
   ],
   "source": [
    "# Test MSE\n",
    "test_denoised_X = autoencoder_1.predict(test_noisy_X)\n",
    "test_denoised_X = pd.DataFrame(test_denoised_X)\n",
    "mean_squared_error(test_denoised_X, test_clean_X)"
   ]
  },
  {
   "cell_type": "markdown",
   "metadata": {},
   "source": [
    "## Model 2"
   ]
  },
  {
   "cell_type": "code",
   "execution_count": 42,
   "metadata": {},
   "outputs": [],
   "source": [
    "# In this couse, all assignments are expected to be\n",
    "# implemented with Tensorflow framework.\n",
    "# For this task, we can use its high-level Keras API:\n",
    "# https://keras.io\n",
    "\n",
    "from tensorflow.keras.layers import Input, Dense\n",
    "from tensorflow.keras.models import Sequential\n",
    "from tensorflow.keras import optimizers\n",
    "from kerastuner.engine.hyperparameters import HyperParameters\n",
    "\n",
    "def build_model_2(hp: HyperParameters):\n",
    "    \n",
    "    layers = [\n",
    "        # Under or Overcomplete Autooencoder\n",
    "        Dense(\n",
    "            units=hp.Int('encoder_width', min_value=10, max_value=1500, sampling='linear'), \n",
    "            activation='elu', \n",
    "            input_shape=(28 * 28,)\n",
    "        ),\n",
    "\n",
    "        # Decoder: matches the shape of the image\n",
    "        # Sigmoid activation is needed because pixel\n",
    "        # values are real numbers between 0 (black) and 1 (white).\n",
    "        Dense(units=28*28, activation='sigmoid')\n",
    "    ]\n",
    "\n",
    "    # Sequential class is a Keras class that attaches every \n",
    "    # layer's output to the next layer's input.\n",
    "    # This is essentially a helper class for any feedforward networks.\n",
    "    autoencoder = Sequential(layers)\n",
    "\n",
    "    # Using MSE as the loss function, and Adam optimizer.\n",
    "    # Other optimizers can also be used.\n",
    "    autoencoder.compile(\n",
    "        optimizer=optimizers.Adam(\n",
    "            lr=hp.Float(name='learning_rate', min_value=1e-6, max_value=1e0, sampling='log')\n",
    "        ), \n",
    "        loss='mean_squared_error'\n",
    "    )\n",
    "    \n",
    "    return autoencoder"
   ]
  },
  {
   "cell_type": "code",
   "execution_count": 43,
   "metadata": {},
   "outputs": [
    {
     "name": "stdout",
     "output_type": "stream",
     "text": [
      "INFO:tensorflow:Reloading Oracle from existing project denoiser_hyperop/autoencoder_02/oracle.json\n",
      "INFO:tensorflow:Reloading Tuner from denoiser_hyperop/autoencoder_02/tuner0.json\n",
      "Search space summary\n",
      "Default search space size: 2\n",
      "encoder_width (Int)\n",
      "{'default': None, 'conditions': [], 'min_value': 10, 'max_value': 1500, 'step': 1, 'sampling': 'linear'}\n",
      "learning_rate (Float)\n",
      "{'default': 1e-06, 'conditions': [], 'min_value': 1e-06, 'max_value': 1.0, 'step': None, 'sampling': 'log'}\n"
     ]
    }
   ],
   "source": [
    "from kerastuner.tuners import RandomSearch\n",
    "\n",
    "# A tuner implements a particular hyperoptimization strategy.\n",
    "# This example uses a random search turner, which samples\n",
    "# hyperparameter values from the distributions specified\n",
    "# in the build_model function. You can use other tuners too:\n",
    "# https://keras-team.github.io/keras-tuner/documentation/tuners/\n",
    "\n",
    "tuner_2 = RandomSearch(\n",
    "    build_model_2,\n",
    "    objective='val_loss',\n",
    "    max_trials=30,\n",
    "    executions_per_trial=3,\n",
    "    directory='denoiser_hyperop',\n",
    "    seed = 11,\n",
    "    \n",
    "    # Experiment name must change if you modify\n",
    "    # the model structure or the set of hyperparameters.\n",
    "    project_name='autoencoder_02'\n",
    ")\n",
    "\n",
    "# This displays which hyperparameters are tunable, and their respective distribution.\n",
    "tuner_2.search_space_summary()"
   ]
  },
  {
   "cell_type": "code",
   "execution_count": 44,
   "metadata": {},
   "outputs": [
    {
     "name": "stdout",
     "output_type": "stream",
     "text": [
      "INFO:tensorflow:Oracle triggered exit\n"
     ]
    }
   ],
   "source": [
    "import numpy as np\n",
    "import tensorflow as tf\n",
    "np.random.seed(11)\n",
    "tf.random.set_seed(11)\n",
    "\n",
    "tuner_2.search(    \n",
    "    # All parameters here are passed thru to Model.fit function.\n",
    "    x=train_noisy_X, \n",
    "    y=train_clean_X, \n",
    "    \n",
    "    # It's a good idea to have low number of epochs,\n",
    "    # to test the learning process, but not for the final model training.\n",
    "    epochs=5,\n",
    "    batch_size=128,\n",
    "    shuffle=True,\n",
    "    validation_data=(validate_noisy_X, validate_clean_X)\n",
    ")"
   ]
  },
  {
   "cell_type": "code",
   "execution_count": 45,
   "metadata": {},
   "outputs": [
    {
     "name": "stdout",
     "output_type": "stream",
     "text": [
      "Results summary\n",
      "Results in denoiser_hyperop/autoencoder_02\n",
      "Showing 10 best trials\n",
      "Objective(name='val_loss', direction='min')\n",
      "Trial summary\n",
      "Hyperparameters:\n",
      "encoder_width: 860\n",
      "learning_rate: 0.0014914623602938733\n",
      "Score: 0.003689116875951489\n",
      "Trial summary\n",
      "Hyperparameters:\n",
      "encoder_width: 827\n",
      "learning_rate: 0.0017158897803426344\n",
      "Score: 0.0037214018714924655\n",
      "Trial summary\n",
      "Hyperparameters:\n",
      "encoder_width: 534\n",
      "learning_rate: 0.0019451225580466702\n",
      "Score: 0.0038582947260389724\n",
      "Trial summary\n",
      "Hyperparameters:\n",
      "encoder_width: 684\n",
      "learning_rate: 0.0007037591786967162\n",
      "Score: 0.003998099050174157\n",
      "Trial summary\n",
      "Hyperparameters:\n",
      "encoder_width: 673\n",
      "learning_rate: 0.0007193654464866931\n",
      "Score: 0.004008726216852665\n",
      "Trial summary\n",
      "Hyperparameters:\n",
      "encoder_width: 578\n",
      "learning_rate: 0.006863739474770759\n",
      "Score: 0.004700471802304189\n",
      "Trial summary\n",
      "Hyperparameters:\n",
      "encoder_width: 1448\n",
      "learning_rate: 0.00014761709330638468\n",
      "Score: 0.0055564469657838345\n",
      "Trial summary\n",
      "Hyperparameters:\n",
      "encoder_width: 323\n",
      "learning_rate: 0.0005644692084376411\n",
      "Score: 0.005559059946487348\n",
      "Trial summary\n",
      "Hyperparameters:\n",
      "encoder_width: 110\n",
      "learning_rate: 0.000966539066728621\n",
      "Score: 0.007745132005463044\n",
      "Trial summary\n",
      "Hyperparameters:\n",
      "encoder_width: 73\n",
      "learning_rate: 0.0030517080942932206\n",
      "Score: 0.009288528934121132\n"
     ]
    }
   ],
   "source": [
    "# The following function can be used to view the search summary.\n",
    "tuner_2.results_summary()"
   ]
  },
  {
   "cell_type": "code",
   "execution_count": 46,
   "metadata": {},
   "outputs": [
    {
     "data": {
      "text/html": [
       "<div>\n",
       "<style scoped>\n",
       "    .dataframe tbody tr th:only-of-type {\n",
       "        vertical-align: middle;\n",
       "    }\n",
       "\n",
       "    .dataframe tbody tr th {\n",
       "        vertical-align: top;\n",
       "    }\n",
       "\n",
       "    .dataframe thead th {\n",
       "        text-align: right;\n",
       "    }\n",
       "</style>\n",
       "<table border=\"1\" class=\"dataframe\">\n",
       "  <thead>\n",
       "    <tr style=\"text-align: right;\">\n",
       "      <th></th>\n",
       "      <th>score</th>\n",
       "      <th>encoder_width</th>\n",
       "      <th>learning_rate</th>\n",
       "    </tr>\n",
       "    <tr>\n",
       "      <th>trial_id</th>\n",
       "      <th></th>\n",
       "      <th></th>\n",
       "      <th></th>\n",
       "    </tr>\n",
       "  </thead>\n",
       "  <tbody>\n",
       "    <tr>\n",
       "      <th>84ae1408664e4eab5d68594dd43f994a</th>\n",
       "      <td>0.003689</td>\n",
       "      <td>860</td>\n",
       "      <td>0.001491</td>\n",
       "    </tr>\n",
       "    <tr>\n",
       "      <th>8c21ffa0d0bc2d9ad8f2f41c49d058e3</th>\n",
       "      <td>0.003721</td>\n",
       "      <td>827</td>\n",
       "      <td>0.001716</td>\n",
       "    </tr>\n",
       "    <tr>\n",
       "      <th>949a479166f01b660850150b6f8599b3</th>\n",
       "      <td>0.003858</td>\n",
       "      <td>534</td>\n",
       "      <td>0.001945</td>\n",
       "    </tr>\n",
       "    <tr>\n",
       "      <th>54aa90b4eb3d08aa0bb11ab7307164dd</th>\n",
       "      <td>0.003998</td>\n",
       "      <td>684</td>\n",
       "      <td>0.000704</td>\n",
       "    </tr>\n",
       "    <tr>\n",
       "      <th>ceae435491bf7db7ecce91167836a967</th>\n",
       "      <td>0.004009</td>\n",
       "      <td>673</td>\n",
       "      <td>0.000719</td>\n",
       "    </tr>\n",
       "    <tr>\n",
       "      <th>c0fff578c0ae6af1c139b12e8a9d8a76</th>\n",
       "      <td>0.004700</td>\n",
       "      <td>578</td>\n",
       "      <td>0.006864</td>\n",
       "    </tr>\n",
       "    <tr>\n",
       "      <th>598c2a032b8194e7048292d3ae59e38b</th>\n",
       "      <td>0.005556</td>\n",
       "      <td>1448</td>\n",
       "      <td>0.000148</td>\n",
       "    </tr>\n",
       "    <tr>\n",
       "      <th>d5d6a756f8e69301771ccccfffb83902</th>\n",
       "      <td>0.005559</td>\n",
       "      <td>323</td>\n",
       "      <td>0.000564</td>\n",
       "    </tr>\n",
       "    <tr>\n",
       "      <th>24e8e677735669947fba30ecaaff0cc2</th>\n",
       "      <td>0.007745</td>\n",
       "      <td>110</td>\n",
       "      <td>0.000967</td>\n",
       "    </tr>\n",
       "    <tr>\n",
       "      <th>e1dd14e9d19722f8eb374a5d20ace343</th>\n",
       "      <td>0.009289</td>\n",
       "      <td>73</td>\n",
       "      <td>0.003052</td>\n",
       "    </tr>\n",
       "  </tbody>\n",
       "</table>\n",
       "</div>"
      ],
      "text/plain": [
       "                                     score  encoder_width  learning_rate\n",
       "trial_id                                                                \n",
       "84ae1408664e4eab5d68594dd43f994a  0.003689            860       0.001491\n",
       "8c21ffa0d0bc2d9ad8f2f41c49d058e3  0.003721            827       0.001716\n",
       "949a479166f01b660850150b6f8599b3  0.003858            534       0.001945\n",
       "54aa90b4eb3d08aa0bb11ab7307164dd  0.003998            684       0.000704\n",
       "ceae435491bf7db7ecce91167836a967  0.004009            673       0.000719\n",
       "c0fff578c0ae6af1c139b12e8a9d8a76  0.004700            578       0.006864\n",
       "598c2a032b8194e7048292d3ae59e38b  0.005556           1448       0.000148\n",
       "d5d6a756f8e69301771ccccfffb83902  0.005559            323       0.000564\n",
       "24e8e677735669947fba30ecaaff0cc2  0.007745            110       0.000967\n",
       "e1dd14e9d19722f8eb374a5d20ace343  0.009289             73       0.003052"
      ]
     },
     "execution_count": 46,
     "metadata": {},
     "output_type": "execute_result"
    }
   ],
   "source": [
    "# The tuner's oracle property can be used to fetch information\n",
    "# about every trial, which can be used to build a table like so.\n",
    "\n",
    "pd.DataFrame([\n",
    "    {\n",
    "        'trial_id': t.trial_id,\n",
    "        'score': t.score,\n",
    "        **t.hyperparameters.values \n",
    "    }\n",
    "    for t in tuner_2.oracle.get_best_trials(num_trials=10)\n",
    "]).set_index('trial_id')"
   ]
  },
  {
   "cell_type": "code",
   "execution_count": 47,
   "metadata": {},
   "outputs": [
    {
     "name": "stdout",
     "output_type": "stream",
     "text": [
      "Epoch 1/20\n",
      "383/383 [==============================] - 6s 16ms/step - loss: 0.0208 - val_loss: 0.0071\n",
      "Epoch 2/20\n",
      "383/383 [==============================] - 5s 14ms/step - loss: 0.0054 - val_loss: 0.0046\n",
      "Epoch 3/20\n",
      "383/383 [==============================] - 6s 15ms/step - loss: 0.0041 - val_loss: 0.0040\n",
      "Epoch 4/20\n",
      "383/383 [==============================] - 6s 15ms/step - loss: 0.0037 - val_loss: 0.0038\n",
      "Epoch 5/20\n",
      "383/383 [==============================] - 6s 15ms/step - loss: 0.0036 - val_loss: 0.0037\n",
      "Epoch 6/20\n",
      "383/383 [==============================] - 5s 14ms/step - loss: 0.0035 - val_loss: 0.0037\n",
      "Epoch 7/20\n",
      "383/383 [==============================] - 5s 14ms/step - loss: 0.0034 - val_loss: 0.0037\n",
      "Epoch 00007: early stopping\n"
     ]
    }
   ],
   "source": [
    "# You can proceed with the above model, but it might \n",
    "# be also a good idea to do a final training pass with the best hyperparameters\n",
    "best_hyperparameters = tuner_2.get_best_hyperparameters()[0]\n",
    "\n",
    "np.random.seed(11)\n",
    "tf.random.set_seed(11)\n",
    "autoencoder_2 = build_model_2(best_hyperparameters)\n",
    "history = train_model(autoencoder_2, epochs=20)"
   ]
  },
  {
   "cell_type": "code",
   "execution_count": 48,
   "metadata": {},
   "outputs": [],
   "source": [
    "# Now we can feed the noisy images into the autoencoder.\n",
    "train_denoised_X = autoencoder_2.predict(train_noisy_X)\n",
    "\n",
    "# Keras returns back a Numpy array, but we need Pandas dataframe,\n",
    "# so let's quickly put the denoised images into a dataframe.\n",
    "train_denoised_X = pd.DataFrame(train_denoised_X)"
   ]
  },
  {
   "cell_type": "code",
   "execution_count": 49,
   "metadata": {},
   "outputs": [
    {
     "data": {
      "image/png": "[encoded data removed]",
      "text/plain": [
       "<Figure size 432x288 with 1 Axes>"
      ]
     },
     "metadata": {
      "image/png": {
       "height": 248,
       "width": 251
      },
      "needs_background": "light"
     },
     "output_type": "display_data"
    }
   ],
   "source": [
    "# Let's confirm that the denoiser works.\n",
    "image_pixels = train_denoised_X.iloc[example_id]\n",
    "\n",
    "# In order to plot an image, you need to reshape\n",
    "# the array into a 28x28 grid.\n",
    "image_pixels = image_pixels.values.reshape(28, 28)\n",
    "\n",
    "plt.imshow(image_pixels, cmap='binary')\n",
    "plt.show()"
   ]
  },
  {
   "cell_type": "code",
   "execution_count": 50,
   "metadata": {},
   "outputs": [
    {
     "data": {
      "text/plain": [
       "0.0032684125"
      ]
     },
     "execution_count": 50,
     "metadata": {},
     "output_type": "execute_result"
    }
   ],
   "source": [
    "# To calculate MSE between two datasets we can use scikit-learn:\n",
    "# https://scikit-learn.org/stable/\n",
    "from sklearn.metrics import mean_squared_error\n",
    "\n",
    "# This calcualates MSE on train clean against train denoised,\n",
    "# which measures how well the autoencoder denoises the training dataset.\n",
    "# Note that you really want to calculate this metric on validate and/or test dataset.\n",
    "# Don't let an overfitting model fool you into using it for the graded submission!\n",
    "mean_squared_error(train_denoised_X, train_clean_X)"
   ]
  },
  {
   "cell_type": "code",
   "execution_count": 51,
   "metadata": {},
   "outputs": [
    {
     "data": {
      "text/plain": [
       "0.0036617431"
      ]
     },
     "execution_count": 51,
     "metadata": {},
     "output_type": "execute_result"
    }
   ],
   "source": [
    "# Validate MSE\n",
    "val_denoised_X = autoencoder_2.predict(validate_noisy_X)\n",
    "val_denoised_X = pd.DataFrame(val_denoised_X)\n",
    "mean_squared_error(val_denoised_X, validate_clean_X)"
   ]
  },
  {
   "cell_type": "code",
   "execution_count": 52,
   "metadata": {},
   "outputs": [
    {
     "data": {
      "text/plain": [
       "0.003686001"
      ]
     },
     "execution_count": 52,
     "metadata": {},
     "output_type": "execute_result"
    }
   ],
   "source": [
    "# Test MSE\n",
    "test_denoised_X = autoencoder_2.predict(test_noisy_X)\n",
    "test_denoised_X = pd.DataFrame(test_denoised_X)\n",
    "mean_squared_error(test_denoised_X, test_clean_X)"
   ]
  },
  {
   "cell_type": "markdown",
   "metadata": {},
   "source": [
    "## Model 3"
   ]
  },
  {
   "cell_type": "code",
   "execution_count": 53,
   "metadata": {},
   "outputs": [],
   "source": [
    "# In this couse, all assignments are expected to be\n",
    "# implemented with Tensorflow framework.\n",
    "# For this task, we can use its high-level Keras API:\n",
    "# https://keras.io\n",
    "\n",
    "from tensorflow.keras.layers import Input, Dense\n",
    "from tensorflow.keras.models import Sequential\n",
    "from tensorflow.keras import optimizers\n",
    "from kerastuner.engine.hyperparameters import HyperParameters\n",
    "\n",
    "def build_model_3(hp: HyperParameters):\n",
    "    \n",
    "    layers = [\n",
    "        # Single Layer under or over complete autoencoder\n",
    "        Dense(\n",
    "            units=hp.Int('encoder_width', min_value=5, max_value=1500, sampling='linear'), \n",
    "            activation='elu', \n",
    "            input_shape=(28 * 28,)\n",
    "        ),\n",
    "\n",
    "        # Decoder: matches the shape of the image\n",
    "        # Sigmoid activation is needed because pixel\n",
    "        # values are real numbers between 0 (black) and 1 (white).\n",
    "        Dense(units=28*28, activation='sigmoid')\n",
    "    ]\n",
    "\n",
    "    # Sequential class is a Keras class that attaches every \n",
    "    # layer's output to the next layer's input.\n",
    "    # This is essentially a helper class for any feedforward networks.\n",
    "    autoencoder = Sequential(layers)\n",
    "\n",
    "    # Using MSE as the loss function, and Adam optimizer.\n",
    "    # Other optimizers can also be used.\n",
    "    autoencoder.compile(\n",
    "        optimizer=optimizers.Adam(\n",
    "            lr=hp.Float(name='learning_rate', min_value=1e-6, max_value=1e0, sampling='log')\n",
    "        ), \n",
    "        loss='mean_squared_error'\n",
    "    )\n",
    "    \n",
    "    return autoencoder"
   ]
  },
  {
   "cell_type": "code",
   "execution_count": 54,
   "metadata": {},
   "outputs": [
    {
     "name": "stdout",
     "output_type": "stream",
     "text": [
      "INFO:tensorflow:Reloading Oracle from existing project denoiser_hyperop/autoencoder_03/oracle.json\n",
      "INFO:tensorflow:Reloading Tuner from denoiser_hyperop/autoencoder_03/tuner0.json\n",
      "Search space summary\n",
      "Default search space size: 2\n",
      "encoder_width (Int)\n",
      "{'default': None, 'conditions': [], 'min_value': 5, 'max_value': 1500, 'step': 1, 'sampling': 'linear'}\n",
      "learning_rate (Float)\n",
      "{'default': 1e-06, 'conditions': [], 'min_value': 1e-06, 'max_value': 1.0, 'step': None, 'sampling': 'log'}\n"
     ]
    }
   ],
   "source": [
    "from kerastuner.tuners import RandomSearch\n",
    "\n",
    "# A tuner implements a particular hyperoptimization strategy.\n",
    "# This example uses a random search turner, which samples\n",
    "# hyperparameter values from the distributions specified\n",
    "# in the build_model function. You can use other tuners too:\n",
    "# https://keras-team.github.io/keras-tuner/documentation/tuners/\n",
    "\n",
    "tuner_3 = RandomSearch(\n",
    "    build_model_3,\n",
    "    objective='val_loss',\n",
    "    max_trials=75,\n",
    "    executions_per_trial=3,\n",
    "    directory='denoiser_hyperop',\n",
    "    seed = 11,\n",
    "    \n",
    "    # Experiment name must change if you modify\n",
    "    # the model structure or the set of hyperparameters.\n",
    "    project_name='autoencoder_03'\n",
    ")\n",
    "\n",
    "# This displays which hyperparameters are tunable, and their respective distribution.\n",
    "tuner_3.search_space_summary()"
   ]
  },
  {
   "cell_type": "code",
   "execution_count": 55,
   "metadata": {},
   "outputs": [
    {
     "name": "stdout",
     "output_type": "stream",
     "text": [
      "INFO:tensorflow:Oracle triggered exit\n"
     ]
    }
   ],
   "source": [
    "import numpy as np\n",
    "import tensorflow as tf\n",
    "np.random.seed(11)\n",
    "tf.random.set_seed(11)\n",
    "\n",
    "tuner_3.search(    \n",
    "    # All parameters here are passed thru to Model.fit function.\n",
    "    x=train_noisy_X, \n",
    "    y=train_clean_X, \n",
    "    \n",
    "    # It's a good idea to have low number of epochs,\n",
    "    # to test the learning process, but not for the final model training.\n",
    "    epochs=5,\n",
    "    batch_size=128,\n",
    "    shuffle=True,\n",
    "    validation_data=(validate_noisy_X, validate_clean_X)\n",
    ")"
   ]
  },
  {
   "cell_type": "code",
   "execution_count": 56,
   "metadata": {},
   "outputs": [
    {
     "name": "stdout",
     "output_type": "stream",
     "text": [
      "Results summary\n",
      "Results in denoiser_hyperop/autoencoder_03\n",
      "Showing 10 best trials\n",
      "Objective(name='val_loss', direction='min')\n",
      "Trial summary\n",
      "Hyperparameters:\n",
      "encoder_width: 1390\n",
      "learning_rate: 0.0012292146399012808\n",
      "Score: 0.0036147932211558023\n",
      "Trial summary\n",
      "Hyperparameters:\n",
      "encoder_width: 1242\n",
      "learning_rate: 0.0007717556265736999\n",
      "Score: 0.0036307493379960456\n",
      "Trial summary\n",
      "Hyperparameters:\n",
      "encoder_width: 881\n",
      "learning_rate: 0.0013142187269092555\n",
      "Score: 0.0036738761700689793\n",
      "Trial summary\n",
      "Hyperparameters:\n",
      "encoder_width: 858\n",
      "learning_rate: 0.0014914623602938733\n",
      "Score: 0.0036921092929939428\n",
      "Trial summary\n",
      "Hyperparameters:\n",
      "encoder_width: 1369\n",
      "learning_rate: 0.0019090149136833528\n",
      "Score: 0.0037059750563154616\n",
      "Trial summary\n",
      "Hyperparameters:\n",
      "encoder_width: 824\n",
      "learning_rate: 0.0017158897803426344\n",
      "Score: 0.003725914672637979\n",
      "Trial summary\n",
      "Hyperparameters:\n",
      "encoder_width: 1360\n",
      "learning_rate: 0.0004893316763889607\n",
      "Score: 0.0037536276504397392\n",
      "Trial summary\n",
      "Hyperparameters:\n",
      "encoder_width: 873\n",
      "learning_rate: 0.0008446501687436356\n",
      "Score: 0.003754677949473262\n",
      "Trial summary\n",
      "Hyperparameters:\n",
      "encoder_width: 531\n",
      "learning_rate: 0.0019451225580466702\n",
      "Score: 0.0038514878445615373\n",
      "Trial summary\n",
      "Hyperparameters:\n",
      "encoder_width: 743\n",
      "learning_rate: 0.0008029944368137176\n",
      "Score: 0.0038639140936235585\n"
     ]
    }
   ],
   "source": [
    "# The following function can be used to view the search summary.\n",
    "tuner_3.results_summary()"
   ]
  },
  {
   "cell_type": "code",
   "execution_count": 57,
   "metadata": {},
   "outputs": [
    {
     "data": {
      "text/html": [
       "<div>\n",
       "<style scoped>\n",
       "    .dataframe tbody tr th:only-of-type {\n",
       "        vertical-align: middle;\n",
       "    }\n",
       "\n",
       "    .dataframe tbody tr th {\n",
       "        vertical-align: top;\n",
       "    }\n",
       "\n",
       "    .dataframe thead th {\n",
       "        text-align: right;\n",
       "    }\n",
       "</style>\n",
       "<table border=\"1\" class=\"dataframe\">\n",
       "  <thead>\n",
       "    <tr style=\"text-align: right;\">\n",
       "      <th></th>\n",
       "      <th>score</th>\n",
       "      <th>encoder_width</th>\n",
       "      <th>learning_rate</th>\n",
       "    </tr>\n",
       "    <tr>\n",
       "      <th>trial_id</th>\n",
       "      <th></th>\n",
       "      <th></th>\n",
       "      <th></th>\n",
       "    </tr>\n",
       "  </thead>\n",
       "  <tbody>\n",
       "    <tr>\n",
       "      <th>97c0d40a00bc20f5a5271f76895e0fa8</th>\n",
       "      <td>0.003615</td>\n",
       "      <td>1390</td>\n",
       "      <td>0.001229</td>\n",
       "    </tr>\n",
       "    <tr>\n",
       "      <th>ffd84a014785a836d8f8e22cd6ed6f57</th>\n",
       "      <td>0.003631</td>\n",
       "      <td>1242</td>\n",
       "      <td>0.000772</td>\n",
       "    </tr>\n",
       "    <tr>\n",
       "      <th>b6999be9aec0d806b1eccbbe46cb2ecf</th>\n",
       "      <td>0.003674</td>\n",
       "      <td>881</td>\n",
       "      <td>0.001314</td>\n",
       "    </tr>\n",
       "    <tr>\n",
       "      <th>0a31ead5523e0a6ff397e5f974705611</th>\n",
       "      <td>0.003692</td>\n",
       "      <td>858</td>\n",
       "      <td>0.001491</td>\n",
       "    </tr>\n",
       "    <tr>\n",
       "      <th>5a49069cd5fb14e5950b69c5f35dd889</th>\n",
       "      <td>0.003706</td>\n",
       "      <td>1369</td>\n",
       "      <td>0.001909</td>\n",
       "    </tr>\n",
       "    <tr>\n",
       "      <th>1ce478a38f11db9dd68657449750d71f</th>\n",
       "      <td>0.003726</td>\n",
       "      <td>824</td>\n",
       "      <td>0.001716</td>\n",
       "    </tr>\n",
       "    <tr>\n",
       "      <th>74ae55681e29e78bdd2d5aa59f550cc9</th>\n",
       "      <td>0.003754</td>\n",
       "      <td>1360</td>\n",
       "      <td>0.000489</td>\n",
       "    </tr>\n",
       "    <tr>\n",
       "      <th>67448a42b4b33a4c24d1d2d12434ff4f</th>\n",
       "      <td>0.003755</td>\n",
       "      <td>873</td>\n",
       "      <td>0.000845</td>\n",
       "    </tr>\n",
       "    <tr>\n",
       "      <th>5915dd3c6d6e702df6d309f624eb4799</th>\n",
       "      <td>0.003851</td>\n",
       "      <td>531</td>\n",
       "      <td>0.001945</td>\n",
       "    </tr>\n",
       "    <tr>\n",
       "      <th>aa5e70277fc61daf2cb0cecb44158a83</th>\n",
       "      <td>0.003864</td>\n",
       "      <td>743</td>\n",
       "      <td>0.000803</td>\n",
       "    </tr>\n",
       "  </tbody>\n",
       "</table>\n",
       "</div>"
      ],
      "text/plain": [
       "                                     score  encoder_width  learning_rate\n",
       "trial_id                                                                \n",
       "97c0d40a00bc20f5a5271f76895e0fa8  0.003615           1390       0.001229\n",
       "ffd84a014785a836d8f8e22cd6ed6f57  0.003631           1242       0.000772\n",
       "b6999be9aec0d806b1eccbbe46cb2ecf  0.003674            881       0.001314\n",
       "0a31ead5523e0a6ff397e5f974705611  0.003692            858       0.001491\n",
       "5a49069cd5fb14e5950b69c5f35dd889  0.003706           1369       0.001909\n",
       "1ce478a38f11db9dd68657449750d71f  0.003726            824       0.001716\n",
       "74ae55681e29e78bdd2d5aa59f550cc9  0.003754           1360       0.000489\n",
       "67448a42b4b33a4c24d1d2d12434ff4f  0.003755            873       0.000845\n",
       "5915dd3c6d6e702df6d309f624eb4799  0.003851            531       0.001945\n",
       "aa5e70277fc61daf2cb0cecb44158a83  0.003864            743       0.000803"
      ]
     },
     "execution_count": 57,
     "metadata": {},
     "output_type": "execute_result"
    }
   ],
   "source": [
    "# The tuner's oracle property can be used to fetch information\n",
    "# about every trial, which can be used to build a table like so.\n",
    "\n",
    "pd.DataFrame([\n",
    "    {\n",
    "        'trial_id': t.trial_id,\n",
    "        'score': t.score,\n",
    "        **t.hyperparameters.values \n",
    "    }\n",
    "    for t in tuner_3.oracle.get_best_trials(num_trials=10)\n",
    "]).set_index('trial_id')"
   ]
  },
  {
   "cell_type": "code",
   "execution_count": 58,
   "metadata": {},
   "outputs": [
    {
     "name": "stdout",
     "output_type": "stream",
     "text": [
      "Epoch 1/500\n",
      "383/383 [==============================] - 8s 21ms/step - loss: 0.0199 - val_loss: 0.0067\n",
      "Epoch 2/500\n",
      "383/383 [==============================] - 7s 18ms/step - loss: 0.0050 - val_loss: 0.0043\n",
      "Epoch 3/500\n",
      "383/383 [==============================] - 7s 19ms/step - loss: 0.0039 - val_loss: 0.0038\n",
      "Epoch 4/500\n",
      "383/383 [==============================] - 7s 19ms/step - loss: 0.0036 - val_loss: 0.0037\n",
      "Epoch 5/500\n",
      "383/383 [==============================] - 7s 18ms/step - loss: 0.0034 - val_loss: 0.0036\n",
      "Epoch 6/500\n",
      "383/383 [==============================] - 7s 19ms/step - loss: 0.0034 - val_loss: 0.0036\n",
      "Epoch 7/500\n",
      "383/383 [==============================] - 7s 19ms/step - loss: 0.0033 - val_loss: 0.0036\n",
      "Epoch 00007: early stopping\n"
     ]
    }
   ],
   "source": [
    "# You can proceed with the above model, but it might \n",
    "# be also a good idea to do a final training pass with the best hyperparameters\n",
    "best_hyperparameters = tuner_3.get_best_hyperparameters()[0]\n",
    "\n",
    "np.random.seed(11)\n",
    "tf.random.set_seed(11)\n",
    "autoencoder_3 = build_model_3(best_hyperparameters)\n",
    "history = train_model(autoencoder_3, epochs=500)"
   ]
  },
  {
   "cell_type": "code",
   "execution_count": 59,
   "metadata": {},
   "outputs": [],
   "source": [
    "# Now we can feed the noisy images into the autoencoder.\n",
    "train_denoised_X = autoencoder_3.predict(train_noisy_X)\n",
    "\n",
    "# Keras returns back a Numpy array, but we need Pandas dataframe,\n",
    "# so let's quickly put the denoised images into a dataframe.\n",
    "train_denoised_X = pd.DataFrame(train_denoised_X)"
   ]
  },
  {
   "cell_type": "code",
   "execution_count": 60,
   "metadata": {},
   "outputs": [
    {
     "data": {
      "image/png": "[encoded data removed]",
      "text/plain": [
       "<Figure size 432x288 with 1 Axes>"
      ]
     },
     "metadata": {
      "image/png": {
       "height": 248,
       "width": 251
      },
      "needs_background": "light"
     },
     "output_type": "display_data"
    }
   ],
   "source": [
    "# Let's confirm that the denoiser works.\n",
    "image_pixels = train_denoised_X.iloc[example_id]\n",
    "\n",
    "# In order to plot an image, you need to reshape\n",
    "# the array into a 28x28 grid.\n",
    "image_pixels = image_pixels.values.reshape(28, 28)\n",
    "\n",
    "plt.imshow(image_pixels, cmap='binary')\n",
    "plt.show()"
   ]
  },
  {
   "cell_type": "code",
   "execution_count": 61,
   "metadata": {},
   "outputs": [
    {
     "data": {
      "text/plain": [
       "0.0031836"
      ]
     },
     "execution_count": 61,
     "metadata": {},
     "output_type": "execute_result"
    }
   ],
   "source": [
    "# To calculate MSE between two datasets we can use scikit-learn:\n",
    "# https://scikit-learn.org/stable/\n",
    "from sklearn.metrics import mean_squared_error\n",
    "\n",
    "# This calcualates MSE on train clean against train denoised,\n",
    "# which measures how well the autoencoder denoises the training dataset.\n",
    "# Note that you really want to calculate this metric on validate and/or test dataset.\n",
    "# Don't let an overfitting model fool you into using it for the graded submission!\n",
    "mean_squared_error(train_denoised_X, train_clean_X)"
   ]
  },
  {
   "cell_type": "code",
   "execution_count": 62,
   "metadata": {},
   "outputs": [
    {
     "data": {
      "text/plain": [
       "0.003606023"
      ]
     },
     "execution_count": 62,
     "metadata": {},
     "output_type": "execute_result"
    }
   ],
   "source": [
    "# Validate MSE\n",
    "val_denoised_X = autoencoder_3.predict(validate_noisy_X)\n",
    "val_denoised_X = pd.DataFrame(val_denoised_X)\n",
    "mean_squared_error(val_denoised_X, validate_clean_X)"
   ]
  },
  {
   "cell_type": "code",
   "execution_count": 63,
   "metadata": {},
   "outputs": [
    {
     "data": {
      "text/plain": [
       "0.0036322544"
      ]
     },
     "execution_count": 63,
     "metadata": {},
     "output_type": "execute_result"
    }
   ],
   "source": [
    "# Test MSE\n",
    "test_denoised_X = autoencoder_3.predict(test_noisy_X)\n",
    "test_denoised_X = pd.DataFrame(test_denoised_X)\n",
    "mean_squared_error(test_denoised_X, test_clean_X)"
   ]
  },
  {
   "cell_type": "markdown",
   "metadata": {},
   "source": [
    "## Model 4"
   ]
  },
  {
   "cell_type": "code",
   "execution_count": 64,
   "metadata": {},
   "outputs": [],
   "source": [
    "# In this couse, all assignments are expected to be\n",
    "# implemented with Tensorflow framework.\n",
    "# For this task, we can use its high-level Keras API:\n",
    "# https://keras.io\n",
    "\n",
    "from tensorflow.keras.layers import Input, Dense\n",
    "from tensorflow.keras.models import Sequential\n",
    "from tensorflow.keras import optimizers\n",
    "from kerastuner.engine.hyperparameters import HyperParameters\n",
    "\n",
    "def build_model_4(hp: HyperParameters):\n",
    "    \n",
    "    layers = [\n",
    "        # 2 layers Autooencoder\n",
    "        Dense(\n",
    "            units=hp.Int('encoder_width_1', min_value=5, max_value=1500, sampling='linear'), \n",
    "            activation='elu', \n",
    "            input_shape=(28 * 28,)\n",
    "        ),\n",
    "        \n",
    "        Dense(\n",
    "            units=hp.Int('encoder_width_2', min_value=5, max_value=1500, sampling='linear'), \n",
    "            activation='elu', \n",
    "            input_shape=(28 * 28,)\n",
    "        ),\n",
    "\n",
    "        # Decoder: matches the shape of the image\n",
    "        # Sigmoid activation is needed because pixel\n",
    "        # values are real numbers between 0 (black) and 1 (white).\n",
    "        Dense(units=28*28, activation='sigmoid')\n",
    "    ]\n",
    "\n",
    "    # Sequential class is a Keras class that attaches every \n",
    "    # layer's output to the next layer's input.\n",
    "    # This is essentially a helper class for any feedforward networks.\n",
    "    autoencoder = Sequential(layers)\n",
    "\n",
    "    # Using MSE as the loss function, and Adam optimizer.\n",
    "    # Other optimizers can also be used.\n",
    "    autoencoder.compile(\n",
    "        optimizer=optimizers.Adam(\n",
    "            lr=hp.Float(name='learning_rate', min_value=1e-6, max_value=1e0, sampling='log')\n",
    "        ), \n",
    "        loss='mean_squared_error'\n",
    "    )\n",
    "    \n",
    "    return autoencoder"
   ]
  },
  {
   "cell_type": "code",
   "execution_count": 65,
   "metadata": {},
   "outputs": [
    {
     "name": "stdout",
     "output_type": "stream",
     "text": [
      "INFO:tensorflow:Reloading Oracle from existing project denoiser_hyperop/autoencoder_04/oracle.json\n",
      "INFO:tensorflow:Reloading Tuner from denoiser_hyperop/autoencoder_04/tuner0.json\n",
      "Search space summary\n",
      "Default search space size: 3\n",
      "encoder_width_1 (Int)\n",
      "{'default': None, 'conditions': [], 'min_value': 5, 'max_value': 1500, 'step': 1, 'sampling': 'linear'}\n",
      "encoder_width_2 (Int)\n",
      "{'default': None, 'conditions': [], 'min_value': 5, 'max_value': 1500, 'step': 1, 'sampling': 'linear'}\n",
      "learning_rate (Float)\n",
      "{'default': 1e-06, 'conditions': [], 'min_value': 1e-06, 'max_value': 1.0, 'step': None, 'sampling': 'log'}\n"
     ]
    }
   ],
   "source": [
    "from kerastuner.tuners import RandomSearch\n",
    "\n",
    "# A tuner implements a particular hyperoptimization strategy.\n",
    "# This example uses a random search turner, which samples\n",
    "# hyperparameter values from the distributions specified\n",
    "# in the build_model function. You can use other tuners too:\n",
    "# https://keras-team.github.io/keras-tuner/documentation/tuners/\n",
    "\n",
    "tuner_4 = RandomSearch(\n",
    "    build_model_4,\n",
    "    objective='val_loss',\n",
    "    max_trials=50,\n",
    "    executions_per_trial=3,\n",
    "    directory='denoiser_hyperop',\n",
    "    seed = 11,\n",
    "    \n",
    "    # Experiment name must change if you modify\n",
    "    # the model structure or the set of hyperparameters.\n",
    "    project_name='autoencoder_04'\n",
    ")\n",
    "\n",
    "# This displays which hyperparameters are tunable, and their respective distribution.\n",
    "tuner_4.search_space_summary()"
   ]
  },
  {
   "cell_type": "code",
   "execution_count": 66,
   "metadata": {},
   "outputs": [
    {
     "name": "stdout",
     "output_type": "stream",
     "text": [
      "INFO:tensorflow:Oracle triggered exit\n"
     ]
    }
   ],
   "source": [
    "import numpy as np\n",
    "import tensorflow as tf\n",
    "np.random.seed(11)\n",
    "tf.random.set_seed(11)\n",
    "\n",
    "tuner_4.search(    \n",
    "    # All parameters here are passed thru to Model.fit function.\n",
    "    x=train_noisy_X, \n",
    "    y=train_clean_X, \n",
    "    \n",
    "    # It's a good idea to have low number of epochs,\n",
    "    # to test the learning process, but not for the final model training.\n",
    "    epochs=5,\n",
    "    batch_size=128,\n",
    "    shuffle=True,\n",
    "    validation_data=(validate_noisy_X, validate_clean_X)\n",
    ")"
   ]
  },
  {
   "cell_type": "code",
   "execution_count": 67,
   "metadata": {},
   "outputs": [
    {
     "name": "stdout",
     "output_type": "stream",
     "text": [
      "Results summary\n",
      "Results in denoiser_hyperop/autoencoder_04\n",
      "Showing 10 best trials\n",
      "Objective(name='val_loss', direction='min')\n",
      "Trial summary\n",
      "Hyperparameters:\n",
      "encoder_width_1: 1402\n",
      "encoder_width_2: 1242\n",
      "learning_rate: 0.0007717556265736999\n",
      "Score: 0.003820758235330383\n",
      "Trial summary\n",
      "Hyperparameters:\n",
      "encoder_width_1: 1410\n",
      "encoder_width_2: 881\n",
      "learning_rate: 0.0013142187269092555\n",
      "Score: 0.003984404106934865\n",
      "Trial summary\n",
      "Hyperparameters:\n",
      "encoder_width_1: 1392\n",
      "encoder_width_2: 670\n",
      "learning_rate: 0.0007193654464866931\n",
      "Score: 0.004074728737274806\n",
      "Trial summary\n",
      "Hyperparameters:\n",
      "encoder_width_1: 634\n",
      "encoder_width_2: 1369\n",
      "learning_rate: 0.0019090149136833528\n",
      "Score: 0.004111925916125377\n",
      "Trial summary\n",
      "Hyperparameters:\n",
      "encoder_width_1: 477\n",
      "encoder_width_2: 622\n",
      "learning_rate: 0.000918323932517095\n",
      "Score: 0.004378519952297211\n",
      "Trial summary\n",
      "Hyperparameters:\n",
      "encoder_width_1: 729\n",
      "encoder_width_2: 1006\n",
      "learning_rate: 0.002846408638804213\n",
      "Score: 0.004428541908661525\n",
      "Trial summary\n",
      "Hyperparameters:\n",
      "encoder_width_1: 1388\n",
      "encoder_width_2: 1070\n",
      "learning_rate: 0.00018271483680065497\n",
      "Score: 0.004653943857798974\n",
      "Trial summary\n",
      "Hyperparameters:\n",
      "encoder_width_1: 1159\n",
      "encoder_width_2: 778\n",
      "learning_rate: 0.003129901255416245\n",
      "Score: 0.0046994187869131565\n",
      "Trial summary\n",
      "Hyperparameters:\n",
      "encoder_width_1: 340\n",
      "encoder_width_2: 465\n",
      "learning_rate: 0.0009266689597413743\n",
      "Score: 0.004866385832428932\n",
      "Trial summary\n",
      "Hyperparameters:\n",
      "encoder_width_1: 961\n",
      "encoder_width_2: 319\n",
      "learning_rate: 0.0005644692084376411\n",
      "Score: 0.005124058574438095\n"
     ]
    }
   ],
   "source": [
    "# The following function can be used to view the search summary.\n",
    "tuner_4.results_summary()"
   ]
  },
  {
   "cell_type": "code",
   "execution_count": 68,
   "metadata": {},
   "outputs": [
    {
     "data": {
      "text/html": [
       "<div>\n",
       "<style scoped>\n",
       "    .dataframe tbody tr th:only-of-type {\n",
       "        vertical-align: middle;\n",
       "    }\n",
       "\n",
       "    .dataframe tbody tr th {\n",
       "        vertical-align: top;\n",
       "    }\n",
       "\n",
       "    .dataframe thead th {\n",
       "        text-align: right;\n",
       "    }\n",
       "</style>\n",
       "<table border=\"1\" class=\"dataframe\">\n",
       "  <thead>\n",
       "    <tr style=\"text-align: right;\">\n",
       "      <th></th>\n",
       "      <th>score</th>\n",
       "      <th>encoder_width_1</th>\n",
       "      <th>encoder_width_2</th>\n",
       "      <th>learning_rate</th>\n",
       "    </tr>\n",
       "    <tr>\n",
       "      <th>trial_id</th>\n",
       "      <th></th>\n",
       "      <th></th>\n",
       "      <th></th>\n",
       "      <th></th>\n",
       "    </tr>\n",
       "  </thead>\n",
       "  <tbody>\n",
       "    <tr>\n",
       "      <th>2aef6fde8f0ee0b66205e726c12e8d9d</th>\n",
       "      <td>0.003821</td>\n",
       "      <td>1402</td>\n",
       "      <td>1242</td>\n",
       "      <td>0.000772</td>\n",
       "    </tr>\n",
       "    <tr>\n",
       "      <th>a5e62e21ddcdc897e997b195df33d537</th>\n",
       "      <td>0.003984</td>\n",
       "      <td>1410</td>\n",
       "      <td>881</td>\n",
       "      <td>0.001314</td>\n",
       "    </tr>\n",
       "    <tr>\n",
       "      <th>d9b63e9dc59f29ab65bd28e756a949a4</th>\n",
       "      <td>0.004075</td>\n",
       "      <td>1392</td>\n",
       "      <td>670</td>\n",
       "      <td>0.000719</td>\n",
       "    </tr>\n",
       "    <tr>\n",
       "      <th>51d9af3c1aa5258251e0119535acbb74</th>\n",
       "      <td>0.004112</td>\n",
       "      <td>634</td>\n",
       "      <td>1369</td>\n",
       "      <td>0.001909</td>\n",
       "    </tr>\n",
       "    <tr>\n",
       "      <th>cd46fbc41e5df9c53d20f40967d06652</th>\n",
       "      <td>0.004379</td>\n",
       "      <td>477</td>\n",
       "      <td>622</td>\n",
       "      <td>0.000918</td>\n",
       "    </tr>\n",
       "    <tr>\n",
       "      <th>5a5bf0902842462eb2caff94b412ea96</th>\n",
       "      <td>0.004429</td>\n",
       "      <td>729</td>\n",
       "      <td>1006</td>\n",
       "      <td>0.002846</td>\n",
       "    </tr>\n",
       "    <tr>\n",
       "      <th>c4a242693e479278c291958dffab8274</th>\n",
       "      <td>0.004654</td>\n",
       "      <td>1388</td>\n",
       "      <td>1070</td>\n",
       "      <td>0.000183</td>\n",
       "    </tr>\n",
       "    <tr>\n",
       "      <th>c7785488ca75ceec0357bb9a6d1fe429</th>\n",
       "      <td>0.004699</td>\n",
       "      <td>1159</td>\n",
       "      <td>778</td>\n",
       "      <td>0.003130</td>\n",
       "    </tr>\n",
       "    <tr>\n",
       "      <th>29755ab0c7467caa911a801917cee128</th>\n",
       "      <td>0.004866</td>\n",
       "      <td>340</td>\n",
       "      <td>465</td>\n",
       "      <td>0.000927</td>\n",
       "    </tr>\n",
       "    <tr>\n",
       "      <th>28ae2832306d4cd91548ef78d6cb6b21</th>\n",
       "      <td>0.005124</td>\n",
       "      <td>961</td>\n",
       "      <td>319</td>\n",
       "      <td>0.000564</td>\n",
       "    </tr>\n",
       "  </tbody>\n",
       "</table>\n",
       "</div>"
      ],
      "text/plain": [
       "                                     score  encoder_width_1  encoder_width_2  \\\n",
       "trial_id                                                                       \n",
       "2aef6fde8f0ee0b66205e726c12e8d9d  0.003821             1402             1242   \n",
       "a5e62e21ddcdc897e997b195df33d537  0.003984             1410              881   \n",
       "d9b63e9dc59f29ab65bd28e756a949a4  0.004075             1392              670   \n",
       "51d9af3c1aa5258251e0119535acbb74  0.004112              634             1369   \n",
       "cd46fbc41e5df9c53d20f40967d06652  0.004379              477              622   \n",
       "5a5bf0902842462eb2caff94b412ea96  0.004429              729             1006   \n",
       "c4a242693e479278c291958dffab8274  0.004654             1388             1070   \n",
       "c7785488ca75ceec0357bb9a6d1fe429  0.004699             1159              778   \n",
       "29755ab0c7467caa911a801917cee128  0.004866              340              465   \n",
       "28ae2832306d4cd91548ef78d6cb6b21  0.005124              961              319   \n",
       "\n",
       "                                  learning_rate  \n",
       "trial_id                                         \n",
       "2aef6fde8f0ee0b66205e726c12e8d9d       0.000772  \n",
       "a5e62e21ddcdc897e997b195df33d537       0.001314  \n",
       "d9b63e9dc59f29ab65bd28e756a949a4       0.000719  \n",
       "51d9af3c1aa5258251e0119535acbb74       0.001909  \n",
       "cd46fbc41e5df9c53d20f40967d06652       0.000918  \n",
       "5a5bf0902842462eb2caff94b412ea96       0.002846  \n",
       "c4a242693e479278c291958dffab8274       0.000183  \n",
       "c7785488ca75ceec0357bb9a6d1fe429       0.003130  \n",
       "29755ab0c7467caa911a801917cee128       0.000927  \n",
       "28ae2832306d4cd91548ef78d6cb6b21       0.000564  "
      ]
     },
     "execution_count": 68,
     "metadata": {},
     "output_type": "execute_result"
    }
   ],
   "source": [
    "# The tuner's oracle property can be used to fetch information\n",
    "# about every trial, which can be used to build a table like so.\n",
    "\n",
    "pd.DataFrame([\n",
    "    {\n",
    "        'trial_id': t.trial_id,\n",
    "        'score': t.score,\n",
    "        **t.hyperparameters.values \n",
    "    }\n",
    "    for t in tuner_4.oracle.get_best_trials(num_trials=10)\n",
    "]).set_index('trial_id')"
   ]
  },
  {
   "cell_type": "code",
   "execution_count": 69,
   "metadata": {},
   "outputs": [
    {
     "name": "stdout",
     "output_type": "stream",
     "text": [
      "Epoch 1/200\n",
      "383/383 [==============================] - 13s 34ms/step - loss: 0.0185 - val_loss: 0.0065\n",
      "Epoch 2/200\n",
      "383/383 [==============================] - 13s 33ms/step - loss: 0.0053 - val_loss: 0.0047\n",
      "Epoch 3/200\n",
      "383/383 [==============================] - 13s 33ms/step - loss: 0.0043 - val_loss: 0.0041\n",
      "Epoch 4/200\n",
      "383/383 [==============================] - 13s 33ms/step - loss: 0.0039 - val_loss: 0.0040\n",
      "Epoch 5/200\n",
      "383/383 [==============================] - 13s 33ms/step - loss: 0.0037 - val_loss: 0.0038\n",
      "Epoch 6/200\n",
      "383/383 [==============================] - 14s 38ms/step - loss: 0.0035 - val_loss: 0.0038\n",
      "Epoch 7/200\n",
      "383/383 [==============================] - 14s 37ms/step - loss: 0.0034 - val_loss: 0.0038\n",
      "Epoch 8/200\n",
      "383/383 [==============================] - 14s 38ms/step - loss: 0.0034 - val_loss: 0.0037\n",
      "Epoch 9/200\n",
      "383/383 [==============================] - 15s 39ms/step - loss: 0.0033 - val_loss: 0.0037\n",
      "Epoch 10/200\n",
      "383/383 [==============================] - 14s 37ms/step - loss: 0.0032 - val_loss: 0.0037\n",
      "Epoch 00010: early stopping\n"
     ]
    }
   ],
   "source": [
    "# You can proceed with the above model, but it might \n",
    "# be also a good idea to do a final training pass with the best hyperparameters\n",
    "best_hyperparameters = tuner_4.get_best_hyperparameters()[0]\n",
    "\n",
    "np.random.seed(11)\n",
    "tf.random.set_seed(11)\n",
    "autoencoder_4 = build_model_4(best_hyperparameters)\n",
    "history = train_model(autoencoder_4, epochs=200)"
   ]
  },
  {
   "cell_type": "code",
   "execution_count": 70,
   "metadata": {},
   "outputs": [],
   "source": [
    "# Now we can feed the noisy images into the autoencoder.\n",
    "train_denoised_X = autoencoder_4.predict(train_noisy_X)\n",
    "\n",
    "# Keras returns back a Numpy array, but we need Pandas dataframe,\n",
    "# so let's quickly put the denoised images into a dataframe.\n",
    "train_denoised_X = pd.DataFrame(train_denoised_X)"
   ]
  },
  {
   "cell_type": "code",
   "execution_count": 71,
   "metadata": {},
   "outputs": [
    {
     "data": {
      "image/png": "[encoded data removed]",
      "text/plain": [
       "<Figure size 432x288 with 1 Axes>"
      ]
     },
     "metadata": {
      "image/png": {
       "height": 248,
       "width": 251
      },
      "needs_background": "light"
     },
     "output_type": "display_data"
    }
   ],
   "source": [
    "# Let's confirm that the denoiser works.\n",
    "image_pixels = train_denoised_X.iloc[example_id]\n",
    "\n",
    "# In order to plot an image, you need to reshape\n",
    "# the array into a 28x28 grid.\n",
    "image_pixels = image_pixels.values.reshape(28, 28)\n",
    "\n",
    "plt.imshow(image_pixels, cmap='binary')\n",
    "plt.show()"
   ]
  },
  {
   "cell_type": "code",
   "execution_count": 72,
   "metadata": {},
   "outputs": [
    {
     "data": {
      "text/plain": [
       "0.003047791"
      ]
     },
     "execution_count": 72,
     "metadata": {},
     "output_type": "execute_result"
    }
   ],
   "source": [
    "# To calculate MSE between two datasets we can use scikit-learn:\n",
    "# https://scikit-learn.org/stable/\n",
    "from sklearn.metrics import mean_squared_error\n",
    "\n",
    "# This calcualates MSE on train clean against train denoised,\n",
    "# which measures how well the autoencoder denoises the training dataset.\n",
    "# Note that you really want to calculate this metric on validate and/or test dataset.\n",
    "# Don't let an overfitting model fool you into using it for the graded submission!\n",
    "mean_squared_error(train_denoised_X, train_clean_X)"
   ]
  },
  {
   "cell_type": "code",
   "execution_count": 73,
   "metadata": {},
   "outputs": [
    {
     "data": {
      "text/plain": [
       "0.0036865529"
      ]
     },
     "execution_count": 73,
     "metadata": {},
     "output_type": "execute_result"
    }
   ],
   "source": [
    "# Validate MSE\n",
    "val_denoised_X = autoencoder_4.predict(validate_noisy_X)\n",
    "val_denoised_X = pd.DataFrame(val_denoised_X)\n",
    "mean_squared_error(val_denoised_X, validate_clean_X)"
   ]
  },
  {
   "cell_type": "code",
   "execution_count": 74,
   "metadata": {},
   "outputs": [
    {
     "data": {
      "text/plain": [
       "0.003702869"
      ]
     },
     "execution_count": 74,
     "metadata": {},
     "output_type": "execute_result"
    }
   ],
   "source": [
    "# Test MSE\n",
    "test_denoised_X = autoencoder_4.predict(test_noisy_X)\n",
    "test_denoised_X = pd.DataFrame(test_denoised_X)\n",
    "mean_squared_error(test_denoised_X, test_clean_X)"
   ]
  },
  {
   "cell_type": "markdown",
   "metadata": {},
   "source": [
    "## Model 5"
   ]
  },
  {
   "cell_type": "code",
   "execution_count": 75,
   "metadata": {},
   "outputs": [],
   "source": [
    "# In this couse, all assignments are expected to be\n",
    "# implemented with Tensorflow framework.\n",
    "# For this task, we can use its high-level Keras API:\n",
    "# https://keras.io\n",
    "\n",
    "from tensorflow.keras.layers import Input, Dense\n",
    "from tensorflow.keras.models import Sequential\n",
    "from tensorflow.keras import optimizers\n",
    "from tensorflow.keras import regularizers\n",
    "from kerastuner.engine.hyperparameters import HyperParameters\n",
    "\n",
    "def build_model_5(hp: HyperParameters):\n",
    "\n",
    "    layers = [\n",
    "        # Sparse Autooencoder\n",
    "        Dense(\n",
    "            units=hp.Int('encoder_width', min_value=5, max_value=784, sampling='linear'), \n",
    "            activation='elu', \n",
    "            input_shape=(28 * 28,),\n",
    "            activity_regularizer=regularizers.l1(hp.Float(name='regularization_rate', min_value=1e-10, max_value=1e0, sampling='log'))\n",
    "        ),\n",
    "\n",
    "        # Decoder: matches the shape of the image\n",
    "        # Sigmoid activation is needed because pixel\n",
    "        # values are real numbers between 0 (black) and 1 (white).\n",
    "        Dense(units=28*28, activation='sigmoid')\n",
    "    ]\n",
    "\n",
    "    # Sequential class is a Keras class that attaches every \n",
    "    # layer's output to the next layer's input.\n",
    "    # This is essentially a helper class for any feedforward networks.\n",
    "    autoencoder = Sequential(layers)\n",
    "\n",
    "    # Using MSE as the loss function, and Adam optimizer.\n",
    "    # Other optimizers can also be used.\n",
    "    autoencoder.compile(\n",
    "        optimizer=optimizers.Adam(\n",
    "            lr=hp.Float(name='learning_rate', min_value=1e-6, max_value=1e0, sampling='log')\n",
    "        ), \n",
    "        loss='mean_squared_error'\n",
    "    )\n",
    "    \n",
    "    return autoencoder"
   ]
  },
  {
   "cell_type": "code",
   "execution_count": 76,
   "metadata": {},
   "outputs": [
    {
     "name": "stdout",
     "output_type": "stream",
     "text": [
      "INFO:tensorflow:Reloading Oracle from existing project denoiser_hyperop/autoencoder_05/oracle.json\n",
      "INFO:tensorflow:Reloading Tuner from denoiser_hyperop/autoencoder_05/tuner0.json\n",
      "Search space summary\n",
      "Default search space size: 3\n",
      "encoder_width (Int)\n",
      "{'default': None, 'conditions': [], 'min_value': 5, 'max_value': 784, 'step': 1, 'sampling': 'linear'}\n",
      "regularization_rate (Float)\n",
      "{'default': 1e-10, 'conditions': [], 'min_value': 1e-10, 'max_value': 1.0, 'step': None, 'sampling': 'log'}\n",
      "learning_rate (Float)\n",
      "{'default': 1e-06, 'conditions': [], 'min_value': 1e-06, 'max_value': 1.0, 'step': None, 'sampling': 'log'}\n"
     ]
    }
   ],
   "source": [
    "from kerastuner.tuners import RandomSearch\n",
    "\n",
    "# A tuner implements a particular hyperoptimization strategy.\n",
    "# This example uses a random search turner, which samples\n",
    "# hyperparameter values from the distributions specified\n",
    "# in the build_model function. You can use other tuners too:\n",
    "# https://keras-team.github.io/keras-tuner/documentation/tuners/\n",
    "\n",
    "tuner_5 = RandomSearch(\n",
    "    build_model_5,\n",
    "    objective='val_loss',\n",
    "    max_trials=100,\n",
    "    executions_per_trial=3,\n",
    "    directory='denoiser_hyperop',\n",
    "    seed = 11,\n",
    "    \n",
    "    # Experiment name must change if you modify\n",
    "    # the model structure or the set of hyperparameters.\n",
    "    project_name='autoencoder_05'\n",
    ")\n",
    "\n",
    "# This displays which hyperparameters are tunable, and their respective distribution.\n",
    "tuner_5.search_space_summary()"
   ]
  },
  {
   "cell_type": "code",
   "execution_count": 77,
   "metadata": {},
   "outputs": [
    {
     "name": "stdout",
     "output_type": "stream",
     "text": [
      "INFO:tensorflow:Oracle triggered exit\n"
     ]
    }
   ],
   "source": [
    "import numpy as np\n",
    "import tensorflow as tf\n",
    "np.random.seed(11)\n",
    "tf.random.set_seed(11)\n",
    "\n",
    "tuner_5.search(    \n",
    "    # All parameters here are passed thru to Model.fit function.\n",
    "    x=train_noisy_X, \n",
    "    y=train_clean_X, \n",
    "    \n",
    "    # It's a good idea to have low number of epochs,\n",
    "    # to test the learning process, but not for the final model training.\n",
    "    epochs=5,\n",
    "    batch_size=128,\n",
    "    shuffle=True,\n",
    "    validation_data=(validate_noisy_X, validate_clean_X)\n",
    ")"
   ]
  },
  {
   "cell_type": "code",
   "execution_count": 78,
   "metadata": {},
   "outputs": [
    {
     "name": "stdout",
     "output_type": "stream",
     "text": [
      "Results summary\n",
      "Results in denoiser_hyperop/autoencoder_05\n",
      "Showing 10 best trials\n",
      "Objective(name='val_loss', direction='min')\n",
      "Trial summary\n",
      "Hyperparameters:\n",
      "encoder_width: 757\n",
      "regularization_rate: 2.664754079980125e-10\n",
      "learning_rate: 0.0030517080942932206\n",
      "Score: 0.003909230775510271\n",
      "Trial summary\n",
      "Hyperparameters:\n",
      "encoder_width: 707\n",
      "regularization_rate: 2.7694789104575667e-09\n",
      "learning_rate: 0.0030595068853493277\n",
      "Score: 0.0039163320325315\n",
      "Trial summary\n",
      "Hyperparameters:\n",
      "encoder_width: 409\n",
      "regularization_rate: 3.443829965813068e-10\n",
      "learning_rate: 0.0017722465000891442\n",
      "Score: 0.004002959933131933\n",
      "Trial summary\n",
      "Hyperparameters:\n",
      "encoder_width: 596\n",
      "regularization_rate: 5.41205090025424e-07\n",
      "learning_rate: 0.002348316028834255\n",
      "Score: 0.004043570564438899\n",
      "Trial summary\n",
      "Hyperparameters:\n",
      "encoder_width: 439\n",
      "regularization_rate: 7.031465082742056e-07\n",
      "learning_rate: 0.0024511836529460575\n",
      "Score: 0.004222703166306019\n",
      "Trial summary\n",
      "Hyperparameters:\n",
      "encoder_width: 314\n",
      "regularization_rate: 3.3224834662674027e-09\n",
      "learning_rate: 0.0012696989481024302\n",
      "Score: 0.004408032322923343\n",
      "Trial summary\n",
      "Hyperparameters:\n",
      "encoder_width: 503\n",
      "regularization_rate: 1.2546206903961332e-08\n",
      "learning_rate: 0.0005644692084376411\n",
      "Score: 0.004607223129520814\n",
      "Trial summary\n",
      "Hyperparameters:\n",
      "encoder_width: 297\n",
      "regularization_rate: 3.572578810643504e-10\n",
      "learning_rate: 0.0008572405887795505\n",
      "Score: 0.004939801214883725\n",
      "Trial summary\n",
      "Hyperparameters:\n",
      "encoder_width: 728\n",
      "regularization_rate: 2.8274325381982844e-06\n",
      "learning_rate: 0.0007193654464866931\n",
      "Score: 0.005059455676625173\n",
      "Trial summary\n",
      "Hyperparameters:\n",
      "encoder_width: 151\n",
      "regularization_rate: 4.3100107438495367e-10\n",
      "learning_rate: 0.002024579667952527\n",
      "Score: 0.005589515436440706\n"
     ]
    }
   ],
   "source": [
    "# The following function can be used to view the search summary.\n",
    "tuner_5.results_summary()"
   ]
  },
  {
   "cell_type": "code",
   "execution_count": 79,
   "metadata": {},
   "outputs": [
    {
     "data": {
      "text/html": [
       "<div>\n",
       "<style scoped>\n",
       "    .dataframe tbody tr th:only-of-type {\n",
       "        vertical-align: middle;\n",
       "    }\n",
       "\n",
       "    .dataframe tbody tr th {\n",
       "        vertical-align: top;\n",
       "    }\n",
       "\n",
       "    .dataframe thead th {\n",
       "        text-align: right;\n",
       "    }\n",
       "</style>\n",
       "<table border=\"1\" class=\"dataframe\">\n",
       "  <thead>\n",
       "    <tr style=\"text-align: right;\">\n",
       "      <th></th>\n",
       "      <th>score</th>\n",
       "      <th>encoder_width</th>\n",
       "      <th>regularization_rate</th>\n",
       "      <th>learning_rate</th>\n",
       "    </tr>\n",
       "    <tr>\n",
       "      <th>trial_id</th>\n",
       "      <th></th>\n",
       "      <th></th>\n",
       "      <th></th>\n",
       "      <th></th>\n",
       "    </tr>\n",
       "  </thead>\n",
       "  <tbody>\n",
       "    <tr>\n",
       "      <th>85f57c1a37e6176b61fd53ffb1dc779d</th>\n",
       "      <td>0.003909</td>\n",
       "      <td>757</td>\n",
       "      <td>2.664754e-10</td>\n",
       "      <td>0.003052</td>\n",
       "    </tr>\n",
       "    <tr>\n",
       "      <th>ae5b093e2343747a141dfd4a33d6bcc4</th>\n",
       "      <td>0.003916</td>\n",
       "      <td>707</td>\n",
       "      <td>2.769479e-09</td>\n",
       "      <td>0.003060</td>\n",
       "    </tr>\n",
       "    <tr>\n",
       "      <th>d8e9fd36990f88fb89dee48d1cc94c4c</th>\n",
       "      <td>0.004003</td>\n",
       "      <td>409</td>\n",
       "      <td>3.443830e-10</td>\n",
       "      <td>0.001772</td>\n",
       "    </tr>\n",
       "    <tr>\n",
       "      <th>00c81a03c6920591b0f82ed2aa2008f5</th>\n",
       "      <td>0.004044</td>\n",
       "      <td>596</td>\n",
       "      <td>5.412051e-07</td>\n",
       "      <td>0.002348</td>\n",
       "    </tr>\n",
       "    <tr>\n",
       "      <th>93eb0133188089e4f209d38163e93c73</th>\n",
       "      <td>0.004223</td>\n",
       "      <td>439</td>\n",
       "      <td>7.031465e-07</td>\n",
       "      <td>0.002451</td>\n",
       "    </tr>\n",
       "    <tr>\n",
       "      <th>64099241a1935cf2dc640f6d6961dbad</th>\n",
       "      <td>0.004408</td>\n",
       "      <td>314</td>\n",
       "      <td>3.322483e-09</td>\n",
       "      <td>0.001270</td>\n",
       "    </tr>\n",
       "    <tr>\n",
       "      <th>d7bd1da6b01d38ad7427c316af881001</th>\n",
       "      <td>0.004607</td>\n",
       "      <td>503</td>\n",
       "      <td>1.254621e-08</td>\n",
       "      <td>0.000564</td>\n",
       "    </tr>\n",
       "    <tr>\n",
       "      <th>f0019fb204afaec133b95455468ac0fb</th>\n",
       "      <td>0.004940</td>\n",
       "      <td>297</td>\n",
       "      <td>3.572579e-10</td>\n",
       "      <td>0.000857</td>\n",
       "    </tr>\n",
       "    <tr>\n",
       "      <th>d24f5337561150c4a3eab593ffae1453</th>\n",
       "      <td>0.005059</td>\n",
       "      <td>728</td>\n",
       "      <td>2.827433e-06</td>\n",
       "      <td>0.000719</td>\n",
       "    </tr>\n",
       "    <tr>\n",
       "      <th>f6a1c8bd2d8ace49700eea9c56e953d7</th>\n",
       "      <td>0.005590</td>\n",
       "      <td>151</td>\n",
       "      <td>4.310011e-10</td>\n",
       "      <td>0.002025</td>\n",
       "    </tr>\n",
       "  </tbody>\n",
       "</table>\n",
       "</div>"
      ],
      "text/plain": [
       "                                     score  encoder_width  \\\n",
       "trial_id                                                    \n",
       "85f57c1a37e6176b61fd53ffb1dc779d  0.003909            757   \n",
       "ae5b093e2343747a141dfd4a33d6bcc4  0.003916            707   \n",
       "d8e9fd36990f88fb89dee48d1cc94c4c  0.004003            409   \n",
       "00c81a03c6920591b0f82ed2aa2008f5  0.004044            596   \n",
       "93eb0133188089e4f209d38163e93c73  0.004223            439   \n",
       "64099241a1935cf2dc640f6d6961dbad  0.004408            314   \n",
       "d7bd1da6b01d38ad7427c316af881001  0.004607            503   \n",
       "f0019fb204afaec133b95455468ac0fb  0.004940            297   \n",
       "d24f5337561150c4a3eab593ffae1453  0.005059            728   \n",
       "f6a1c8bd2d8ace49700eea9c56e953d7  0.005590            151   \n",
       "\n",
       "                                  regularization_rate  learning_rate  \n",
       "trial_id                                                              \n",
       "85f57c1a37e6176b61fd53ffb1dc779d         2.664754e-10       0.003052  \n",
       "ae5b093e2343747a141dfd4a33d6bcc4         2.769479e-09       0.003060  \n",
       "d8e9fd36990f88fb89dee48d1cc94c4c         3.443830e-10       0.001772  \n",
       "00c81a03c6920591b0f82ed2aa2008f5         5.412051e-07       0.002348  \n",
       "93eb0133188089e4f209d38163e93c73         7.031465e-07       0.002451  \n",
       "64099241a1935cf2dc640f6d6961dbad         3.322483e-09       0.001270  \n",
       "d7bd1da6b01d38ad7427c316af881001         1.254621e-08       0.000564  \n",
       "f0019fb204afaec133b95455468ac0fb         3.572579e-10       0.000857  \n",
       "d24f5337561150c4a3eab593ffae1453         2.827433e-06       0.000719  \n",
       "f6a1c8bd2d8ace49700eea9c56e953d7         4.310011e-10       0.002025  "
      ]
     },
     "execution_count": 79,
     "metadata": {},
     "output_type": "execute_result"
    }
   ],
   "source": [
    "# The tuner's oracle property can be used to fetch information\n",
    "# about every trial, which can be used to build a table like so.\n",
    "\n",
    "pd.DataFrame([\n",
    "    {\n",
    "        'trial_id': t.trial_id,\n",
    "        'score': t.score,\n",
    "        **t.hyperparameters.values \n",
    "    }\n",
    "    for t in tuner_5.oracle.get_best_trials(num_trials=10)\n",
    "]).set_index('trial_id')"
   ]
  },
  {
   "cell_type": "code",
   "execution_count": 80,
   "metadata": {},
   "outputs": [
    {
     "name": "stdout",
     "output_type": "stream",
     "text": [
      "Epoch 1/200\n",
      "383/383 [==============================] - 7s 17ms/step - loss: 0.0209 - val_loss: 0.0071\n",
      "Epoch 2/200\n",
      "383/383 [==============================] - 5s 13ms/step - loss: 0.0052 - val_loss: 0.0044\n",
      "Epoch 3/200\n",
      "383/383 [==============================] - 5s 13ms/step - loss: 0.0041 - val_loss: 0.0040\n",
      "Epoch 4/200\n",
      "383/383 [==============================] - 5s 13ms/step - loss: 0.0038 - val_loss: 0.0040\n",
      "Epoch 5/200\n",
      "383/383 [==============================] - 5s 13ms/step - loss: 0.0037 - val_loss: 0.0039\n",
      "Epoch 6/200\n",
      "383/383 [==============================] - 5s 13ms/step - loss: 0.0036 - val_loss: 0.0040\n",
      "Epoch 00006: early stopping\n"
     ]
    }
   ],
   "source": [
    "# You can proceed with the above model, but it might \n",
    "# be also a good idea to do a final training pass with the best hyperparameters\n",
    "best_hyperparameters = tuner_5.get_best_hyperparameters()[0]\n",
    "\n",
    "np.random.seed(11)\n",
    "tf.random.set_seed(11)\n",
    "autoencoder_5 = build_model_5(best_hyperparameters)\n",
    "history = train_model(autoencoder_5, epochs=200)"
   ]
  },
  {
   "cell_type": "code",
   "execution_count": 81,
   "metadata": {},
   "outputs": [],
   "source": [
    "# Now we can feed the noisy images into the autoencoder.\n",
    "train_denoised_X = autoencoder_5.predict(train_noisy_X)\n",
    "\n",
    "# Keras returns back a Numpy array, but we need Pandas dataframe,\n",
    "# so let's quickly put the denoised images into a dataframe.\n",
    "train_denoised_X = pd.DataFrame(train_denoised_X)"
   ]
  },
  {
   "cell_type": "code",
   "execution_count": 82,
   "metadata": {},
   "outputs": [
    {
     "data": {
      "image/png": "[encoded data removed]",
      "text/plain": [
       "<Figure size 432x288 with 1 Axes>"
      ]
     },
     "metadata": {
      "image/png": {
       "height": 248,
       "width": 251
      },
      "needs_background": "light"
     },
     "output_type": "display_data"
    }
   ],
   "source": [
    "# Let's confirm that the denoiser works.\n",
    "image_pixels = train_denoised_X.iloc[example_id]\n",
    "\n",
    "# In order to plot an image, you need to reshape\n",
    "# the array into a 28x28 grid.\n",
    "image_pixels = image_pixels.values.reshape(28, 28)\n",
    "\n",
    "plt.imshow(image_pixels, cmap='binary')\n",
    "plt.show()"
   ]
  },
  {
   "cell_type": "code",
   "execution_count": 83,
   "metadata": {},
   "outputs": [
    {
     "data": {
      "text/plain": [
       "0.0034879462"
      ]
     },
     "execution_count": 83,
     "metadata": {},
     "output_type": "execute_result"
    }
   ],
   "source": [
    "# To calculate MSE between two datasets we can use scikit-learn:\n",
    "# https://scikit-learn.org/stable/\n",
    "from sklearn.metrics import mean_squared_error\n",
    "\n",
    "# This calcualates MSE on train clean against train denoised,\n",
    "# which measures how well the autoencoder denoises the training dataset.\n",
    "# Note that you really want to calculate this metric on validate and/or test dataset.\n",
    "# Don't let an overfitting model fool you into using it for the graded submission!\n",
    "mean_squared_error(train_denoised_X, train_clean_X)"
   ]
  },
  {
   "cell_type": "code",
   "execution_count": 84,
   "metadata": {},
   "outputs": [
    {
     "data": {
      "text/plain": [
       "0.0039518876"
      ]
     },
     "execution_count": 84,
     "metadata": {},
     "output_type": "execute_result"
    }
   ],
   "source": [
    "# Validate MSE\n",
    "val_denoised_X = autoencoder_5.predict(validate_noisy_X)\n",
    "val_denoised_X = pd.DataFrame(val_denoised_X)\n",
    "mean_squared_error(val_denoised_X, validate_clean_X)"
   ]
  },
  {
   "cell_type": "code",
   "execution_count": 85,
   "metadata": {},
   "outputs": [
    {
     "data": {
      "text/plain": [
       "0.003974607"
      ]
     },
     "execution_count": 85,
     "metadata": {},
     "output_type": "execute_result"
    }
   ],
   "source": [
    "# Test MSE\n",
    "test_denoised_X = autoencoder_5.predict(test_noisy_X)\n",
    "test_denoised_X = pd.DataFrame(test_denoised_X)\n",
    "mean_squared_error(test_denoised_X, test_clean_X)"
   ]
  },
  {
   "cell_type": "markdown",
   "metadata": {},
   "source": [
    "### Summary"
   ]
  },
  {
   "cell_type": "code",
   "execution_count": 86,
   "metadata": {},
   "outputs": [
    {
     "data": {
      "text/html": [
       "<div>\n",
       "<style scoped>\n",
       "    .dataframe tbody tr th:only-of-type {\n",
       "        vertical-align: middle;\n",
       "    }\n",
       "\n",
       "    .dataframe tbody tr th {\n",
       "        vertical-align: top;\n",
       "    }\n",
       "\n",
       "    .dataframe thead th {\n",
       "        text-align: right;\n",
       "    }\n",
       "</style>\n",
       "<table border=\"1\" class=\"dataframe\">\n",
       "  <thead>\n",
       "    <tr style=\"text-align: right;\">\n",
       "      <th></th>\n",
       "      <th>0</th>\n",
       "      <th>1</th>\n",
       "    </tr>\n",
       "  </thead>\n",
       "  <tbody>\n",
       "    <tr>\n",
       "      <th>0</th>\n",
       "      <td>00a</td>\n",
       "      <td>0.003752441</td>\n",
       "    </tr>\n",
       "    <tr>\n",
       "      <th>1</th>\n",
       "      <td>00b</td>\n",
       "      <td>0.0034350972</td>\n",
       "    </tr>\n",
       "    <tr>\n",
       "      <th>2</th>\n",
       "      <td>1</td>\n",
       "      <td>0.0035004327</td>\n",
       "    </tr>\n",
       "    <tr>\n",
       "      <th>3</th>\n",
       "      <td>2</td>\n",
       "      <td>0.003686001</td>\n",
       "    </tr>\n",
       "    <tr>\n",
       "      <th>4</th>\n",
       "      <td>3</td>\n",
       "      <td>0.0036322544</td>\n",
       "    </tr>\n",
       "    <tr>\n",
       "      <th>5</th>\n",
       "      <td>4</td>\n",
       "      <td>0.003702869</td>\n",
       "    </tr>\n",
       "    <tr>\n",
       "      <th>6</th>\n",
       "      <td>5</td>\n",
       "      <td>0.003974607</td>\n",
       "    </tr>\n",
       "  </tbody>\n",
       "</table>\n",
       "</div>"
      ],
      "text/plain": [
       "     0             1\n",
       "0  00a   0.003752441\n",
       "1  00b  0.0034350972\n",
       "2    1  0.0035004327\n",
       "3    2   0.003686001\n",
       "4    3  0.0036322544\n",
       "5    4   0.003702869\n",
       "6    5   0.003974607"
      ]
     },
     "execution_count": 86,
     "metadata": {},
     "output_type": "execute_result"
    }
   ],
   "source": [
    "pd.DataFrame(\n",
    "    np.array(\n",
    "        [\n",
    "            ['00a', mean_squared_error(autoencoder_00a.predict(test_noisy_X), test_clean_X)],\n",
    "            ['00b', mean_squared_error(autoencoder_00b.predict(test_noisy_X), test_clean_X)],\n",
    "            ['1', mean_squared_error(autoencoder_1.predict(test_noisy_X), test_clean_X)],\n",
    "            ['2', mean_squared_error(autoencoder_2.predict(test_noisy_X), test_clean_X)],\n",
    "            ['3', mean_squared_error(autoencoder_3.predict(test_noisy_X), test_clean_X)],\n",
    "            ['4', mean_squared_error(autoencoder_4.predict(test_noisy_X), test_clean_X)],\n",
    "            ['5', mean_squared_error(autoencoder_5.predict(test_noisy_X), test_clean_X)],\n",
    "        ]\n",
    "        )\n",
    "    )"
   ]
  },
  {
   "cell_type": "code",
   "execution_count": 87,
   "metadata": {},
   "outputs": [],
   "source": [
    "best_hp = tuner_00b.get_best_hyperparameters()[0]"
   ]
  },
  {
   "cell_type": "markdown",
   "metadata": {},
   "source": [
    "## Model 6"
   ]
  },
  {
   "cell_type": "code",
   "execution_count": 88,
   "metadata": {},
   "outputs": [],
   "source": [
    "# In this couse, all assignments are expected to be\n",
    "# implemented with Tensorflow framework.\n",
    "# For this task, we can use its high-level Keras API:\n",
    "# https://keras.io\n",
    "\n",
    "from tensorflow.keras.layers import Input, Dense\n",
    "from tensorflow.keras.models import Sequential\n",
    "from tensorflow.keras import optimizers\n",
    "from tensorflow.keras import regularizers\n",
    "from kerastuner.engine.hyperparameters import HyperParameters\n",
    "\n",
    "def build_model_6(hp: HyperParameters):\n",
    "    \n",
    "    layers = [\n",
    "        # Model 00b Overcomplete Autoencoder with regularization (Sparse Autooencoder)\n",
    "        Dense(\n",
    "            units=best_hp.get('encoder_width'),\n",
    "            activation='elu', \n",
    "            input_shape=(28 * 28,),\n",
    "            activity_regularizer=regularizers.l1(hp.Float(name='regularization_rate', min_value=1e-10, max_value=1e0, sampling='log'))\n",
    "        ),\n",
    "\n",
    "        # Decoder: matches the shape of the image\n",
    "        # Sigmoid activation is needed because pixel\n",
    "        # values are real numbers between 0 (black) and 1 (white).\n",
    "        Dense(units=28*28, activation='sigmoid')\n",
    "    ]\n",
    "\n",
    "    # Sequential class is a Keras class that attaches every \n",
    "    # layer's output to the next layer's input.\n",
    "    # This is essentially a helper class for any feedforward networks.\n",
    "    autoencoder = Sequential(layers)\n",
    "\n",
    "    # Using MSE as the loss function, and Adam optimizer.\n",
    "    # Other optimizers can also be used.\n",
    "    autoencoder.compile(\n",
    "        optimizer=optimizers.Adam(\n",
    "            lr=best_hp.get('learning_rate')\n",
    "        ), \n",
    "        loss='mean_squared_error'\n",
    "    )\n",
    "    \n",
    "    return autoencoder"
   ]
  },
  {
   "cell_type": "code",
   "execution_count": 89,
   "metadata": {},
   "outputs": [
    {
     "name": "stdout",
     "output_type": "stream",
     "text": [
      "INFO:tensorflow:Reloading Oracle from existing project denoiser_hyperop/autoencoder_06/oracle.json\n",
      "INFO:tensorflow:Reloading Tuner from denoiser_hyperop/autoencoder_06/tuner0.json\n",
      "Search space summary\n",
      "Default search space size: 1\n",
      "regularization_rate (Float)\n",
      "{'default': 1e-10, 'conditions': [], 'min_value': 1e-10, 'max_value': 1.0, 'step': None, 'sampling': 'log'}\n"
     ]
    }
   ],
   "source": [
    "from kerastuner.tuners import RandomSearch\n",
    "\n",
    "# A tuner implements a particular hyperoptimization strategy.\n",
    "# This example uses a random search turner, which samples\n",
    "# hyperparameter values from the distributions specified\n",
    "# in the build_model function. You can use other tuners too:\n",
    "# https://keras-team.github.io/keras-tuner/documentation/tuners/\n",
    "\n",
    "tuner_6 = RandomSearch(\n",
    "    build_model_6,\n",
    "    objective='val_loss',\n",
    "    max_trials=30,\n",
    "    executions_per_trial=3,\n",
    "    directory='denoiser_hyperop',\n",
    "    seed = 11,\n",
    "    \n",
    "    # Experiment name must change if you modify\n",
    "    # the model structure or the set of hyperparameters.\n",
    "    project_name='autoencoder_06'\n",
    ")\n",
    "\n",
    "# This displays which hyperparameters are tunable, and their respective distribution.\n",
    "tuner_6.search_space_summary()"
   ]
  },
  {
   "cell_type": "code",
   "execution_count": 90,
   "metadata": {},
   "outputs": [
    {
     "name": "stdout",
     "output_type": "stream",
     "text": [
      "INFO:tensorflow:Oracle triggered exit\n"
     ]
    }
   ],
   "source": [
    "import numpy as np\n",
    "import tensorflow as tf\n",
    "np.random.seed(11)\n",
    "tf.random.set_seed(11)\n",
    "\n",
    "\n",
    "tuner_6.search(    \n",
    "    # All parameters here are passed thru to Model.fit function.\n",
    "    x=train_noisy_X, \n",
    "    y=train_clean_X, \n",
    "    \n",
    "    # It's a good idea to have low number of epochs,\n",
    "    # to test the learning process, but not for the final model training.\n",
    "    epochs=3,\n",
    "    batch_size=128,\n",
    "    shuffle=True,\n",
    "    validation_data=(validate_noisy_X, validate_clean_X)\n",
    ")"
   ]
  },
  {
   "cell_type": "code",
   "execution_count": 91,
   "metadata": {},
   "outputs": [
    {
     "name": "stdout",
     "output_type": "stream",
     "text": [
      "Results summary\n",
      "Results in denoiser_hyperop/autoencoder_06\n",
      "Showing 10 best trials\n",
      "Objective(name='val_loss', direction='min')\n",
      "Trial summary\n",
      "Hyperparameters:\n",
      "regularization_rate: 1.347633200421526e-09\n",
      "Score: 0.004846319245795409\n",
      "Trial summary\n",
      "Hyperparameters:\n",
      "regularization_rate: 1.170268127300911e-09\n",
      "Score: 0.004854089114814997\n",
      "Trial summary\n",
      "Hyperparameters:\n",
      "regularization_rate: 5.945903254374484e-10\n",
      "Score: 0.004860791377723217\n",
      "Trial summary\n",
      "Hyperparameters:\n",
      "regularization_rate: 6.496039145620427e-09\n",
      "Score: 0.004866702947765589\n",
      "Trial summary\n",
      "Hyperparameters:\n",
      "regularization_rate: 4.461642807129992e-09\n",
      "Score: 0.0048698958319922285\n",
      "Trial summary\n",
      "Hyperparameters:\n",
      "regularization_rate: 1.3267297692610602e-10\n",
      "Score: 0.004870101033399503\n",
      "Trial summary\n",
      "Hyperparameters:\n",
      "regularization_rate: 1.2546206903961332e-08\n",
      "Score: 0.004883796131859223\n",
      "Trial summary\n",
      "Hyperparameters:\n",
      "regularization_rate: 3.891212220299577e-08\n",
      "Score: 0.004887184438606103\n",
      "Trial summary\n",
      "Hyperparameters:\n",
      "regularization_rate: 1.9364451734923532e-07\n",
      "Score: 0.005008507985621691\n",
      "Trial summary\n",
      "Hyperparameters:\n",
      "regularization_rate: 4.1231368456428937e-07\n",
      "Score: 0.0051585038503011065\n"
     ]
    }
   ],
   "source": [
    "# The following function can be used to view the search summary.\n",
    "tuner_6.results_summary()"
   ]
  },
  {
   "cell_type": "code",
   "execution_count": 92,
   "metadata": {},
   "outputs": [
    {
     "data": {
      "text/html": [
       "<div>\n",
       "<style scoped>\n",
       "    .dataframe tbody tr th:only-of-type {\n",
       "        vertical-align: middle;\n",
       "    }\n",
       "\n",
       "    .dataframe tbody tr th {\n",
       "        vertical-align: top;\n",
       "    }\n",
       "\n",
       "    .dataframe thead th {\n",
       "        text-align: right;\n",
       "    }\n",
       "</style>\n",
       "<table border=\"1\" class=\"dataframe\">\n",
       "  <thead>\n",
       "    <tr style=\"text-align: right;\">\n",
       "      <th></th>\n",
       "      <th>score</th>\n",
       "      <th>regularization_rate</th>\n",
       "    </tr>\n",
       "    <tr>\n",
       "      <th>trial_id</th>\n",
       "      <th></th>\n",
       "      <th></th>\n",
       "    </tr>\n",
       "  </thead>\n",
       "  <tbody>\n",
       "    <tr>\n",
       "      <th>498089f7e2c0f1d657e1b1fdb3e21455</th>\n",
       "      <td>0.004846</td>\n",
       "      <td>1.347633e-09</td>\n",
       "    </tr>\n",
       "    <tr>\n",
       "      <th>72ba49f9d9dad08f94b062d689dc422f</th>\n",
       "      <td>0.004854</td>\n",
       "      <td>1.170268e-09</td>\n",
       "    </tr>\n",
       "    <tr>\n",
       "      <th>a45d244f38c30ff934e71a87804fe6ff</th>\n",
       "      <td>0.004861</td>\n",
       "      <td>5.945903e-10</td>\n",
       "    </tr>\n",
       "    <tr>\n",
       "      <th>dd3dde7b1488ab1e2bdc18eabda04072</th>\n",
       "      <td>0.004867</td>\n",
       "      <td>6.496039e-09</td>\n",
       "    </tr>\n",
       "    <tr>\n",
       "      <th>1a37807ac9eae79e31c53294b43be375</th>\n",
       "      <td>0.004870</td>\n",
       "      <td>4.461643e-09</td>\n",
       "    </tr>\n",
       "    <tr>\n",
       "      <th>5ccfc32f2b0858bf7c33588643cca0b8</th>\n",
       "      <td>0.004870</td>\n",
       "      <td>1.326730e-10</td>\n",
       "    </tr>\n",
       "    <tr>\n",
       "      <th>91d854ed66acaa9d5b6cda3d09878b90</th>\n",
       "      <td>0.004884</td>\n",
       "      <td>1.254621e-08</td>\n",
       "    </tr>\n",
       "    <tr>\n",
       "      <th>c7b257c1e96b6c84cbdba4cc62dcbe5a</th>\n",
       "      <td>0.004887</td>\n",
       "      <td>3.891212e-08</td>\n",
       "    </tr>\n",
       "    <tr>\n",
       "      <th>53035841df40881ff012f8dc3fa7c771</th>\n",
       "      <td>0.005009</td>\n",
       "      <td>1.936445e-07</td>\n",
       "    </tr>\n",
       "    <tr>\n",
       "      <th>0eb9d77fe0a2d5ad5d7bd3c16909d668</th>\n",
       "      <td>0.005159</td>\n",
       "      <td>4.123137e-07</td>\n",
       "    </tr>\n",
       "  </tbody>\n",
       "</table>\n",
       "</div>"
      ],
      "text/plain": [
       "                                     score  regularization_rate\n",
       "trial_id                                                       \n",
       "498089f7e2c0f1d657e1b1fdb3e21455  0.004846         1.347633e-09\n",
       "72ba49f9d9dad08f94b062d689dc422f  0.004854         1.170268e-09\n",
       "a45d244f38c30ff934e71a87804fe6ff  0.004861         5.945903e-10\n",
       "dd3dde7b1488ab1e2bdc18eabda04072  0.004867         6.496039e-09\n",
       "1a37807ac9eae79e31c53294b43be375  0.004870         4.461643e-09\n",
       "5ccfc32f2b0858bf7c33588643cca0b8  0.004870         1.326730e-10\n",
       "91d854ed66acaa9d5b6cda3d09878b90  0.004884         1.254621e-08\n",
       "c7b257c1e96b6c84cbdba4cc62dcbe5a  0.004887         3.891212e-08\n",
       "53035841df40881ff012f8dc3fa7c771  0.005009         1.936445e-07\n",
       "0eb9d77fe0a2d5ad5d7bd3c16909d668  0.005159         4.123137e-07"
      ]
     },
     "execution_count": 92,
     "metadata": {},
     "output_type": "execute_result"
    }
   ],
   "source": [
    "# The tuner's oracle property can be used to fetch information\n",
    "# about every trial, which can be used to build a table like so.\n",
    "\n",
    "pd.DataFrame([\n",
    "    {\n",
    "        'trial_id': t.trial_id,\n",
    "        'score': t.score,\n",
    "        **t.hyperparameters.values \n",
    "    }\n",
    "    for t in tuner_6.oracle.get_best_trials(num_trials=10)\n",
    "]).set_index('trial_id')"
   ]
  },
  {
   "cell_type": "code",
   "execution_count": 93,
   "metadata": {},
   "outputs": [
    {
     "name": "stdout",
     "output_type": "stream",
     "text": [
      "Epoch 1/200\n",
      "383/383 [==============================] - 8s 20ms/step - loss: 0.0283 - val_loss: 0.0106\n",
      "Epoch 2/200\n",
      "383/383 [==============================] - 7s 19ms/step - loss: 0.0079 - val_loss: 0.0062\n",
      "Epoch 3/200\n",
      "383/383 [==============================] - 8s 21ms/step - loss: 0.0054 - val_loss: 0.0049\n",
      "Epoch 4/200\n",
      "383/383 [==============================] - 7s 18ms/step - loss: 0.0044 - val_loss: 0.0043\n",
      "Epoch 5/200\n",
      "383/383 [==============================] - 7s 19ms/step - loss: 0.0040 - val_loss: 0.0039\n",
      "Epoch 6/200\n",
      "383/383 [==============================] - 7s 19ms/step - loss: 0.0037 - val_loss: 0.0037\n",
      "Epoch 7/200\n",
      "383/383 [==============================] - 7s 18ms/step - loss: 0.0035 - val_loss: 0.0036\n",
      "Epoch 8/200\n",
      "383/383 [==============================] - 7s 18ms/step - loss: 0.0034 - val_loss: 0.0035\n",
      "Epoch 9/200\n",
      "383/383 [==============================] - 7s 18ms/step - loss: 0.0033 - val_loss: 0.0035\n",
      "Epoch 10/200\n",
      "383/383 [==============================] - 7s 18ms/step - loss: 0.0033 - val_loss: 0.0034\n",
      "Epoch 11/200\n",
      "383/383 [==============================] - 7s 18ms/step - loss: 0.0032 - val_loss: 0.0034\n",
      "Epoch 12/200\n",
      "383/383 [==============================] - 7s 18ms/step - loss: 0.0032 - val_loss: 0.0034\n",
      "Epoch 00012: early stopping\n"
     ]
    }
   ],
   "source": [
    "# You can proceed with the above model, but it might \n",
    "# be also a good idea to do a final training pass with the best hyperparameters\n",
    "best_hyperparameters = tuner_6.get_best_hyperparameters()[0]\n",
    "\n",
    "np.random.seed(11)\n",
    "tf.random.set_seed(11)\n",
    "autoencoder_6 = build_model_6(best_hyperparameters)\n",
    "history = train_model(autoencoder_6, epochs=200)"
   ]
  },
  {
   "cell_type": "code",
   "execution_count": 94,
   "metadata": {},
   "outputs": [],
   "source": [
    "# Now we can feed the noisy images into the autoencoder.\n",
    "train_denoised_X = autoencoder_6.predict(train_noisy_X)\n",
    "\n",
    "# Keras returns back a Numpy array, but we need Pandas dataframe,\n",
    "# so let's quickly put the denoised images into a dataframe.\n",
    "train_denoised_X = pd.DataFrame(train_denoised_X)"
   ]
  },
  {
   "cell_type": "code",
   "execution_count": 95,
   "metadata": {},
   "outputs": [
    {
     "data": {
      "image/png": "[encoded data removed]",
      "text/plain": [
       "<Figure size 432x288 with 1 Axes>"
      ]
     },
     "metadata": {
      "image/png": {
       "height": 248,
       "width": 251
      },
      "needs_background": "light"
     },
     "output_type": "display_data"
    }
   ],
   "source": [
    "# Let's confirm that the denoiser works.\n",
    "image_pixels = train_denoised_X.iloc[example_id]\n",
    "\n",
    "# In order to plot an image, you need to reshape\n",
    "# the array into a 28x28 grid.\n",
    "image_pixels = image_pixels.values.reshape(28, 28)\n",
    "\n",
    "plt.imshow(image_pixels, cmap='binary')\n",
    "plt.show()"
   ]
  },
  {
   "cell_type": "code",
   "execution_count": 96,
   "metadata": {},
   "outputs": [
    {
     "data": {
      "text/plain": [
       "0.003078372"
      ]
     },
     "execution_count": 96,
     "metadata": {},
     "output_type": "execute_result"
    }
   ],
   "source": [
    "# To calculate MSE between two datasets we can use scikit-learn:\n",
    "# https://scikit-learn.org/stable/\n",
    "from sklearn.metrics import mean_squared_error\n",
    "\n",
    "# This calcualates MSE on train clean against train denoised,\n",
    "# which measures how well the autoencoder denoises the training dataset.\n",
    "# Note that you really want to calculate this metric on validate and/or test dataset.\n",
    "# Don't let an overfitting model fool you into using it for the graded submission!\n",
    "mean_squared_error(train_denoised_X, train_clean_X)"
   ]
  },
  {
   "cell_type": "code",
   "execution_count": 97,
   "metadata": {},
   "outputs": [
    {
     "data": {
      "text/plain": [
       "0.0034147073"
      ]
     },
     "execution_count": 97,
     "metadata": {},
     "output_type": "execute_result"
    }
   ],
   "source": [
    "# Validate MSE\n",
    "val_denoised_X = autoencoder_6.predict(validate_noisy_X)\n",
    "\n",
    "val_denoised_X = pd.DataFrame(val_denoised_X)\n",
    "mean_squared_error(val_denoised_X, validate_clean_X)"
   ]
  },
  {
   "cell_type": "code",
   "execution_count": 98,
   "metadata": {},
   "outputs": [
    {
     "data": {
      "text/plain": [
       "0.0034349202"
      ]
     },
     "execution_count": 98,
     "metadata": {},
     "output_type": "execute_result"
    }
   ],
   "source": [
    "# Test MSE\n",
    "test_denoised_X = autoencoder_6.predict(test_noisy_X)\n",
    "test_denoised_X = pd.DataFrame(test_denoised_X)\n",
    "mean_squared_error(test_denoised_X, test_clean_X)"
   ]
  },
  {
   "cell_type": "code",
   "execution_count": 99,
   "metadata": {},
   "outputs": [
    {
     "data": {
      "text/html": [
       "<div>\n",
       "<style scoped>\n",
       "    .dataframe tbody tr th:only-of-type {\n",
       "        vertical-align: middle;\n",
       "    }\n",
       "\n",
       "    .dataframe tbody tr th {\n",
       "        vertical-align: top;\n",
       "    }\n",
       "\n",
       "    .dataframe thead th {\n",
       "        text-align: right;\n",
       "    }\n",
       "</style>\n",
       "<table border=\"1\" class=\"dataframe\">\n",
       "  <thead>\n",
       "    <tr style=\"text-align: right;\">\n",
       "      <th></th>\n",
       "      <th>0</th>\n",
       "      <th>1</th>\n",
       "    </tr>\n",
       "  </thead>\n",
       "  <tbody>\n",
       "    <tr>\n",
       "      <th>0</th>\n",
       "      <td>00a</td>\n",
       "      <td>0.003752441</td>\n",
       "    </tr>\n",
       "    <tr>\n",
       "      <th>1</th>\n",
       "      <td>00b</td>\n",
       "      <td>0.0034350972</td>\n",
       "    </tr>\n",
       "    <tr>\n",
       "      <th>2</th>\n",
       "      <td>1</td>\n",
       "      <td>0.0035004327</td>\n",
       "    </tr>\n",
       "    <tr>\n",
       "      <th>3</th>\n",
       "      <td>2</td>\n",
       "      <td>0.003686001</td>\n",
       "    </tr>\n",
       "    <tr>\n",
       "      <th>4</th>\n",
       "      <td>3</td>\n",
       "      <td>0.0036322544</td>\n",
       "    </tr>\n",
       "    <tr>\n",
       "      <th>5</th>\n",
       "      <td>4</td>\n",
       "      <td>0.003702869</td>\n",
       "    </tr>\n",
       "    <tr>\n",
       "      <th>6</th>\n",
       "      <td>5</td>\n",
       "      <td>0.003974607</td>\n",
       "    </tr>\n",
       "    <tr>\n",
       "      <th>7</th>\n",
       "      <td>6</td>\n",
       "      <td>0.0034349202</td>\n",
       "    </tr>\n",
       "  </tbody>\n",
       "</table>\n",
       "</div>"
      ],
      "text/plain": [
       "     0             1\n",
       "0  00a   0.003752441\n",
       "1  00b  0.0034350972\n",
       "2    1  0.0035004327\n",
       "3    2   0.003686001\n",
       "4    3  0.0036322544\n",
       "5    4   0.003702869\n",
       "6    5   0.003974607\n",
       "7    6  0.0034349202"
      ]
     },
     "execution_count": 99,
     "metadata": {},
     "output_type": "execute_result"
    }
   ],
   "source": [
    "pd.DataFrame(\n",
    "    np.array(\n",
    "        [\n",
    "            ['00a', mean_squared_error(autoencoder_00a.predict(test_noisy_X), test_clean_X)],\n",
    "            ['00b', mean_squared_error(autoencoder_00b.predict(test_noisy_X), test_clean_X)],\n",
    "            ['1', mean_squared_error(autoencoder_1.predict(test_noisy_X), test_clean_X)],\n",
    "            ['2', mean_squared_error(autoencoder_2.predict(test_noisy_X), test_clean_X)],\n",
    "            ['3', mean_squared_error(autoencoder_3.predict(test_noisy_X), test_clean_X)],\n",
    "            ['4', mean_squared_error(autoencoder_4.predict(test_noisy_X), test_clean_X)],\n",
    "            ['5', mean_squared_error(autoencoder_5.predict(test_noisy_X), test_clean_X)],\n",
    "            ['6', mean_squared_error(autoencoder_6.predict(test_noisy_X), test_clean_X)]\n",
    "        ]\n",
    "        )\n",
    "    )"
   ]
  },
  {
   "cell_type": "markdown",
   "metadata": {},
   "source": [
    "### KFold final check"
   ]
  },
  {
   "cell_type": "code",
   "execution_count": 100,
   "metadata": {},
   "outputs": [],
   "source": [
    "full_noisy = pd.concat([train_noisy_X, validate_noisy_X, test_noisy_X], axis=0)\n",
    "full_clean = pd.concat([train_clean_X, validate_clean_X, test_clean_X], axis=0)"
   ]
  },
  {
   "cell_type": "code",
   "execution_count": 101,
   "metadata": {},
   "outputs": [],
   "source": [
    "def train_model_kfold(model, epochs, x_train, y_train, x_val, y_val):\n",
    "    history = model.fit(\n",
    "        x=x_train, \n",
    "        y=y_train, \n",
    "\n",
    "        epochs=epochs,\n",
    "\n",
    "        batch_size=128,\n",
    "        shuffle=True,\n",
    "        validation_data=(x_val, y_val),\n",
    "        callbacks=[es]\n",
    "    )\n",
    "    return history"
   ]
  },
  {
   "cell_type": "code",
   "execution_count": 102,
   "metadata": {},
   "outputs": [
    {
     "name": "stdout",
     "output_type": "stream",
     "text": [
      "Epoch 1/200\n",
      "296/296 [==============================] - 7s 24ms/step - loss: 0.0331 - val_loss: 0.0132\n",
      "Epoch 2/200\n",
      "296/296 [==============================] - 6s 21ms/step - loss: 0.0096 - val_loss: 0.0074\n",
      "Epoch 3/200\n",
      "296/296 [==============================] - 7s 23ms/step - loss: 0.0063 - val_loss: 0.0057\n",
      "Epoch 4/200\n",
      "296/296 [==============================] - 7s 23ms/step - loss: 0.0051 - val_loss: 0.0048\n",
      "Epoch 5/200\n",
      "296/296 [==============================] - 7s 25ms/step - loss: 0.0044 - val_loss: 0.0044\n",
      "Epoch 6/200\n",
      "296/296 [==============================] - 8s 26ms/step - loss: 0.0040 - val_loss: 0.0041\n",
      "Epoch 7/200\n",
      "296/296 [==============================] - 7s 24ms/step - loss: 0.0038 - val_loss: 0.0039\n",
      "Epoch 8/200\n",
      "296/296 [==============================] - 7s 24ms/step - loss: 0.0036 - val_loss: 0.0038\n",
      "Epoch 9/200\n",
      "296/296 [==============================] - 9s 31ms/step - loss: 0.0035 - val_loss: 0.0037\n",
      "Epoch 10/200\n",
      "296/296 [==============================] - 8s 28ms/step - loss: 0.0034 - val_loss: 0.0036\n",
      "Epoch 11/200\n",
      "296/296 [==============================] - 7s 25ms/step - loss: 0.0033 - val_loss: 0.0036\n",
      "Epoch 12/200\n",
      "296/296 [==============================] - 7s 25ms/step - loss: 0.0032 - val_loss: 0.0035\n",
      "Epoch 13/200\n",
      "296/296 [==============================] - 7s 25ms/step - loss: 0.0032 - val_loss: 0.0035\n",
      "Epoch 14/200\n",
      "296/296 [==============================] - 7s 23ms/step - loss: 0.0031 - val_loss: 0.0035\n",
      "Epoch 15/200\n",
      "296/296 [==============================] - 7s 22ms/step - loss: 0.0031 - val_loss: 0.0035\n",
      "Epoch 16/200\n",
      "296/296 [==============================] - 7s 24ms/step - loss: 0.0031 - val_loss: 0.0035\n",
      "Epoch 17/200\n",
      "296/296 [==============================] - 6s 21ms/step - loss: 0.0030 - val_loss: 0.0035\n",
      "Epoch 18/200\n",
      "296/296 [==============================] - 6s 21ms/step - loss: 0.0030 - val_loss: 0.0035\n",
      "Epoch 19/200\n",
      "296/296 [==============================] - 7s 23ms/step - loss: 0.0030 - val_loss: 0.0034\n",
      "Epoch 20/200\n",
      "296/296 [==============================] - 6s 19ms/step - loss: 0.0030 - val_loss: 0.0034\n",
      "Epoch 21/200\n",
      "296/296 [==============================] - 5s 18ms/step - loss: 0.0030 - val_loss: 0.0034\n",
      "Epoch 22/200\n",
      "296/296 [==============================] - 6s 20ms/step - loss: 0.0029 - val_loss: 0.0034\n",
      "Epoch 00022: early stopping\n",
      "Epoch 1/200\n",
      "296/296 [==============================] - 7s 23ms/step - loss: 0.0331 - val_loss: 0.0133\n",
      "Epoch 2/200\n",
      "296/296 [==============================] - 6s 21ms/step - loss: 0.0096 - val_loss: 0.0075\n",
      "Epoch 3/200\n",
      "296/296 [==============================] - 6s 20ms/step - loss: 0.0063 - val_loss: 0.0057\n",
      "Epoch 4/200\n",
      "296/296 [==============================] - 6s 21ms/step - loss: 0.0051 - val_loss: 0.0049\n",
      "Epoch 5/200\n",
      "296/296 [==============================] - 7s 23ms/step - loss: 0.0044 - val_loss: 0.0044\n",
      "Epoch 6/200\n",
      "296/296 [==============================] - 6s 21ms/step - loss: 0.0040 - val_loss: 0.0041\n",
      "Epoch 7/200\n",
      "296/296 [==============================] - 6s 22ms/step - loss: 0.0038 - val_loss: 0.0039\n",
      "Epoch 8/200\n",
      "296/296 [==============================] - 6s 21ms/step - loss: 0.0036 - val_loss: 0.0038\n",
      "Epoch 9/200\n",
      "296/296 [==============================] - 6s 21ms/step - loss: 0.0035 - val_loss: 0.0037\n",
      "Epoch 10/200\n",
      "296/296 [==============================] - 6s 20ms/step - loss: 0.0034 - val_loss: 0.0036\n",
      "Epoch 11/200\n",
      "296/296 [==============================] - 6s 21ms/step - loss: 0.0033 - val_loss: 0.0036\n",
      "Epoch 12/200\n",
      "296/296 [==============================] - 6s 20ms/step - loss: 0.0032 - val_loss: 0.0036\n",
      "Epoch 13/200\n",
      "296/296 [==============================] - 7s 23ms/step - loss: 0.0032 - val_loss: 0.0035\n",
      "Epoch 14/200\n",
      "296/296 [==============================] - 7s 24ms/step - loss: 0.0031 - val_loss: 0.0035\n",
      "Epoch 15/200\n",
      "296/296 [==============================] - 7s 24ms/step - loss: 0.0031 - val_loss: 0.0035\n",
      "Epoch 16/200\n",
      "296/296 [==============================] - 6s 21ms/step - loss: 0.0031 - val_loss: 0.0035\n",
      "Epoch 17/200\n",
      "296/296 [==============================] - 7s 22ms/step - loss: 0.0030 - val_loss: 0.0035\n",
      "Epoch 18/200\n",
      "296/296 [==============================] - 7s 22ms/step - loss: 0.0030 - val_loss: 0.0035\n",
      "Epoch 00018: early stopping\n",
      "Epoch 1/200\n",
      "296/296 [==============================] - 7s 24ms/step - loss: 0.0330 - val_loss: 0.0132\n",
      "Epoch 2/200\n",
      "296/296 [==============================] - 7s 23ms/step - loss: 0.0096 - val_loss: 0.0075\n",
      "Epoch 3/200\n",
      "296/296 [==============================] - 7s 23ms/step - loss: 0.0063 - val_loss: 0.0057\n",
      "Epoch 4/200\n",
      "296/296 [==============================] - 7s 22ms/step - loss: 0.0051 - val_loss: 0.0048\n",
      "Epoch 5/200\n",
      "296/296 [==============================] - 7s 25ms/step - loss: 0.0044 - val_loss: 0.0043\n",
      "Epoch 6/200\n",
      "296/296 [==============================] - 7s 24ms/step - loss: 0.0040 - val_loss: 0.0041\n",
      "Epoch 7/200\n",
      "296/296 [==============================] - 7s 24ms/step - loss: 0.0038 - val_loss: 0.0039\n",
      "Epoch 8/200\n",
      "296/296 [==============================] - 7s 24ms/step - loss: 0.0036 - val_loss: 0.0038\n",
      "Epoch 9/200\n",
      "296/296 [==============================] - 7s 25ms/step - loss: 0.0035 - val_loss: 0.0037\n",
      "Epoch 10/200\n",
      "296/296 [==============================] - 7s 24ms/step - loss: 0.0034 - val_loss: 0.0036\n",
      "Epoch 11/200\n",
      "296/296 [==============================] - 7s 24ms/step - loss: 0.0033 - val_loss: 0.0035\n",
      "Epoch 12/200\n",
      "296/296 [==============================] - 7s 24ms/step - loss: 0.0032 - val_loss: 0.0035\n",
      "Epoch 13/200\n",
      "296/296 [==============================] - 7s 25ms/step - loss: 0.0032 - val_loss: 0.0035\n",
      "Epoch 14/200\n",
      "296/296 [==============================] - 7s 23ms/step - loss: 0.0031 - val_loss: 0.0035\n",
      "Epoch 15/200\n",
      "296/296 [==============================] - 7s 23ms/step - loss: 0.0031 - val_loss: 0.0035\n",
      "Epoch 16/200\n",
      "296/296 [==============================] - 7s 22ms/step - loss: 0.0031 - val_loss: 0.0034\n",
      "Epoch 17/200\n",
      "296/296 [==============================] - 6s 21ms/step - loss: 0.0031 - val_loss: 0.0034\n",
      "Epoch 18/200\n",
      "296/296 [==============================] - 6s 20ms/step - loss: 0.0030 - val_loss: 0.0034\n",
      "Epoch 19/200\n",
      "296/296 [==============================] - 6s 20ms/step - loss: 0.0030 - val_loss: 0.0034\n",
      "Epoch 00019: early stopping\n",
      "Epoch 1/200\n",
      "296/296 [==============================] - 7s 25ms/step - loss: 0.0332 - val_loss: 0.0133\n",
      "Epoch 2/200\n",
      "296/296 [==============================] - 6s 22ms/step - loss: 0.0096 - val_loss: 0.0075\n",
      "Epoch 3/200\n",
      "296/296 [==============================] - 6s 21ms/step - loss: 0.0064 - val_loss: 0.0057\n",
      "Epoch 4/200\n",
      "296/296 [==============================] - 6s 20ms/step - loss: 0.0051 - val_loss: 0.0048\n",
      "Epoch 5/200\n",
      "296/296 [==============================] - 6s 20ms/step - loss: 0.0044 - val_loss: 0.0044\n",
      "Epoch 6/200\n",
      "296/296 [==============================] - 6s 20ms/step - loss: 0.0040 - val_loss: 0.0041\n",
      "Epoch 7/200\n",
      "296/296 [==============================] - 6s 20ms/step - loss: 0.0038 - val_loss: 0.0039\n",
      "Epoch 8/200\n",
      "296/296 [==============================] - 6s 20ms/step - loss: 0.0036 - val_loss: 0.0038\n",
      "Epoch 9/200\n",
      "296/296 [==============================] - 6s 20ms/step - loss: 0.0035 - val_loss: 0.0037\n",
      "Epoch 10/200\n",
      "296/296 [==============================] - 6s 20ms/step - loss: 0.0034 - val_loss: 0.0036\n",
      "Epoch 11/200\n",
      "296/296 [==============================] - 6s 20ms/step - loss: 0.0033 - val_loss: 0.0036\n",
      "Epoch 12/200\n",
      "296/296 [==============================] - 6s 20ms/step - loss: 0.0032 - val_loss: 0.0035\n",
      "Epoch 13/200\n",
      "296/296 [==============================] - 6s 21ms/step - loss: 0.0032 - val_loss: 0.0035\n",
      "Epoch 14/200\n",
      "296/296 [==============================] - 7s 22ms/step - loss: 0.0031 - val_loss: 0.0035\n",
      "Epoch 15/200\n",
      "296/296 [==============================] - 6s 21ms/step - loss: 0.0031 - val_loss: 0.0035\n",
      "Epoch 16/200\n",
      "296/296 [==============================] - 6s 20ms/step - loss: 0.0031 - val_loss: 0.0035\n",
      "Epoch 17/200\n",
      "296/296 [==============================] - 6s 20ms/step - loss: 0.0031 - val_loss: 0.0035\n",
      "Epoch 00017: early stopping\n"
     ]
    },
    {
     "data": {
      "text/plain": [
       "[0.0034341193, 0.0034502463, 0.0034452411, 0.0034611467]"
      ]
     },
     "execution_count": 102,
     "metadata": {},
     "output_type": "execute_result"
    }
   ],
   "source": [
    "from sklearn.model_selection import KFold, train_test_split\n",
    "noisy_train, noisy_test, clean_train, clean_test = train_test_split(full_noisy, full_clean, test_size=0.2, shuffle=True, random_state=11)\n",
    "\n",
    "kf = KFold(n_splits=4, shuffle=True, random_state=11)\n",
    "kf.get_n_splits(noisy_train)\n",
    "out = []\n",
    "for train_index, validate_index in kf.split(noisy_train):\n",
    "    autoencoder_kfold = build_model_6(best_hyperparameters)\n",
    "    history = train_model_kfold(autoencoder_kfold, 200, noisy_train.iloc[train_index], clean_train.iloc[train_index], noisy_train.iloc[validate_index], clean_train.iloc[validate_index])\n",
    "    test_denoised_kfold = autoencoder_kfold.predict(noisy_test)\n",
    "    test_denoised_kfold = pd.DataFrame(test_denoised_kfold)\n",
    "    out.append(mean_squared_error(test_denoised_kfold, clean_test))\n",
    "out"
   ]
  },
  {
   "cell_type": "code",
   "execution_count": 103,
   "metadata": {},
   "outputs": [
    {
     "data": {
      "image/png": "[encoded data removed]",
      "text/plain": [
       "<Figure size 432x288 with 1 Axes>"
      ]
     },
     "metadata": {
      "image/png": {
       "height": 248,
       "width": 251
      },
      "needs_background": "light"
     },
     "output_type": "display_data"
    }
   ],
   "source": [
    "# Let's confirm that the denoiser works.\n",
    "image_pixels = noisy_test.iloc[0]\n",
    "\n",
    "# In order to plot an image, you need to reshape\n",
    "# the array into a 28x28 grid.\n",
    "image_pixels = image_pixels.values.reshape(28, 28)\n",
    "\n",
    "plt.imshow(image_pixels, cmap='binary')\n",
    "plt.show()"
   ]
  },
  {
   "cell_type": "code",
   "execution_count": 104,
   "metadata": {},
   "outputs": [
    {
     "data": {
      "image/png": "[encoded data removed]",
      "text/plain": [
       "<Figure size 432x288 with 1 Axes>"
      ]
     },
     "metadata": {
      "image/png": {
       "height": 248,
       "width": 251
      },
      "needs_background": "light"
     },
     "output_type": "display_data"
    }
   ],
   "source": [
    "# Let's confirm that the denoiser works.\n",
    "image_pixels = test_denoised_kfold.iloc[0]\n",
    "\n",
    "# In order to plot an image, you need to reshape\n",
    "# the array into a 28x28 grid.\n",
    "image_pixels = image_pixels.values.reshape(28, 28)\n",
    "\n",
    "plt.imshow(image_pixels, cmap='binary')\n",
    "plt.show()"
   ]
  },
  {
   "cell_type": "code",
   "execution_count": 105,
   "metadata": {},
   "outputs": [
    {
     "data": {
      "image/png": "[encoded data removed]",
      "text/plain": [
       "<Figure size 432x288 with 1 Axes>"
      ]
     },
     "metadata": {
      "image/png": {
       "height": 248,
       "width": 251
      },
      "needs_background": "light"
     },
     "output_type": "display_data"
    }
   ],
   "source": [
    "# Let's confirm that the denoiser works.\n",
    "image_pixels = clean_test.iloc[0]\n",
    "\n",
    "# In order to plot an image, you need to reshape\n",
    "# the array into a 28x28 grid.\n",
    "image_pixels = image_pixels.values.reshape(28, 28)\n",
    "\n",
    "plt.imshow(image_pixels, cmap='binary')\n",
    "plt.show()"
   ]
  },
  {
   "cell_type": "markdown",
   "metadata": {},
   "source": [
    "## Assignment Output"
   ]
  },
  {
   "cell_type": "code",
   "execution_count": 106,
   "metadata": {},
   "outputs": [],
   "source": [
    "autoencoder = autoencoder_6"
   ]
  },
  {
   "cell_type": "code",
   "execution_count": 107,
   "metadata": {},
   "outputs": [],
   "source": [
    "import os \n",
    "\n",
    "model_dir = 'denoiser_model'\n",
    "\n",
    "os.makedirs(model_dir, exist_ok=True)\n",
    "\n",
    "# Once you are ready to make the graded submission,\n",
    "# run the autoencoder on the score noisy dataset.\n",
    "score_denoised_X = pd.DataFrame(\n",
    "    autoencoder.predict(score_noisy_X),\n",
    "    # This is needed to save the file in Parquet format.\n",
    "    columns=score_noisy_X.columns\n",
    ")\n",
    "\n",
    "# Now save it to disc as a Parquet file.\n",
    "score_denoised_X.to_parquet(f'{model_dir}/score_denoised_x.parquet')\n",
    "\n",
    "# Next, let's save the model's definition.\n",
    "import json\n",
    "with open(f'{model_dir}/keras_model.json', 'w') as f:\n",
    "    f.write(json.dumps(json.loads(autoencoder.to_json()), indent=True))\n",
    "\n",
    "# Finally, let's save the learned parameters.\n",
    "autoencoder.save_weights(f'{model_dir}/keras_parameters.h5')\n",
    "\n",
    "# You now have the following files to be uploaded to Moodle:\n",
    "# 1. This notebook and any other Python code you used to train the final model.\n",
    "# 2. keras_model.json -- the model's definition\n",
    "# 3. keras_parameters.json -- the model's trained parameters\n",
    "# 4. score_denoised_X.parquet - the model's output on the score dataset"
   ]
  }
 ],
 "metadata": {
  "kernelspec": {
   "display_name": "Python 3",
   "language": "python",
   "name": "python3"
  },
  "language_info": {
   "codemirror_mode": {
    "name": "ipython",
    "version": 3
   },
   "file_extension": ".py",
   "mimetype": "text/x-python",
   "name": "python",
   "nbconvert_exporter": "python",
   "pygments_lexer": "ipython3",
   "version": "3.8.3"
  }
 },
 "nbformat": 4,
 "nbformat_minor": 4
}
